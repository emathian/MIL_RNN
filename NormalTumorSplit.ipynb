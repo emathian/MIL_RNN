{
 "cells": [
  {
   "cell_type": "code",
   "execution_count": 1,
   "id": "c0052838",
   "metadata": {},
   "outputs": [],
   "source": [
    "import os \n",
    "import pandas as pd\n",
    "import shutil\n",
    "import json\n",
    "import cv2"
   ]
  },
  {
   "cell_type": "markdown",
   "id": "29278428",
   "metadata": {},
   "source": [
    "# Normal samples\n",
    "## To train"
   ]
  },
  {
   "cell_type": "code",
   "execution_count": 2,
   "id": "996c11e6",
   "metadata": {},
   "outputs": [],
   "source": [
    "NormalLungHENorm = '/data/gcs/lungNENomics/work/MathianE/Tiles_512_512_NormalLungHENorm'\n",
    "NormalLungHENorm_l = os.listdir(NormalLungHENorm)\n",
    "totTrainNorm = 0\n",
    "SlidesNameNormalTrain = []\n",
    "TilesPathNormalTrain = []\n",
    "TargetNormalTrain = []\n",
    "for s in NormalLungHENorm_l:\n",
    "    SlidesNameNormalTrain.append(s)\n",
    "    s_tiles  = []\n",
    "    TargetNormalTrain.append(1)\n",
    "    ToAcc = os.path.join(NormalLungHENorm, s, 'accept')\n",
    "    ToAcc_l =  os.listdir(ToAcc)\n",
    "    totTrainNorm += len(ToAcc_l)\n",
    "    for t in ToAcc_l:\n",
    "        s_tiles.append(os.path.join(NormalLungHENorm, s, 'accept', t))\n",
    "    TilesPathNormalTrain.append(s_tiles)\n",
    "        "
   ]
  },
  {
   "cell_type": "code",
   "execution_count": 3,
   "id": "9e8b295b",
   "metadata": {},
   "outputs": [
    {
     "data": {
      "text/plain": [
       "130"
      ]
     },
     "execution_count": 3,
     "metadata": {},
     "output_type": "execute_result"
    }
   ],
   "source": [
    "len(SlidesNameNormalTrain)"
   ]
  },
  {
   "cell_type": "code",
   "execution_count": 4,
   "id": "dfec97c0",
   "metadata": {},
   "outputs": [
    {
     "data": {
      "text/plain": [
       "['NL-65',\n",
       " 'NL-46',\n",
       " 'NL-123',\n",
       " 'NL-61',\n",
       " 'NL-50',\n",
       " 'NL-26',\n",
       " 'NL-111',\n",
       " 'NL-11',\n",
       " 'NL-14',\n",
       " 'NL-75']"
      ]
     },
     "execution_count": 4,
     "metadata": {},
     "output_type": "execute_result"
    }
   ],
   "source": [
    "SlidesNameNormalTrain[:10]"
   ]
  },
  {
   "cell_type": "code",
   "execution_count": 5,
   "id": "cfcc5416",
   "metadata": {},
   "outputs": [
    {
     "data": {
      "text/plain": [
       "130"
      ]
     },
     "execution_count": 5,
     "metadata": {},
     "output_type": "execute_result"
    }
   ],
   "source": [
    "len(TilesPathNormalTrain)"
   ]
  },
  {
   "cell_type": "code",
   "execution_count": 6,
   "id": "66957ac7",
   "metadata": {},
   "outputs": [
    {
     "data": {
      "text/plain": [
       "130"
      ]
     },
     "execution_count": 6,
     "metadata": {},
     "output_type": "execute_result"
    }
   ],
   "source": [
    "len(TargetNormalTrain)"
   ]
  },
  {
   "cell_type": "code",
   "execution_count": 7,
   "id": "f2528733",
   "metadata": {},
   "outputs": [],
   "source": [
    "cs = 0 \n",
    "for sample in SlidesNameNormalTrain:\n",
    "    for tiles in TilesPathNormalTrain[cs]:\n",
    "        folder_sample = tiles.split('/')[7]\n",
    "        files_sample = tiles.split('/')[9].split('_')[0]\n",
    "        \n",
    "        if folder_sample != sample or files_sample != sample:\n",
    "            print(sample, tiles)\n",
    "    cs +=1 "
   ]
  },
  {
   "cell_type": "code",
   "execution_count": 8,
   "id": "426267d7",
   "metadata": {},
   "outputs": [
    {
     "data": {
      "text/plain": [
       "['/data/gcs/lungNENomics/work/MathianE/Tiles_512_512_NormalLungHENorm/NL-65/accept/NL-65_35113_10165.jpg',\n",
       " '/data/gcs/lungNENomics/work/MathianE/Tiles_512_512_NormalLungHENorm/NL-65/accept/NL-65_32341_5545.jpg',\n",
       " '/data/gcs/lungNENomics/work/MathianE/Tiles_512_512_NormalLungHENorm/NL-65/accept/NL-65_32341_6469.jpg',\n",
       " '/data/gcs/lungNENomics/work/MathianE/Tiles_512_512_NormalLungHENorm/NL-65/accept/NL-65_34189_10165.jpg',\n",
       " '/data/gcs/lungNENomics/work/MathianE/Tiles_512_512_NormalLungHENorm/NL-65/accept/NL-65_47125_32341.jpg',\n",
       " '/data/gcs/lungNENomics/work/MathianE/Tiles_512_512_NormalLungHENorm/NL-65/accept/NL-65_33265_7393.jpg',\n",
       " '/data/gcs/lungNENomics/work/MathianE/Tiles_512_512_NormalLungHENorm/NL-65/accept/NL-65_45277_6469.jpg']"
      ]
     },
     "execution_count": 8,
     "metadata": {},
     "output_type": "execute_result"
    }
   ],
   "source": [
    "TilesPathNormalTrain[0]"
   ]
  },
  {
   "cell_type": "code",
   "execution_count": 9,
   "id": "0757deeb",
   "metadata": {},
   "outputs": [
    {
     "data": {
      "text/plain": [
       "8095"
      ]
     },
     "execution_count": 9,
     "metadata": {},
     "output_type": "execute_result"
    }
   ],
   "source": [
    "totTrainNorm"
   ]
  },
  {
   "cell_type": "markdown",
   "id": "8858c810",
   "metadata": {},
   "source": [
    "## To val"
   ]
  },
  {
   "cell_type": "code",
   "execution_count": 10,
   "id": "c454ad51",
   "metadata": {},
   "outputs": [],
   "source": [
    "NormalLungHENormVal = \"/data/gcs/lungNENomics/work/MathianE/Tiles_512_512_fullHENorm_from1802Dir\"\n",
    "NormalLungHENormVal_l = os.listdir(NormalLungHENormVal)\n",
    "NormalSampleVal = ['TNE0416', 'TNE0970', 'TNE0994', 'TNE1084', 'TNE1432']\n",
    "SlidesNameNormalVal = []\n",
    "TilesPathNormalVal = []\n",
    "TargetNormalVal = []\n",
    "totVal = 0 \n",
    "for s in NormalLungHENormVal_l:\n",
    "    if s in NormalSampleVal:\n",
    "        SlidesNameNormalVal.append(s)\n",
    "        s_tiles  = []\n",
    "        TargetNormalVal.append(1)\n",
    "        ToAcc = os.path.join(NormalLungHENormVal, s, 'accept')\n",
    "        ToAcc_l =  os.listdir(ToAcc)\n",
    "        totVal += len(ToAcc_l)\n",
    "        for t in ToAcc_l:\n",
    "            s_tiles.append(os.path.join(NormalLungHENormVal, s, 'accept', t))\n",
    "        TilesPathNormalVal.append(s_tiles)\n",
    "        "
   ]
  },
  {
   "cell_type": "code",
   "execution_count": 11,
   "id": "8e6d527e",
   "metadata": {},
   "outputs": [
    {
     "data": {
      "text/plain": [
       "5"
      ]
     },
     "execution_count": 11,
     "metadata": {},
     "output_type": "execute_result"
    }
   ],
   "source": [
    "len(SlidesNameNormalVal)"
   ]
  },
  {
   "cell_type": "code",
   "execution_count": 12,
   "id": "cc4b5304",
   "metadata": {},
   "outputs": [
    {
     "data": {
      "text/plain": [
       "5"
      ]
     },
     "execution_count": 12,
     "metadata": {},
     "output_type": "execute_result"
    }
   ],
   "source": [
    "len(TilesPathNormalVal)"
   ]
  },
  {
   "cell_type": "code",
   "execution_count": 13,
   "id": "b8b86f87",
   "metadata": {},
   "outputs": [
    {
     "data": {
      "text/plain": [
       "['/data/gcs/lungNENomics/work/MathianE/Tiles_512_512_fullHENorm_from1802Dir/TNE0416/accept/TNE0416_65605_38809.jpg',\n",
       " '/data/gcs/lungNENomics/work/MathianE/Tiles_512_512_fullHENorm_from1802Dir/TNE0416/accept/TNE0416_28645_51745.jpg',\n",
       " '/data/gcs/lungNENomics/work/MathianE/Tiles_512_512_fullHENorm_from1802Dir/TNE0416/accept/TNE0416_62833_37885.jpg',\n",
       " '/data/gcs/lungNENomics/work/MathianE/Tiles_512_512_fullHENorm_from1802Dir/TNE0416/accept/TNE0416_25873_32341.jpg',\n",
       " '/data/gcs/lungNENomics/work/MathianE/Tiles_512_512_fullHENorm_from1802Dir/TNE0416/accept/TNE0416_64681_64681.jpg',\n",
       " '/data/gcs/lungNENomics/work/MathianE/Tiles_512_512_fullHENorm_from1802Dir/TNE0416/accept/TNE0416_60061_68377.jpg',\n",
       " '/data/gcs/lungNENomics/work/MathianE/Tiles_512_512_fullHENorm_from1802Dir/TNE0416/accept/TNE0416_56365_36037.jpg',\n",
       " '/data/gcs/lungNENomics/work/MathianE/Tiles_512_512_fullHENorm_from1802Dir/TNE0416/accept/TNE0416_29569_39733.jpg',\n",
       " '/data/gcs/lungNENomics/work/MathianE/Tiles_512_512_fullHENorm_from1802Dir/TNE0416/accept/TNE0416_65605_65605.jpg',\n",
       " '/data/gcs/lungNENomics/work/MathianE/Tiles_512_512_fullHENorm_from1802Dir/TNE0416/accept/TNE0416_37885_36037.jpg']"
      ]
     },
     "execution_count": 13,
     "metadata": {},
     "output_type": "execute_result"
    }
   ],
   "source": [
    "TilesPathNormalVal[0][:10]"
   ]
  },
  {
   "cell_type": "code",
   "execution_count": 14,
   "id": "2b04794e",
   "metadata": {},
   "outputs": [
    {
     "data": {
      "text/plain": [
       "319"
      ]
     },
     "execution_count": 14,
     "metadata": {},
     "output_type": "execute_result"
    }
   ],
   "source": [
    "len(TilesPathNormalVal[0])"
   ]
  },
  {
   "cell_type": "code",
   "execution_count": 15,
   "id": "cbc1917b",
   "metadata": {},
   "outputs": [
    {
     "data": {
      "text/plain": [
       "5"
      ]
     },
     "execution_count": 15,
     "metadata": {},
     "output_type": "execute_result"
    }
   ],
   "source": [
    "len(TargetNormalVal)"
   ]
  },
  {
   "cell_type": "code",
   "execution_count": 16,
   "id": "a697d852",
   "metadata": {},
   "outputs": [
    {
     "data": {
      "text/plain": [
       "1519"
      ]
     },
     "execution_count": 16,
     "metadata": {},
     "output_type": "execute_result"
    }
   ],
   "source": [
    "totVal\n"
   ]
  },
  {
   "cell_type": "code",
   "execution_count": 17,
   "id": "483b1785",
   "metadata": {},
   "outputs": [],
   "source": [
    "cs = 0 \n",
    "for sample in SlidesNameNormalVal:\n",
    "    for tiles in TilesPathNormalVal[cs]:\n",
    "        folder_sample = tiles.split('/')[7]\n",
    "        files_sample = tiles.split('/')[9].split('_')[0]\n",
    "        \n",
    "        if folder_sample != sample or files_sample != sample:\n",
    "            print(sample, tiles)\n",
    "    cs +=1 "
   ]
  },
  {
   "cell_type": "markdown",
   "id": "518b563a",
   "metadata": {},
   "source": [
    "## Tumoral sample"
   ]
  },
  {
   "cell_type": "code",
   "execution_count": 18,
   "id": "24f11855",
   "metadata": {},
   "outputs": [],
   "source": [
    "with open('Train.json') as json_file:\n",
    "            lib = json.load(json_file)\n",
    "slides = lib['Slides']"
   ]
  },
  {
   "cell_type": "code",
   "execution_count": 19,
   "id": "d7c7c07c",
   "metadata": {},
   "outputs": [
    {
     "data": {
      "text/plain": [
       "1015322"
      ]
     },
     "execution_count": 19,
     "metadata": {},
     "output_type": "execute_result"
    }
   ],
   "source": [
    "## Tot number of tiles  \n",
    "tot_number_of_files = 0\n",
    "TilesM = lib['Tiles']\n",
    "for i in TilesM:\n",
    "    tot_number_of_files += len(i)\n",
    "tot_number_of_files"
   ]
  },
  {
   "cell_type": "code",
   "execution_count": 20,
   "id": "35520d4e",
   "metadata": {},
   "outputs": [
    {
     "data": {
      "text/plain": [
       "271"
      ]
     },
     "execution_count": 20,
     "metadata": {},
     "output_type": "execute_result"
    }
   ],
   "source": [
    "len(slides)"
   ]
  },
  {
   "cell_type": "code",
   "execution_count": 21,
   "id": "de8cf321",
   "metadata": {},
   "outputs": [
    {
     "data": {
      "text/plain": [
       "3746.5756457564576"
      ]
     },
     "execution_count": 21,
     "metadata": {},
     "output_type": "execute_result"
    }
   ],
   "source": [
    "tot_number_of_files / len(slides)"
   ]
  },
  {
   "cell_type": "code",
   "execution_count": 22,
   "id": "fb8f14d2",
   "metadata": {},
   "outputs": [],
   "source": [
    "import random "
   ]
  },
  {
   "cell_type": "code",
   "execution_count": 23,
   "id": "f7529aed",
   "metadata": {},
   "outputs": [],
   "source": [
    "randomlist = [] \n",
    "for i in range(0,len(slides)): \n",
    "    n = random. randint(0,len(slides))\n",
    "    randomlist.append(n)"
   ]
  },
  {
   "cell_type": "code",
   "execution_count": 24,
   "id": "776564a5",
   "metadata": {},
   "outputs": [
    {
     "data": {
      "text/plain": [
       "[96,\n",
       " 194,\n",
       " 136,\n",
       " 260,\n",
       " 246,\n",
       " 236,\n",
       " 32,\n",
       " 132,\n",
       " 114,\n",
       " 222,\n",
       " 214,\n",
       " 118,\n",
       " 21,\n",
       " 69,\n",
       " 109,\n",
       " 68,\n",
       " 88,\n",
       " 39,\n",
       " 25,\n",
       " 182,\n",
       " 166,\n",
       " 84,\n",
       " 262,\n",
       " 169,\n",
       " 33,\n",
       " 94,\n",
       " 8,\n",
       " 65,\n",
       " 45,\n",
       " 185,\n",
       " 146,\n",
       " 104,\n",
       " 231,\n",
       " 21,\n",
       " 243,\n",
       " 215,\n",
       " 56,\n",
       " 43,\n",
       " 87,\n",
       " 242,\n",
       " 108,\n",
       " 132,\n",
       " 177,\n",
       " 128,\n",
       " 21,\n",
       " 63,\n",
       " 76,\n",
       " 77,\n",
       " 88,\n",
       " 133,\n",
       " 24,\n",
       " 52,\n",
       " 143,\n",
       " 54,\n",
       " 180,\n",
       " 180,\n",
       " 15,\n",
       " 73,\n",
       " 103,\n",
       " 31,\n",
       " 77,\n",
       " 140,\n",
       " 19,\n",
       " 187,\n",
       " 197,\n",
       " 51,\n",
       " 198,\n",
       " 27,\n",
       " 260,\n",
       " 107,\n",
       " 98,\n",
       " 267,\n",
       " 41,\n",
       " 118,\n",
       " 49,\n",
       " 222,\n",
       " 224,\n",
       " 238,\n",
       " 159,\n",
       " 223,\n",
       " 121,\n",
       " 243,\n",
       " 192,\n",
       " 199,\n",
       " 134,\n",
       " 254,\n",
       " 100,\n",
       " 15,\n",
       " 131,\n",
       " 118,\n",
       " 151,\n",
       " 252,\n",
       " 110,\n",
       " 205,\n",
       " 6,\n",
       " 207,\n",
       " 253,\n",
       " 102,\n",
       " 6,\n",
       " 226,\n",
       " 118,\n",
       " 240,\n",
       " 98,\n",
       " 227,\n",
       " 175,\n",
       " 226,\n",
       " 123,\n",
       " 197,\n",
       " 58,\n",
       " 41,\n",
       " 261,\n",
       " 227,\n",
       " 51,\n",
       " 68,\n",
       " 136,\n",
       " 77,\n",
       " 71,\n",
       " 177,\n",
       " 89,\n",
       " 11,\n",
       " 251,\n",
       " 170,\n",
       " 215,\n",
       " 199,\n",
       " 113,\n",
       " 251,\n",
       " 49,\n",
       " 252,\n",
       " 111,\n",
       " 98,\n",
       " 10,\n",
       " 154,\n",
       " 251,\n",
       " 37,\n",
       " 200,\n",
       " 120,\n",
       " 126,\n",
       " 25,\n",
       " 84,\n",
       " 174,\n",
       " 64,\n",
       " 116,\n",
       " 265,\n",
       " 43,\n",
       " 253,\n",
       " 164,\n",
       " 210,\n",
       " 121,\n",
       " 25,\n",
       " 162,\n",
       " 129,\n",
       " 79,\n",
       " 161,\n",
       " 222,\n",
       " 166,\n",
       " 175,\n",
       " 162,\n",
       " 11,\n",
       " 205,\n",
       " 98,\n",
       " 257,\n",
       " 248,\n",
       " 271,\n",
       " 90,\n",
       " 237,\n",
       " 73,\n",
       " 191,\n",
       " 27,\n",
       " 110,\n",
       " 64,\n",
       " 216,\n",
       " 126,\n",
       " 230,\n",
       " 246,\n",
       " 19,\n",
       " 180,\n",
       " 131,\n",
       " 19,\n",
       " 252,\n",
       " 93,\n",
       " 49,\n",
       " 256,\n",
       " 180,\n",
       " 129,\n",
       " 43,\n",
       " 41,\n",
       " 82,\n",
       " 93,\n",
       " 90,\n",
       " 139,\n",
       " 78,\n",
       " 140,\n",
       " 98,\n",
       " 66,\n",
       " 205,\n",
       " 264,\n",
       " 104,\n",
       " 26,\n",
       " 175,\n",
       " 28,\n",
       " 105,\n",
       " 20,\n",
       " 68,\n",
       " 109,\n",
       " 248,\n",
       " 53,\n",
       " 259,\n",
       " 144,\n",
       " 178,\n",
       " 69,\n",
       " 194,\n",
       " 60,\n",
       " 11,\n",
       " 201,\n",
       " 39,\n",
       " 12,\n",
       " 195,\n",
       " 64,\n",
       " 36,\n",
       " 175,\n",
       " 237,\n",
       " 24,\n",
       " 11,\n",
       " 137,\n",
       " 210,\n",
       " 90,\n",
       " 115,\n",
       " 212,\n",
       " 178,\n",
       " 99,\n",
       " 189,\n",
       " 92,\n",
       " 141,\n",
       " 250,\n",
       " 173,\n",
       " 240,\n",
       " 68,\n",
       " 12,\n",
       " 30,\n",
       " 179,\n",
       " 131,\n",
       " 262,\n",
       " 150,\n",
       " 232,\n",
       " 209,\n",
       " 252,\n",
       " 181,\n",
       " 132,\n",
       " 98,\n",
       " 205,\n",
       " 262,\n",
       " 190,\n",
       " 110,\n",
       " 175,\n",
       " 171,\n",
       " 44,\n",
       " 143,\n",
       " 255,\n",
       " 79,\n",
       " 203,\n",
       " 263,\n",
       " 166,\n",
       " 210,\n",
       " 88,\n",
       " 102,\n",
       " 86,\n",
       " 135,\n",
       " 28,\n",
       " 55,\n",
       " 90,\n",
       " 46]"
      ]
     },
     "execution_count": 24,
     "metadata": {},
     "output_type": "execute_result"
    }
   ],
   "source": [
    "randomlist"
   ]
  },
  {
   "cell_type": "code",
   "execution_count": 25,
   "id": "8499e365",
   "metadata": {},
   "outputs": [
    {
     "data": {
      "text/plain": [
       "69.23076923076923"
      ]
     },
     "execution_count": 25,
     "metadata": {},
     "output_type": "execute_result"
    }
   ],
   "source": [
    "# Nombre de tuiles acceptees par slide de poumon sain\n",
    "9000 / 130"
   ]
  },
  {
   "cell_type": "code",
   "execution_count": 26,
   "id": "ce4750be",
   "metadata": {},
   "outputs": [
    {
     "data": {
      "text/plain": [
       "3746.5756457564576"
      ]
     },
     "execution_count": 26,
     "metadata": {},
     "output_type": "execute_result"
    }
   ],
   "source": [
    "# Nombre de tuiles acceptees par slide de poumon tumoral\n",
    "tot_number_of_files / len(slides)"
   ]
  },
  {
   "cell_type": "code",
   "execution_count": 27,
   "id": "e3aeb209",
   "metadata": {},
   "outputs": [
    {
     "data": {
      "text/plain": [
       "0.018666666666666668"
      ]
     },
     "execution_count": 27,
     "metadata": {},
     "output_type": "execute_result"
    }
   ],
   "source": [
    "# Ratio\n",
    "70 / 3750 # 2%"
   ]
  },
  {
   "cell_type": "code",
   "execution_count": 28,
   "id": "f8e79809",
   "metadata": {},
   "outputs": [
    {
     "data": {
      "text/plain": [
       "450000.0"
      ]
     },
     "execution_count": 28,
     "metadata": {},
     "output_type": "execute_result"
    }
   ],
   "source": [
    "9000 * 100 / 2"
   ]
  },
  {
   "cell_type": "code",
   "execution_count": 29,
   "id": "98687133",
   "metadata": {},
   "outputs": [
    {
     "data": {
      "text/plain": [
       "303.8"
      ]
     },
     "execution_count": 29,
     "metadata": {},
     "output_type": "execute_result"
    }
   ],
   "source": [
    "1519 / 5\n"
   ]
  },
  {
   "cell_type": "code",
   "execution_count": 30,
   "id": "6f01e0d8",
   "metadata": {},
   "outputs": [
    {
     "data": {
      "text/plain": [
       "0.08"
      ]
     },
     "execution_count": 30,
     "metadata": {},
     "output_type": "execute_result"
    }
   ],
   "source": [
    "300 / 3750"
   ]
  },
  {
   "cell_type": "markdown",
   "id": "806624e3",
   "metadata": {},
   "source": [
    "**Nous ferons l'hypothèse qu'environs 10% des tuiles acceptées dans les WSI proviennent de région non tumorale.** 1519 / 5 = 300 tuiles par WSI sont non tumorales soit 8%, ceci semble une hypothèse pertinente car ces échantillons ont par erreur été classes comme tumorales."
   ]
  },
  {
   "cell_type": "code",
   "execution_count": 31,
   "id": "be67b477",
   "metadata": {},
   "outputs": [],
   "source": [
    "train_tiles = 0 \n",
    "index = 0 \n",
    "SampleTumorTrain = []\n",
    "TargetTumorTrain = []\n",
    "TilesTumorsTrain = []\n",
    "NormalSampleVal = ['TNE0416', 'TNE0970', 'TNE0994', 'TNE1084', 'TNE1432']\n",
    "\n",
    "while totTrainNorm * 10 > train_tiles:\n",
    "    c_sample = slides[randomlist[index]]\n",
    "    if c_sample not in NormalSampleVal:\n",
    "        SampleTumorTrain.append(c_sample)\n",
    "        TargetTumorTrain.append(0)\n",
    "        TilesTumorsTrain.append(TilesM[randomlist[index]])\n",
    "        train_tiles += len(TilesM[index])\n",
    "    index += 1\n",
    "    "
   ]
  },
  {
   "cell_type": "code",
   "execution_count": 32,
   "id": "a25c0626",
   "metadata": {},
   "outputs": [
    {
     "data": {
      "text/plain": [
       "80950"
      ]
     },
     "execution_count": 32,
     "metadata": {},
     "output_type": "execute_result"
    }
   ],
   "source": [
    "totTrainNorm * 10"
   ]
  },
  {
   "cell_type": "code",
   "execution_count": 33,
   "id": "683388b9",
   "metadata": {},
   "outputs": [
    {
     "data": {
      "text/plain": [
       "23"
      ]
     },
     "execution_count": 33,
     "metadata": {},
     "output_type": "execute_result"
    }
   ],
   "source": [
    "len(SampleTumorTrain)"
   ]
  },
  {
   "cell_type": "code",
   "execution_count": 34,
   "id": "51181a33",
   "metadata": {},
   "outputs": [
    {
     "data": {
      "text/plain": [
       "23"
      ]
     },
     "execution_count": 34,
     "metadata": {},
     "output_type": "execute_result"
    }
   ],
   "source": [
    "len(TargetTumorTrain)"
   ]
  },
  {
   "cell_type": "code",
   "execution_count": 35,
   "id": "adc9129a",
   "metadata": {},
   "outputs": [
    {
     "data": {
      "text/plain": [
       "2251"
      ]
     },
     "execution_count": 35,
     "metadata": {},
     "output_type": "execute_result"
    }
   ],
   "source": [
    "len(TilesTumorsTrain[0])"
   ]
  },
  {
   "cell_type": "code",
   "execution_count": 36,
   "id": "d6f09039",
   "metadata": {},
   "outputs": [
    {
     "data": {
      "text/plain": [
       "23"
      ]
     },
     "execution_count": 36,
     "metadata": {},
     "output_type": "execute_result"
    }
   ],
   "source": [
    "len(TilesTumorsTrain)"
   ]
  },
  {
   "cell_type": "code",
   "execution_count": 37,
   "id": "32be1850",
   "metadata": {},
   "outputs": [],
   "source": [
    "cs = 0 \n",
    "for sample in SampleTumorTrain:\n",
    "    for tiles in TilesTumorsTrain[cs]:\n",
    "        folder_sample = tiles.split('/')[7]\n",
    "        files_sample = tiles.split('/')[9].split('_')[0]\n",
    "        \n",
    "        if folder_sample != sample or files_sample != sample:\n",
    "            print(sample, tiles)\n",
    "    cs +=1 "
   ]
  },
  {
   "cell_type": "markdown",
   "id": "82b60bf1",
   "metadata": {},
   "source": [
    "## To val"
   ]
  },
  {
   "cell_type": "code",
   "execution_count": 38,
   "id": "3431b25b",
   "metadata": {},
   "outputs": [],
   "source": [
    "val_tiles = 0 \n",
    "index = 0 \n",
    "SampleTumorVal = []\n",
    "TargetTumorVal = []\n",
    "TilesTumorsVal = []\n",
    "NormalSampleVal = ['TNE0416', 'TNE0970', 'TNE0994', 'TNE1084', 'TNE1432']\n",
    "\n",
    "while totVal * 10 > val_tiles:\n",
    "    c_sample = slides[randomlist[index]]\n",
    "    if c_sample not in NormalSampleVal and c_sample not in SampleTumorTrain:\n",
    "        SampleTumorVal.append(c_sample)\n",
    "        TargetTumorVal.append(0)\n",
    "        TilesTumorsVal.append(TilesM[randomlist[index]])\n",
    "        val_tiles += len(TilesM[index])\n",
    "    index += 1\n",
    "    "
   ]
  },
  {
   "cell_type": "code",
   "execution_count": 39,
   "id": "de63fc9f",
   "metadata": {},
   "outputs": [],
   "source": [
    "cs = 0 \n",
    "for sample in SampleTumorVal:\n",
    "    for tiles in TilesTumorsVal[cs]:\n",
    "        folder_sample = tiles.split('/')[7]\n",
    "        files_sample = tiles.split('/')[9].split('_')[0]\n",
    "        \n",
    "        if folder_sample != sample or files_sample != sample:\n",
    "            print(sample, tiles)\n",
    "    cs +=1 "
   ]
  },
  {
   "cell_type": "code",
   "execution_count": 40,
   "id": "9c72cc32",
   "metadata": {},
   "outputs": [
    {
     "data": {
      "text/plain": [
       "6"
      ]
     },
     "execution_count": 40,
     "metadata": {},
     "output_type": "execute_result"
    }
   ],
   "source": [
    "len(SampleTumorVal)"
   ]
  },
  {
   "cell_type": "code",
   "execution_count": 41,
   "id": "91c3a5e9",
   "metadata": {},
   "outputs": [
    {
     "data": {
      "text/plain": [
       "6"
      ]
     },
     "execution_count": 41,
     "metadata": {},
     "output_type": "execute_result"
    }
   ],
   "source": [
    "len(TargetTumorVal)"
   ]
  },
  {
   "cell_type": "code",
   "execution_count": 42,
   "id": "02b6a1bb",
   "metadata": {},
   "outputs": [
    {
     "data": {
      "text/plain": [
       "6"
      ]
     },
     "execution_count": 42,
     "metadata": {},
     "output_type": "execute_result"
    }
   ],
   "source": [
    "len(TilesTumorsVal)"
   ]
  },
  {
   "cell_type": "code",
   "execution_count": 43,
   "id": "2f825971",
   "metadata": {},
   "outputs": [
    {
     "data": {
      "text/plain": [
       "2494"
      ]
     },
     "execution_count": 43,
     "metadata": {},
     "output_type": "execute_result"
    }
   ],
   "source": [
    "len(TilesTumorsVal[0])"
   ]
  },
  {
   "cell_type": "markdown",
   "id": "31b1d96a",
   "metadata": {},
   "source": [
    "# Check"
   ]
  },
  {
   "cell_type": "markdown",
   "id": "d04503af",
   "metadata": {},
   "source": [
    "## Normal\n",
    "### Train\n",
    "+ SlidesNameNormalTrain \n",
    "+ TilesPathNormalTrain \n",
    "+ TargetNormalTrain \n",
    "\n",
    "### Val\n",
    "\n",
    "+ SlidesNameNormalVal \n",
    "+ TilesPathNormalVal \n",
    "+ TargetNormalVal "
   ]
  },
  {
   "cell_type": "code",
   "execution_count": 44,
   "id": "b987f5dc",
   "metadata": {},
   "outputs": [
    {
     "data": {
      "text/plain": [
       "set()"
      ]
     },
     "execution_count": 44,
     "metadata": {},
     "output_type": "execute_result"
    }
   ],
   "source": [
    "set(SlidesNameNormalTrain).intersection(set(SlidesNameNormalVal))"
   ]
  },
  {
   "cell_type": "code",
   "execution_count": 45,
   "id": "8d772a38",
   "metadata": {},
   "outputs": [
    {
     "data": {
      "text/plain": [
       "True"
      ]
     },
     "execution_count": 45,
     "metadata": {},
     "output_type": "execute_result"
    }
   ],
   "source": [
    "sum(TargetNormalTrain) == len(SlidesNameNormalTrain)"
   ]
  },
  {
   "cell_type": "code",
   "execution_count": 46,
   "id": "a9235f12",
   "metadata": {},
   "outputs": [
    {
     "data": {
      "text/plain": [
       "True"
      ]
     },
     "execution_count": 46,
     "metadata": {},
     "output_type": "execute_result"
    }
   ],
   "source": [
    "sum(TargetNormalVal) == len(SlidesNameNormalVal)"
   ]
  },
  {
   "cell_type": "markdown",
   "id": "8d646ecf",
   "metadata": {},
   "source": [
    "# Tumor\n",
    "## Train\n",
    "+ SampleTumorTrain \n",
    "+ TargetTumorTrain \n",
    "+ TilesTumorsTrain \n",
    "## Val\n",
    "+ SampleTumorVal \n",
    "+ TargetTumorVal \n",
    "+ TilesTumorsVal "
   ]
  },
  {
   "cell_type": "code",
   "execution_count": 47,
   "id": "3d55937d",
   "metadata": {},
   "outputs": [
    {
     "data": {
      "text/plain": [
       "set()"
      ]
     },
     "execution_count": 47,
     "metadata": {},
     "output_type": "execute_result"
    }
   ],
   "source": [
    "set(SlidesNameNormalTrain).intersection(set(SampleTumorVal))"
   ]
  },
  {
   "cell_type": "code",
   "execution_count": 48,
   "id": "749b6119",
   "metadata": {},
   "outputs": [
    {
     "data": {
      "text/plain": [
       "True"
      ]
     },
     "execution_count": 48,
     "metadata": {},
     "output_type": "execute_result"
    }
   ],
   "source": [
    "sum(TargetTumorTrain) == 0"
   ]
  },
  {
   "cell_type": "code",
   "execution_count": 49,
   "id": "f9484b07",
   "metadata": {},
   "outputs": [
    {
     "data": {
      "text/plain": [
       "True"
      ]
     },
     "execution_count": 49,
     "metadata": {},
     "output_type": "execute_result"
    }
   ],
   "source": [
    "sum(TargetTumorVal) == 0"
   ]
  },
  {
   "cell_type": "markdown",
   "id": "aea6c6d7",
   "metadata": {},
   "source": [
    "**WARNING: Normal encoded as 1 tumoral as 0**"
   ]
  },
  {
   "cell_type": "markdown",
   "id": "4582c869",
   "metadata": {},
   "source": [
    "### Dict"
   ]
  },
  {
   "cell_type": "code",
   "execution_count": 50,
   "id": "3fb0e146",
   "metadata": {},
   "outputs": [],
   "source": [
    "dict_MIL_train = {'Slides': SlidesNameNormalTrain + SampleTumorTrain , \n",
    "                 'Tiles':TilesPathNormalTrain + TilesTumorsTrain,\n",
    "                 'Targets': TargetNormalTrain + TargetTumorTrain}"
   ]
  },
  {
   "cell_type": "code",
   "execution_count": 51,
   "id": "3ce2beeb",
   "metadata": {},
   "outputs": [],
   "source": [
    "with open('TrainNormalTumoral.json', 'w') as fp:\n",
    "    json.dump(dict_MIL_train, fp)"
   ]
  },
  {
   "cell_type": "code",
   "execution_count": 52,
   "id": "55452a63",
   "metadata": {},
   "outputs": [],
   "source": [
    "dict_MIL_val = {'Slides': SlidesNameNormalVal + SampleTumorVal , \n",
    "                 'Tiles':TilesPathNormalVal + TilesTumorsVal,\n",
    "                 'Targets': TargetNormalVal + TargetTumorVal}"
   ]
  },
  {
   "cell_type": "code",
   "execution_count": 53,
   "id": "111c693f",
   "metadata": {},
   "outputs": [],
   "source": [
    "with open('ValNormalTumoral.json', 'w') as fp:\n",
    "    json.dump(dict_MIL_val, fp)"
   ]
  },
  {
   "cell_type": "code",
   "execution_count": 54,
   "id": "e92f58f2",
   "metadata": {},
   "outputs": [
    {
     "data": {
      "text/plain": [
       "['TNE0416',\n",
       " 'TNE0994',\n",
       " 'TNE0970',\n",
       " 'TNE1084',\n",
       " 'TNE1432',\n",
       " 'TNE0870',\n",
       " 'TNE0072',\n",
       " 'TNE0009',\n",
       " 'TNE0936',\n",
       " 'TNE2127',\n",
       " 'TNE0892']"
      ]
     },
     "execution_count": 54,
     "metadata": {},
     "output_type": "execute_result"
    }
   ],
   "source": [
    "dict_MIL_val['Slides']"
   ]
  },
  {
   "cell_type": "markdown",
   "id": "4ca4efb2",
   "metadata": {},
   "source": [
    "## Read all pictures"
   ]
  },
  {
   "cell_type": "code",
   "execution_count": 3,
   "id": "a7af4f2f",
   "metadata": {},
   "outputs": [],
   "source": []
  },
  {
   "cell_type": "code",
   "execution_count": 4,
   "id": "ddaf3a70",
   "metadata": {},
   "outputs": [
    {
     "data": {
      "text/plain": [
       "17642"
      ]
     },
     "execution_count": 4,
     "metadata": {},
     "output_type": "execute_result"
    }
   ],
   "source": []
  },
  {
   "cell_type": "code",
   "execution_count": 7,
   "id": "68bcc849",
   "metadata": {},
   "outputs": [
    {
     "name": "stdout",
     "output_type": "stream",
     "text": [
      "Process 50.0\n",
      "Process 100.0\n"
     ]
    }
   ],
   "source": [
    "import json\n",
    "import cv2\n",
    "import argparse\n",
    "parser = argparse.ArgumentParser(description='Check img validuty in set.')\n",
    "\n",
    "parser.add_argument('--x', type=int,    help=\"Input directory where the images are stored\")\n",
    "parser.add_argument('--y', type=int,    help=\"Input directory where the images are stored\")\n",
    "\n",
    "\n",
    "y = args.x\n",
    "x = args.y \n",
    "with open('ValNormalTumoral.json') as json_file:\n",
    "    lib = json.load(json_file)\n",
    "slides = lib['Slides'][int(len(lib['Slides']) * x / 100 ):round(len(lib['Slides']) * y / 100 )]\n",
    "tot_number_of_files = 0\n",
    "TilesM = lib['Tiles'][int(len(lib['Slides']) * x / 100 ):round(len(lib['Slides']) * y / 100 )]\n",
    "for i in TilesM:\n",
    "    tot_number_of_files += len(i)\n",
    "tot_number_of_files\n",
    "c = 0\n",
    "for IDX in range(len(slides)):\n",
    "    Tiles = lib['Tiles'][IDX]     \n",
    "    for t in Tiles:\n",
    "        c += 1\n",
    "        if c * 100 / tot_number_of_files % 5 == 0:\n",
    "            print('Process {}'.format( c * 100 / tot_number_of_files ))\n",
    "        try:\n",
    "            if cv2.imread(t).shape !=  None:\n",
    "                n = 0\n",
    "            else:\n",
    "                print('Error with {}'.format(t))\n",
    "        except:\n",
    "            print('Error with {}'.format(t))\n"
   ]
  },
  {
   "cell_type": "markdown",
   "id": "ce352827",
   "metadata": {},
   "source": [
    "## Check"
   ]
  },
  {
   "cell_type": "code",
   "execution_count": 59,
   "id": "bd4a8f7f",
   "metadata": {},
   "outputs": [],
   "source": [
    "with open('ValNormalTumoral.json') as json_file:\n",
    "    lib = json.load(json_file)"
   ]
  },
  {
   "cell_type": "code",
   "execution_count": 56,
   "id": "00bd194e",
   "metadata": {},
   "outputs": [],
   "source": [
    "cs = 0\n",
    "for slide in lib['Slides']:\n",
    "    for tiles in lib['Tiles'][cs]:\n",
    "        s_tiles = tiles.split('/')[7]\n",
    "        f_tiles = tiles.split('/')[9].split('_')[0]\n",
    "        if s_tiles != slide or f_tiles != slide:\n",
    "            print('Slide ', slide , 'tile ',  tiles)\n",
    "    cs += 1\n"
   ]
  },
  {
   "cell_type": "code",
   "execution_count": 57,
   "id": "73751538",
   "metadata": {},
   "outputs": [],
   "source": [
    "with open('TrainNormalTumoral.json') as json_file:\n",
    "    lib = json.load(json_file)"
   ]
  },
  {
   "cell_type": "code",
   "execution_count": 58,
   "id": "5d03f891",
   "metadata": {},
   "outputs": [],
   "source": [
    "cs = 0\n",
    "for slide in lib['Slides']:\n",
    "    for tiles in lib['Tiles'][cs]:\n",
    "        s_tiles = tiles.split('/')[7]\n",
    "        f_tiles = tiles.split('/')[9].split('_')[0]\n",
    "        if s_tiles != slide or f_tiles != slide:\n",
    "            print('Slide ', slide , 'tile ',  tiles)\n",
    "    cs += 1\n"
   ]
  },
  {
   "cell_type": "code",
   "execution_count": 62,
   "id": "9866bf0d",
   "metadata": {},
   "outputs": [
    {
     "data": {
      "text/plain": [
       "'TNE0936'"
      ]
     },
     "execution_count": 62,
     "metadata": {},
     "output_type": "execute_result"
    }
   ],
   "source": [
    "lib['Slides'][len(lib['Slides']) - 3]"
   ]
  },
  {
   "cell_type": "code",
   "execution_count": 63,
   "id": "ebbf37d2",
   "metadata": {},
   "outputs": [
    {
     "data": {
      "text/plain": [
       "['/data/gcs/lungNENomics/work/MathianE/Tiles_512_512_fullHENorm_from1802Dir/TNE0936/accept/TNE0936_30493_115963.jpg',\n",
       " '/data/gcs/lungNENomics/work/MathianE/Tiles_512_512_fullHENorm_from1802Dir/TNE0936/accept/TNE0936_66529_22177.jpg',\n",
       " '/data/gcs/lungNENomics/work/MathianE/Tiles_512_512_fullHENorm_from1802Dir/TNE0936/accept/TNE0936_37885_128899.jpg',\n",
       " '/data/gcs/lungNENomics/work/MathianE/Tiles_512_512_fullHENorm_from1802Dir/TNE0936/accept/TNE0936_85933_16633.jpg',\n",
       " '/data/gcs/lungNENomics/work/MathianE/Tiles_512_512_fullHENorm_from1802Dir/TNE0936/accept/TNE0936_25873_41581.jpg',\n",
       " '/data/gcs/lungNENomics/work/MathianE/Tiles_512_512_fullHENorm_from1802Dir/TNE0936/accept/TNE0936_78541_3697.jpg',\n",
       " '/data/gcs/lungNENomics/work/MathianE/Tiles_512_512_fullHENorm_from1802Dir/TNE0936/accept/TNE0936_35575_140449.jpg',\n",
       " '/data/gcs/lungNENomics/work/MathianE/Tiles_512_512_fullHENorm_from1802Dir/TNE0936/accept/TNE0936_26797_131209.jpg',\n",
       " '/data/gcs/lungNENomics/work/MathianE/Tiles_512_512_fullHENorm_from1802Dir/TNE0936/accept/TNE0936_31879_136753.jpg',\n",
       " '/data/gcs/lungNENomics/work/MathianE/Tiles_512_512_fullHENorm_from1802Dir/TNE0936/accept/TNE0936_12937_97483.jpg',\n",
       " '/data/gcs/lungNENomics/work/MathianE/Tiles_512_512_fullHENorm_from1802Dir/TNE0936/accept/TNE0936_16171_98869.jpg',\n",
       " '/data/gcs/lungNENomics/work/MathianE/Tiles_512_512_fullHENorm_from1802Dir/TNE0936/accept/TNE0936_29569_91939.jpg',\n",
       " '/data/gcs/lungNENomics/work/MathianE/Tiles_512_512_fullHENorm_from1802Dir/TNE0936/accept/TNE0936_30031_97021.jpg',\n",
       " '/data/gcs/lungNENomics/work/MathianE/Tiles_512_512_fullHENorm_from1802Dir/TNE0936/accept/TNE0936_69301_19405.jpg',\n",
       " '/data/gcs/lungNENomics/work/MathianE/Tiles_512_512_fullHENorm_from1802Dir/TNE0936/accept/TNE0936_53593_15709.jpg',\n",
       " '/data/gcs/lungNENomics/work/MathianE/Tiles_512_512_fullHENorm_from1802Dir/TNE0936/accept/TNE0936_30031_131209.jpg',\n",
       " '/data/gcs/lungNENomics/work/MathianE/Tiles_512_512_fullHENorm_from1802Dir/TNE0936/accept/TNE0936_48973_49897.jpg',\n",
       " '/data/gcs/lungNENomics/work/MathianE/Tiles_512_512_fullHENorm_from1802Dir/TNE0936/accept/TNE0936_36499_125665.jpg',\n",
       " '/data/gcs/lungNENomics/work/MathianE/Tiles_512_512_fullHENorm_from1802Dir/TNE0936/accept/TNE0936_40657_42505.jpg',\n",
       " '/data/gcs/lungNENomics/work/MathianE/Tiles_512_512_fullHENorm_from1802Dir/TNE0936/accept/TNE0936_2773_79927.jpg',\n",
       " '/data/gcs/lungNENomics/work/MathianE/Tiles_512_512_fullHENorm_from1802Dir/TNE0936/accept/TNE0936_49897_32341.jpg',\n",
       " '/data/gcs/lungNENomics/work/MathianE/Tiles_512_512_fullHENorm_from1802Dir/TNE0936/accept/TNE0936_11551_93325.jpg',\n",
       " '/data/gcs/lungNENomics/work/MathianE/Tiles_512_512_fullHENorm_from1802Dir/TNE0936/accept/TNE0936_36961_117349.jpg',\n",
       " '/data/gcs/lungNENomics/work/MathianE/Tiles_512_512_fullHENorm_from1802Dir/TNE0936/accept/TNE0936_72997_40657.jpg',\n",
       " '/data/gcs/lungNENomics/work/MathianE/Tiles_512_512_fullHENorm_from1802Dir/TNE0936/accept/TNE0936_83161_24025.jpg',\n",
       " '/data/gcs/lungNENomics/work/MathianE/Tiles_512_512_fullHENorm_from1802Dir/TNE0936/accept/TNE0936_30955_107185.jpg',\n",
       " '/data/gcs/lungNENomics/work/MathianE/Tiles_512_512_fullHENorm_from1802Dir/TNE0936/accept/TNE0936_26335_133981.jpg',\n",
       " '/data/gcs/lungNENomics/work/MathianE/Tiles_512_512_fullHENorm_from1802Dir/TNE0936/accept/TNE0936_28645_119197.jpg',\n",
       " '/data/gcs/lungNENomics/work/MathianE/Tiles_512_512_fullHENorm_from1802Dir/TNE0936/accept/TNE0936_5083_84547.jpg',\n",
       " '/data/gcs/lungNENomics/work/MathianE/Tiles_512_512_fullHENorm_from1802Dir/TNE0936/accept/TNE0936_22639_91015.jpg',\n",
       " '/data/gcs/lungNENomics/work/MathianE/Tiles_512_512_fullHENorm_from1802Dir/TNE0936/accept/TNE0936_24949_31417.jpg',\n",
       " '/data/gcs/lungNENomics/work/MathianE/Tiles_512_512_fullHENorm_from1802Dir/TNE0936/accept/TNE0936_19405_116425.jpg',\n",
       " '/data/gcs/lungNENomics/work/MathianE/Tiles_512_512_fullHENorm_from1802Dir/TNE0936/accept/TNE0936_59137_22177.jpg',\n",
       " '/data/gcs/lungNENomics/work/MathianE/Tiles_512_512_fullHENorm_from1802Dir/TNE0936/accept/TNE0936_69301_6469.jpg',\n",
       " '/data/gcs/lungNENomics/work/MathianE/Tiles_512_512_fullHENorm_from1802Dir/TNE0936/accept/TNE0936_15709_88705.jpg',\n",
       " '/data/gcs/lungNENomics/work/MathianE/Tiles_512_512_fullHENorm_from1802Dir/TNE0936/accept/TNE0936_34189_140449.jpg',\n",
       " '/data/gcs/lungNENomics/work/MathianE/Tiles_512_512_fullHENorm_from1802Dir/TNE0936/accept/TNE0936_27259_78079.jpg',\n",
       " '/data/gcs/lungNENomics/work/MathianE/Tiles_512_512_fullHENorm_from1802Dir/TNE0936/accept/TNE0936_26797_77155.jpg',\n",
       " '/data/gcs/lungNENomics/work/MathianE/Tiles_512_512_fullHENorm_from1802Dir/TNE0936/accept/TNE0936_7393_103951.jpg',\n",
       " '/data/gcs/lungNENomics/work/MathianE/Tiles_512_512_fullHENorm_from1802Dir/TNE0936/accept/TNE0936_30955_122431.jpg',\n",
       " '/data/gcs/lungNENomics/work/MathianE/Tiles_512_512_fullHENorm_from1802Dir/TNE0936/accept/TNE0936_17557_82699.jpg',\n",
       " '/data/gcs/lungNENomics/work/MathianE/Tiles_512_512_fullHENorm_from1802Dir/TNE0936/accept/TNE0936_30955_128437.jpg',\n",
       " '/data/gcs/lungNENomics/work/MathianE/Tiles_512_512_fullHENorm_from1802Dir/TNE0936/accept/TNE0936_19405_44353.jpg',\n",
       " '/data/gcs/lungNENomics/work/MathianE/Tiles_512_512_fullHENorm_from1802Dir/TNE0936/accept/TNE0936_65605_26797.jpg',\n",
       " '/data/gcs/lungNENomics/work/MathianE/Tiles_512_512_fullHENorm_from1802Dir/TNE0936/accept/TNE0936_39733_27721.jpg',\n",
       " '/data/gcs/lungNENomics/work/MathianE/Tiles_512_512_fullHENorm_from1802Dir/TNE0936/accept/TNE0936_16171_91015.jpg',\n",
       " '/data/gcs/lungNENomics/work/MathianE/Tiles_512_512_fullHENorm_from1802Dir/TNE0936/accept/TNE0936_32341_36037.jpg',\n",
       " '/data/gcs/lungNENomics/work/MathianE/Tiles_512_512_fullHENorm_from1802Dir/TNE0936/accept/TNE0936_9241_90091.jpg',\n",
       " '/data/gcs/lungNENomics/work/MathianE/Tiles_512_512_fullHENorm_from1802Dir/TNE0936/accept/TNE0936_19867_125665.jpg',\n",
       " '/data/gcs/lungNENomics/work/MathianE/Tiles_512_512_fullHENorm_from1802Dir/TNE0936/accept/TNE0936_19867_121045.jpg',\n",
       " '/data/gcs/lungNENomics/work/MathianE/Tiles_512_512_fullHENorm_from1802Dir/TNE0936/accept/TNE0936_47125_16633.jpg',\n",
       " '/data/gcs/lungNENomics/work/MathianE/Tiles_512_512_fullHENorm_from1802Dir/TNE0936/accept/TNE0936_24487_72073.jpg',\n",
       " '/data/gcs/lungNENomics/work/MathianE/Tiles_512_512_fullHENorm_from1802Dir/TNE0936/accept/TNE0936_35113_45277.jpg',\n",
       " '/data/gcs/lungNENomics/work/MathianE/Tiles_512_512_fullHENorm_from1802Dir/TNE0936/accept/TNE0936_38809_26797.jpg',\n",
       " '/data/gcs/lungNENomics/work/MathianE/Tiles_512_512_fullHENorm_from1802Dir/TNE0936/accept/TNE0936_33727_124279.jpg',\n",
       " '/data/gcs/lungNENomics/work/MathianE/Tiles_512_512_fullHENorm_from1802Dir/TNE0936/accept/TNE0936_10165_73459.jpg',\n",
       " '/data/gcs/lungNENomics/work/MathianE/Tiles_512_512_fullHENorm_from1802Dir/TNE0936/accept/TNE0936_25411_89167.jpg',\n",
       " '/data/gcs/lungNENomics/work/MathianE/Tiles_512_512_fullHENorm_from1802Dir/TNE0936/accept/TNE0936_36037_29569.jpg',\n",
       " '/data/gcs/lungNENomics/work/MathianE/Tiles_512_512_fullHENorm_from1802Dir/TNE0936/accept/TNE0936_35113_127051.jpg',\n",
       " '/data/gcs/lungNENomics/work/MathianE/Tiles_512_512_fullHENorm_from1802Dir/TNE0936/accept/TNE0936_21253_70687.jpg',\n",
       " '/data/gcs/lungNENomics/work/MathianE/Tiles_512_512_fullHENorm_from1802Dir/TNE0936/accept/TNE0936_29107_87781.jpg',\n",
       " '/data/gcs/lungNENomics/work/MathianE/Tiles_512_512_fullHENorm_from1802Dir/TNE0936/accept/TNE0936_4159_76693.jpg',\n",
       " '/data/gcs/lungNENomics/work/MathianE/Tiles_512_512_fullHENorm_from1802Dir/TNE0936/accept/TNE0936_42505_45277.jpg',\n",
       " '/data/gcs/lungNENomics/work/MathianE/Tiles_512_512_fullHENorm_from1802Dir/TNE0936/accept/TNE0936_4621_93787.jpg',\n",
       " '/data/gcs/lungNENomics/work/MathianE/Tiles_512_512_fullHENorm_from1802Dir/TNE0936/accept/TNE0936_26797_128899.jpg',\n",
       " '/data/gcs/lungNENomics/work/MathianE/Tiles_512_512_fullHENorm_from1802Dir/TNE0936/accept/TNE0936_12937_93325.jpg',\n",
       " '/data/gcs/lungNENomics/work/MathianE/Tiles_512_512_fullHENorm_from1802Dir/TNE0936/accept/TNE0936_52669_19405.jpg',\n",
       " '/data/gcs/lungNENomics/work/MathianE/Tiles_512_512_fullHENorm_from1802Dir/TNE0936/accept/TNE0936_25873_31417.jpg',\n",
       " '/data/gcs/lungNENomics/work/MathianE/Tiles_512_512_fullHENorm_from1802Dir/TNE0936/accept/TNE0936_24949_121969.jpg',\n",
       " '/data/gcs/lungNENomics/work/MathianE/Tiles_512_512_fullHENorm_from1802Dir/TNE0936/accept/TNE0936_21253_79003.jpg',\n",
       " '/data/gcs/lungNENomics/work/MathianE/Tiles_512_512_fullHENorm_from1802Dir/TNE0936/accept/TNE0936_84085_36037.jpg',\n",
       " '/data/gcs/lungNENomics/work/MathianE/Tiles_512_512_fullHENorm_from1802Dir/TNE0936/accept/TNE0936_27721_124741.jpg',\n",
       " '/data/gcs/lungNENomics/work/MathianE/Tiles_512_512_fullHENorm_from1802Dir/TNE0936/accept/TNE0936_21253_74845.jpg',\n",
       " '/data/gcs/lungNENomics/work/MathianE/Tiles_512_512_fullHENorm_from1802Dir/TNE0936/accept/TNE0936_38809_122893.jpg',\n",
       " '/data/gcs/lungNENomics/work/MathianE/Tiles_512_512_fullHENorm_from1802Dir/TNE0936/accept/TNE0936_60061_20329.jpg',\n",
       " '/data/gcs/lungNENomics/work/MathianE/Tiles_512_512_fullHENorm_from1802Dir/TNE0936/accept/TNE0936_16633_84547.jpg',\n",
       " '/data/gcs/lungNENomics/work/MathianE/Tiles_512_512_fullHENorm_from1802Dir/TNE0936/accept/TNE0936_40657_52669.jpg',\n",
       " '/data/gcs/lungNENomics/work/MathianE/Tiles_512_512_fullHENorm_from1802Dir/TNE0936/accept/TNE0936_23101_99331.jpg',\n",
       " '/data/gcs/lungNENomics/work/MathianE/Tiles_512_512_fullHENorm_from1802Dir/TNE0936/accept/TNE0936_8317_91477.jpg',\n",
       " '/data/gcs/lungNENomics/work/MathianE/Tiles_512_512_fullHENorm_from1802Dir/TNE0936/accept/TNE0936_15709_89167.jpg',\n",
       " '/data/gcs/lungNENomics/work/MathianE/Tiles_512_512_fullHENorm_from1802Dir/TNE0936/accept/TNE0936_85009_24949.jpg',\n",
       " '/data/gcs/lungNENomics/work/MathianE/Tiles_512_512_fullHENorm_from1802Dir/TNE0936/accept/TNE0936_30493_49897.jpg',\n",
       " '/data/gcs/lungNENomics/work/MathianE/Tiles_512_512_fullHENorm_from1802Dir/TNE0936/accept/TNE0936_24487_122893.jpg',\n",
       " '/data/gcs/lungNENomics/work/MathianE/Tiles_512_512_fullHENorm_from1802Dir/TNE0936/accept/TNE0936_82237_3697.jpg',\n",
       " '/data/gcs/lungNENomics/work/MathianE/Tiles_512_512_fullHENorm_from1802Dir/TNE0936/accept/TNE0936_21715_100255.jpg',\n",
       " '/data/gcs/lungNENomics/work/MathianE/Tiles_512_512_fullHENorm_from1802Dir/TNE0936/accept/TNE0936_23101_75307.jpg',\n",
       " '/data/gcs/lungNENomics/work/MathianE/Tiles_512_512_fullHENorm_from1802Dir/TNE0936/accept/TNE0936_35113_48049.jpg',\n",
       " '/data/gcs/lungNENomics/work/MathianE/Tiles_512_512_fullHENorm_from1802Dir/TNE0936/accept/TNE0936_85009_35113.jpg',\n",
       " '/data/gcs/lungNENomics/work/MathianE/Tiles_512_512_fullHENorm_from1802Dir/TNE0936/accept/TNE0936_8779_89167.jpg',\n",
       " '/data/gcs/lungNENomics/work/MathianE/Tiles_512_512_fullHENorm_from1802Dir/TNE0936/accept/TNE0936_29569_38809.jpg',\n",
       " '/data/gcs/lungNENomics/work/MathianE/Tiles_512_512_fullHENorm_from1802Dir/TNE0936/accept/TNE0936_14323_85009.jpg',\n",
       " '/data/gcs/lungNENomics/work/MathianE/Tiles_512_512_fullHENorm_from1802Dir/TNE0936/accept/TNE0936_27259_127513.jpg',\n",
       " '/data/gcs/lungNENomics/work/MathianE/Tiles_512_512_fullHENorm_from1802Dir/TNE0936/accept/TNE0936_21715_115501.jpg',\n",
       " '/data/gcs/lungNENomics/work/MathianE/Tiles_512_512_fullHENorm_from1802Dir/TNE0936/accept/TNE0936_11089_38809.jpg',\n",
       " '/data/gcs/lungNENomics/work/MathianE/Tiles_512_512_fullHENorm_from1802Dir/TNE0936/accept/TNE0936_41581_40657.jpg',\n",
       " '/data/gcs/lungNENomics/work/MathianE/Tiles_512_512_fullHENorm_from1802Dir/TNE0936/accept/TNE0936_73921_7393.jpg',\n",
       " '/data/gcs/lungNENomics/work/MathianE/Tiles_512_512_fullHENorm_from1802Dir/TNE0936/accept/TNE0936_36961_118735.jpg',\n",
       " '/data/gcs/lungNENomics/work/MathianE/Tiles_512_512_fullHENorm_from1802Dir/TNE0936/accept/TNE0936_15709_74845.jpg',\n",
       " '/data/gcs/lungNENomics/work/MathianE/Tiles_512_512_fullHENorm_from1802Dir/TNE0936/accept/TNE0936_14323_95635.jpg',\n",
       " '/data/gcs/lungNENomics/work/MathianE/Tiles_512_512_fullHENorm_from1802Dir/TNE0936/accept/TNE0936_18481_39733.jpg',\n",
       " '/data/gcs/lungNENomics/work/MathianE/Tiles_512_512_fullHENorm_from1802Dir/TNE0936/accept/TNE0936_20329_81775.jpg',\n",
       " '/data/gcs/lungNENomics/work/MathianE/Tiles_512_512_fullHENorm_from1802Dir/TNE0936/accept/TNE0936_68377_16633.jpg',\n",
       " '/data/gcs/lungNENomics/work/MathianE/Tiles_512_512_fullHENorm_from1802Dir/TNE0936/accept/TNE0936_48973_38809.jpg',\n",
       " '/data/gcs/lungNENomics/work/MathianE/Tiles_512_512_fullHENorm_from1802Dir/TNE0936/accept/TNE0936_45277_46201.jpg',\n",
       " '/data/gcs/lungNENomics/work/MathianE/Tiles_512_512_fullHENorm_from1802Dir/TNE0936/accept/TNE0936_27721_105799.jpg',\n",
       " '/data/gcs/lungNENomics/work/MathianE/Tiles_512_512_fullHENorm_from1802Dir/TNE0936/accept/TNE0936_48049_42505.jpg',\n",
       " '/data/gcs/lungNENomics/work/MathianE/Tiles_512_512_fullHENorm_from1802Dir/TNE0936/accept/TNE0936_37423_121969.jpg',\n",
       " '/data/gcs/lungNENomics/work/MathianE/Tiles_512_512_fullHENorm_from1802Dir/TNE0936/accept/TNE0936_28183_107647.jpg',\n",
       " '/data/gcs/lungNENomics/work/MathianE/Tiles_512_512_fullHENorm_from1802Dir/TNE0936/accept/TNE0936_33727_97483.jpg',\n",
       " '/data/gcs/lungNENomics/work/MathianE/Tiles_512_512_fullHENorm_from1802Dir/TNE0936/accept/TNE0936_32341_129823.jpg',\n",
       " '/data/gcs/lungNENomics/work/MathianE/Tiles_512_512_fullHENorm_from1802Dir/TNE0936/accept/TNE0936_31879_120121.jpg',\n",
       " '/data/gcs/lungNENomics/work/MathianE/Tiles_512_512_fullHENorm_from1802Dir/TNE0936/accept/TNE0936_39271_124279.jpg',\n",
       " '/data/gcs/lungNENomics/work/MathianE/Tiles_512_512_fullHENorm_from1802Dir/TNE0936/accept/TNE0936_11551_73459.jpg',\n",
       " '/data/gcs/lungNENomics/work/MathianE/Tiles_512_512_fullHENorm_from1802Dir/TNE0936/accept/TNE0936_33727_97021.jpg',\n",
       " '/data/gcs/lungNENomics/work/MathianE/Tiles_512_512_fullHENorm_from1802Dir/TNE0936/accept/TNE0936_10627_88243.jpg',\n",
       " '/data/gcs/lungNENomics/work/MathianE/Tiles_512_512_fullHENorm_from1802Dir/TNE0936/accept/TNE0936_17095_116887.jpg',\n",
       " '/data/gcs/lungNENomics/work/MathianE/Tiles_512_512_fullHENorm_from1802Dir/TNE0936/accept/TNE0936_35113_126589.jpg',\n",
       " '/data/gcs/lungNENomics/work/MathianE/Tiles_512_512_fullHENorm_from1802Dir/TNE0936/accept/TNE0936_14323_100255.jpg',\n",
       " '/data/gcs/lungNENomics/work/MathianE/Tiles_512_512_fullHENorm_from1802Dir/TNE0936/accept/TNE0936_38347_123817.jpg',\n",
       " '/data/gcs/lungNENomics/work/MathianE/Tiles_512_512_fullHENorm_from1802Dir/TNE0936/accept/TNE0936_15709_72997.jpg',\n",
       " '/data/gcs/lungNENomics/work/MathianE/Tiles_512_512_fullHENorm_from1802Dir/TNE0936/accept/TNE0936_16633_53593.jpg',\n",
       " '/data/gcs/lungNENomics/work/MathianE/Tiles_512_512_fullHENorm_from1802Dir/TNE0936/accept/TNE0936_22639_81313.jpg',\n",
       " '/data/gcs/lungNENomics/work/MathianE/Tiles_512_512_fullHENorm_from1802Dir/TNE0936/accept/TNE0936_35575_105337.jpg',\n",
       " '/data/gcs/lungNENomics/work/MathianE/Tiles_512_512_fullHENorm_from1802Dir/TNE0936/accept/TNE0936_67453_8317.jpg',\n",
       " '/data/gcs/lungNENomics/work/MathianE/Tiles_512_512_fullHENorm_from1802Dir/TNE0936/accept/TNE0936_33265_125665.jpg',\n",
       " '/data/gcs/lungNENomics/work/MathianE/Tiles_512_512_fullHENorm_from1802Dir/TNE0936/accept/TNE0936_48973_34189.jpg',\n",
       " '/data/gcs/lungNENomics/work/MathianE/Tiles_512_512_fullHENorm_from1802Dir/TNE0936/accept/TNE0936_13399_87781.jpg',\n",
       " '/data/gcs/lungNENomics/work/MathianE/Tiles_512_512_fullHENorm_from1802Dir/TNE0936/accept/TNE0936_18943_96097.jpg',\n",
       " '/data/gcs/lungNENomics/work/MathianE/Tiles_512_512_fullHENorm_from1802Dir/TNE0936/accept/TNE0936_11089_96559.jpg',\n",
       " '/data/gcs/lungNENomics/work/MathianE/Tiles_512_512_fullHENorm_from1802Dir/TNE0936/accept/TNE0936_82237_5545.jpg',\n",
       " '/data/gcs/lungNENomics/work/MathianE/Tiles_512_512_fullHENorm_from1802Dir/TNE0936/accept/TNE0936_15247_86395.jpg',\n",
       " '/data/gcs/lungNENomics/work/MathianE/Tiles_512_512_fullHENorm_from1802Dir/TNE0936/accept/TNE0936_19867_85471.jpg',\n",
       " '/data/gcs/lungNENomics/work/MathianE/Tiles_512_512_fullHENorm_from1802Dir/TNE0936/accept/TNE0936_23563_119197.jpg',\n",
       " '/data/gcs/lungNENomics/work/MathianE/Tiles_512_512_fullHENorm_from1802Dir/TNE0936/accept/TNE0936_32341_118273.jpg',\n",
       " '/data/gcs/lungNENomics/work/MathianE/Tiles_512_512_fullHENorm_from1802Dir/TNE0936/accept/TNE0936_11551_94249.jpg',\n",
       " '/data/gcs/lungNENomics/work/MathianE/Tiles_512_512_fullHENorm_from1802Dir/TNE0936/accept/TNE0936_17557_47125.jpg',\n",
       " '/data/gcs/lungNENomics/work/MathianE/Tiles_512_512_fullHENorm_from1802Dir/TNE0936/accept/TNE0936_27259_125665.jpg',\n",
       " '/data/gcs/lungNENomics/work/MathianE/Tiles_512_512_fullHENorm_from1802Dir/TNE0936/accept/TNE0936_19405_112267.jpg',\n",
       " '/data/gcs/lungNENomics/work/MathianE/Tiles_512_512_fullHENorm_from1802Dir/TNE0936/accept/TNE0936_10627_93787.jpg',\n",
       " '/data/gcs/lungNENomics/work/MathianE/Tiles_512_512_fullHENorm_from1802Dir/TNE0936/accept/TNE0936_38347_115963.jpg',\n",
       " '/data/gcs/lungNENomics/work/MathianE/Tiles_512_512_fullHENorm_from1802Dir/TNE0936/accept/TNE0936_12937_97021.jpg',\n",
       " '/data/gcs/lungNENomics/work/MathianE/Tiles_512_512_fullHENorm_from1802Dir/TNE0936/accept/TNE0936_72073_27721.jpg',\n",
       " '/data/gcs/lungNENomics/work/MathianE/Tiles_512_512_fullHENorm_from1802Dir/TNE0936/accept/TNE0936_23563_117811.jpg',\n",
       " '/data/gcs/lungNENomics/work/MathianE/Tiles_512_512_fullHENorm_from1802Dir/TNE0936/accept/TNE0936_37423_122893.jpg',\n",
       " '/data/gcs/lungNENomics/work/MathianE/Tiles_512_512_fullHENorm_from1802Dir/TNE0936/accept/TNE0936_1387_76231.jpg',\n",
       " '/data/gcs/lungNENomics/work/MathianE/Tiles_512_512_fullHENorm_from1802Dir/TNE0936/accept/TNE0936_12013_93787.jpg',\n",
       " '/data/gcs/lungNENomics/work/MathianE/Tiles_512_512_fullHENorm_from1802Dir/TNE0936/accept/TNE0936_21253_38809.jpg',\n",
       " '/data/gcs/lungNENomics/work/MathianE/Tiles_512_512_fullHENorm_from1802Dir/TNE0936/accept/TNE0936_87781_36961.jpg',\n",
       " '/data/gcs/lungNENomics/work/MathianE/Tiles_512_512_fullHENorm_from1802Dir/TNE0936/accept/TNE0936_18481_116887.jpg',\n",
       " '/data/gcs/lungNENomics/work/MathianE/Tiles_512_512_fullHENorm_from1802Dir/TNE0936/accept/TNE0936_35575_136291.jpg',\n",
       " '/data/gcs/lungNENomics/work/MathianE/Tiles_512_512_fullHENorm_from1802Dir/TNE0936/accept/TNE0936_20329_102565.jpg',\n",
       " '/data/gcs/lungNENomics/work/MathianE/Tiles_512_512_fullHENorm_from1802Dir/TNE0936/accept/TNE0936_8317_52669.jpg',\n",
       " '/data/gcs/lungNENomics/work/MathianE/Tiles_512_512_fullHENorm_from1802Dir/TNE0936/accept/TNE0936_38809_29569.jpg',\n",
       " '/data/gcs/lungNENomics/work/MathianE/Tiles_512_512_fullHENorm_from1802Dir/TNE0936/accept/TNE0936_5545_49897.jpg',\n",
       " '/data/gcs/lungNENomics/work/MathianE/Tiles_512_512_fullHENorm_from1802Dir/TNE0936/accept/TNE0936_15247_112267.jpg',\n",
       " '/data/gcs/lungNENomics/work/MathianE/Tiles_512_512_fullHENorm_from1802Dir/TNE0936/accept/TNE0936_89629_27721.jpg',\n",
       " '/data/gcs/lungNENomics/work/MathianE/Tiles_512_512_fullHENorm_from1802Dir/TNE0936/accept/TNE0936_27721_44353.jpg',\n",
       " '/data/gcs/lungNENomics/work/MathianE/Tiles_512_512_fullHENorm_from1802Dir/TNE0936/accept/TNE0936_12013_94711.jpg',\n",
       " '/data/gcs/lungNENomics/work/MathianE/Tiles_512_512_fullHENorm_from1802Dir/TNE0936/accept/TNE0936_20791_113653.jpg',\n",
       " '/data/gcs/lungNENomics/work/MathianE/Tiles_512_512_fullHENorm_from1802Dir/TNE0936/accept/TNE0936_31417_129823.jpg',\n",
       " '/data/gcs/lungNENomics/work/MathianE/Tiles_512_512_fullHENorm_from1802Dir/TNE0936/accept/TNE0936_66529_14785.jpg',\n",
       " '/data/gcs/lungNENomics/work/MathianE/Tiles_512_512_fullHENorm_from1802Dir/TNE0936/accept/TNE0936_24949_78541.jpg',\n",
       " '/data/gcs/lungNENomics/work/MathianE/Tiles_512_512_fullHENorm_from1802Dir/TNE0936/accept/TNE0936_24025_39733.jpg',\n",
       " '/data/gcs/lungNENomics/work/MathianE/Tiles_512_512_fullHENorm_from1802Dir/TNE0936/accept/TNE0936_69301_38809.jpg',\n",
       " '/data/gcs/lungNENomics/work/MathianE/Tiles_512_512_fullHENorm_from1802Dir/TNE0936/accept/TNE0936_18481_85933.jpg',\n",
       " '/data/gcs/lungNENomics/work/MathianE/Tiles_512_512_fullHENorm_from1802Dir/TNE0936/accept/TNE0936_31417_45277.jpg',\n",
       " '/data/gcs/lungNENomics/work/MathianE/Tiles_512_512_fullHENorm_from1802Dir/TNE0936/accept/TNE0936_29569_39733.jpg',\n",
       " '/data/gcs/lungNENomics/work/MathianE/Tiles_512_512_fullHENorm_from1802Dir/TNE0936/accept/TNE0936_17095_88243.jpg',\n",
       " '/data/gcs/lungNENomics/work/MathianE/Tiles_512_512_fullHENorm_from1802Dir/TNE0936/accept/TNE0936_2773_74383.jpg',\n",
       " '/data/gcs/lungNENomics/work/MathianE/Tiles_512_512_fullHENorm_from1802Dir/TNE0936/accept/TNE0936_26797_55441.jpg',\n",
       " '/data/gcs/lungNENomics/work/MathianE/Tiles_512_512_fullHENorm_from1802Dir/TNE0936/accept/TNE0936_18019_107647.jpg',\n",
       " '/data/gcs/lungNENomics/work/MathianE/Tiles_512_512_fullHENorm_from1802Dir/TNE0936/accept/TNE0936_34651_140911.jpg',\n",
       " '/data/gcs/lungNENomics/work/MathianE/Tiles_512_512_fullHENorm_from1802Dir/TNE0936/accept/TNE0936_19405_80389.jpg',\n",
       " '/data/gcs/lungNENomics/work/MathianE/Tiles_512_512_fullHENorm_from1802Dir/TNE0936/accept/TNE0936_12013_54517.jpg',\n",
       " '/data/gcs/lungNENomics/work/MathianE/Tiles_512_512_fullHENorm_from1802Dir/TNE0936/accept/TNE0936_12937_87781.jpg',\n",
       " '/data/gcs/lungNENomics/work/MathianE/Tiles_512_512_fullHENorm_from1802Dir/TNE0936/accept/TNE0936_88705_23101.jpg',\n",
       " '/data/gcs/lungNENomics/work/MathianE/Tiles_512_512_fullHENorm_from1802Dir/TNE0936/accept/TNE0936_8317_94249.jpg',\n",
       " '/data/gcs/lungNENomics/work/MathianE/Tiles_512_512_fullHENorm_from1802Dir/TNE0936/accept/TNE0936_16633_37885.jpg',\n",
       " '/data/gcs/lungNENomics/work/MathianE/Tiles_512_512_fullHENorm_from1802Dir/TNE0936/accept/TNE0936_9703_100255.jpg',\n",
       " '/data/gcs/lungNENomics/work/MathianE/Tiles_512_512_fullHENorm_from1802Dir/TNE0936/accept/TNE0936_87781_22177.jpg',\n",
       " '/data/gcs/lungNENomics/work/MathianE/Tiles_512_512_fullHENorm_from1802Dir/TNE0936/accept/TNE0936_18943_111805.jpg',\n",
       " '/data/gcs/lungNENomics/work/MathianE/Tiles_512_512_fullHENorm_from1802Dir/TNE0936/accept/TNE0936_21715_120583.jpg',\n",
       " '/data/gcs/lungNENomics/work/MathianE/Tiles_512_512_fullHENorm_from1802Dir/TNE0936/accept/TNE0936_2773_77155.jpg',\n",
       " '/data/gcs/lungNENomics/work/MathianE/Tiles_512_512_fullHENorm_from1802Dir/TNE0936/accept/TNE0936_20329_83161.jpg',\n",
       " '/data/gcs/lungNENomics/work/MathianE/Tiles_512_512_fullHENorm_from1802Dir/TNE0936/accept/TNE0936_90553_34189.jpg',\n",
       " '/data/gcs/lungNENomics/work/MathianE/Tiles_512_512_fullHENorm_from1802Dir/TNE0936/accept/TNE0936_30031_123355.jpg',\n",
       " '/data/gcs/lungNENomics/work/MathianE/Tiles_512_512_fullHENorm_from1802Dir/TNE0936/accept/TNE0936_18943_119659.jpg',\n",
       " '/data/gcs/lungNENomics/work/MathianE/Tiles_512_512_fullHENorm_from1802Dir/TNE0936/accept/TNE0936_21253_82237.jpg',\n",
       " '/data/gcs/lungNENomics/work/MathianE/Tiles_512_512_fullHENorm_from1802Dir/TNE0936/accept/TNE0936_18943_114115.jpg',\n",
       " '/data/gcs/lungNENomics/work/MathianE/Tiles_512_512_fullHENorm_from1802Dir/TNE0936/accept/TNE0936_1387_86395.jpg',\n",
       " '/data/gcs/lungNENomics/work/MathianE/Tiles_512_512_fullHENorm_from1802Dir/TNE0936/accept/TNE0936_52669_26797.jpg',\n",
       " '/data/gcs/lungNENomics/work/MathianE/Tiles_512_512_fullHENorm_from1802Dir/TNE0936/accept/TNE0936_36499_130747.jpg',\n",
       " '/data/gcs/lungNENomics/work/MathianE/Tiles_512_512_fullHENorm_from1802Dir/TNE0936/accept/TNE0936_19405_120583.jpg',\n",
       " '/data/gcs/lungNENomics/work/MathianE/Tiles_512_512_fullHENorm_from1802Dir/TNE0936/accept/TNE0936_16633_38809.jpg',\n",
       " '/data/gcs/lungNENomics/work/MathianE/Tiles_512_512_fullHENorm_from1802Dir/TNE0936/accept/TNE0936_39271_122431.jpg',\n",
       " '/data/gcs/lungNENomics/work/MathianE/Tiles_512_512_fullHENorm_from1802Dir/TNE0936/accept/TNE0936_31417_128899.jpg',\n",
       " '/data/gcs/lungNENomics/work/MathianE/Tiles_512_512_fullHENorm_from1802Dir/TNE0936/accept/TNE0936_24025_123817.jpg',\n",
       " '/data/gcs/lungNENomics/work/MathianE/Tiles_512_512_fullHENorm_from1802Dir/TNE0936/accept/TNE0936_20329_99331.jpg',\n",
       " '/data/gcs/lungNENomics/work/MathianE/Tiles_512_512_fullHENorm_from1802Dir/TNE0936/accept/TNE0936_26797_130747.jpg',\n",
       " '/data/gcs/lungNENomics/work/MathianE/Tiles_512_512_fullHENorm_from1802Dir/TNE0936/accept/TNE0936_20329_38809.jpg',\n",
       " '/data/gcs/lungNENomics/work/MathianE/Tiles_512_512_fullHENorm_from1802Dir/TNE0936/accept/TNE0936_19405_91939.jpg',\n",
       " '/data/gcs/lungNENomics/work/MathianE/Tiles_512_512_fullHENorm_from1802Dir/TNE0936/accept/TNE0936_85009_4621.jpg',\n",
       " '/data/gcs/lungNENomics/work/MathianE/Tiles_512_512_fullHENorm_from1802Dir/TNE0936/accept/TNE0936_17095_113191.jpg',\n",
       " '/data/gcs/lungNENomics/work/MathianE/Tiles_512_512_fullHENorm_from1802Dir/TNE0936/accept/TNE0936_26797_123817.jpg',\n",
       " '/data/gcs/lungNENomics/work/MathianE/Tiles_512_512_fullHENorm_from1802Dir/TNE0936/accept/TNE0936_42505_44353.jpg',\n",
       " '/data/gcs/lungNENomics/work/MathianE/Tiles_512_512_fullHENorm_from1802Dir/TNE0936/accept/TNE0936_11089_104875.jpg',\n",
       " '/data/gcs/lungNENomics/work/MathianE/Tiles_512_512_fullHENorm_from1802Dir/TNE0936/accept/TNE0936_49897_19405.jpg',\n",
       " '/data/gcs/lungNENomics/work/MathianE/Tiles_512_512_fullHENorm_from1802Dir/TNE0936/accept/TNE0936_19405_37885.jpg',\n",
       " '/data/gcs/lungNENomics/work/MathianE/Tiles_512_512_fullHENorm_from1802Dir/TNE0936/accept/TNE0936_29107_103489.jpg',\n",
       " '/data/gcs/lungNENomics/work/MathianE/Tiles_512_512_fullHENorm_from1802Dir/TNE0936/accept/TNE0936_65605_24025.jpg',\n",
       " '/data/gcs/lungNENomics/work/MathianE/Tiles_512_512_fullHENorm_from1802Dir/TNE0936/accept/TNE0936_7393_49897.jpg',\n",
       " '/data/gcs/lungNENomics/work/MathianE/Tiles_512_512_fullHENorm_from1802Dir/TNE0936/accept/TNE0936_73921_30493.jpg',\n",
       " '/data/gcs/lungNENomics/work/MathianE/Tiles_512_512_fullHENorm_from1802Dir/TNE0936/accept/TNE0936_33265_118735.jpg',\n",
       " '/data/gcs/lungNENomics/work/MathianE/Tiles_512_512_fullHENorm_from1802Dir/TNE0936/accept/TNE0936_10627_94711.jpg',\n",
       " '/data/gcs/lungNENomics/work/MathianE/Tiles_512_512_fullHENorm_from1802Dir/TNE0936/accept/TNE0936_13399_102565.jpg',\n",
       " '/data/gcs/lungNENomics/work/MathianE/Tiles_512_512_fullHENorm_from1802Dir/TNE0936/accept/TNE0936_17095_107647.jpg',\n",
       " '/data/gcs/lungNENomics/work/MathianE/Tiles_512_512_fullHENorm_from1802Dir/TNE0936/accept/TNE0936_39271_128437.jpg',\n",
       " '/data/gcs/lungNENomics/work/MathianE/Tiles_512_512_fullHENorm_from1802Dir/TNE0936/accept/TNE0936_30031_121969.jpg',\n",
       " '/data/gcs/lungNENomics/work/MathianE/Tiles_512_512_fullHENorm_from1802Dir/TNE0936/accept/TNE0936_92401_20329.jpg',\n",
       " '/data/gcs/lungNENomics/work/MathianE/Tiles_512_512_fullHENorm_from1802Dir/TNE0936/accept/TNE0936_37885_44353.jpg',\n",
       " '/data/gcs/lungNENomics/work/MathianE/Tiles_512_512_fullHENorm_from1802Dir/TNE0936/accept/TNE0936_14785_92863.jpg',\n",
       " '/data/gcs/lungNENomics/work/MathianE/Tiles_512_512_fullHENorm_from1802Dir/TNE0936/accept/TNE0936_26797_109495.jpg',\n",
       " '/data/gcs/lungNENomics/work/MathianE/Tiles_512_512_fullHENorm_from1802Dir/TNE0936/accept/TNE0936_19405_115039.jpg',\n",
       " '/data/gcs/lungNENomics/work/MathianE/Tiles_512_512_fullHENorm_from1802Dir/TNE0936/accept/TNE0936_77617_38809.jpg',\n",
       " '/data/gcs/lungNENomics/work/MathianE/Tiles_512_512_fullHENorm_from1802Dir/TNE0936/accept/TNE0936_30031_94711.jpg',\n",
       " '/data/gcs/lungNENomics/work/MathianE/Tiles_512_512_fullHENorm_from1802Dir/TNE0936/accept/TNE0936_75769_23101.jpg',\n",
       " '/data/gcs/lungNENomics/work/MathianE/Tiles_512_512_fullHENorm_from1802Dir/TNE0936/accept/TNE0936_72073_29569.jpg',\n",
       " '/data/gcs/lungNENomics/work/MathianE/Tiles_512_512_fullHENorm_from1802Dir/TNE0936/accept/TNE0936_40195_125203.jpg',\n",
       " '/data/gcs/lungNENomics/work/MathianE/Tiles_512_512_fullHENorm_from1802Dir/TNE0936/accept/TNE0936_14785_112729.jpg',\n",
       " '/data/gcs/lungNENomics/work/MathianE/Tiles_512_512_fullHENorm_from1802Dir/TNE0936/accept/TNE0936_31879_120583.jpg',\n",
       " '/data/gcs/lungNENomics/work/MathianE/Tiles_512_512_fullHENorm_from1802Dir/TNE0936/accept/TNE0936_14785_94249.jpg',\n",
       " '/data/gcs/lungNENomics/work/MathianE/Tiles_512_512_fullHENorm_from1802Dir/TNE0936/accept/TNE0936_37423_107185.jpg',\n",
       " '/data/gcs/lungNENomics/work/MathianE/Tiles_512_512_fullHENorm_from1802Dir/TNE0936/accept/TNE0936_10165_72073.jpg',\n",
       " '/data/gcs/lungNENomics/work/MathianE/Tiles_512_512_fullHENorm_from1802Dir/TNE0936/accept/TNE0936_14323_105799.jpg',\n",
       " '/data/gcs/lungNENomics/work/MathianE/Tiles_512_512_fullHENorm_from1802Dir/TNE0936/accept/TNE0936_35575_104875.jpg',\n",
       " '/data/gcs/lungNENomics/work/MathianE/Tiles_512_512_fullHENorm_from1802Dir/TNE0936/accept/TNE0936_12013_91939.jpg',\n",
       " '/data/gcs/lungNENomics/work/MathianE/Tiles_512_512_fullHENorm_from1802Dir/TNE0936/accept/TNE0936_30031_135829.jpg',\n",
       " '/data/gcs/lungNENomics/work/MathianE/Tiles_512_512_fullHENorm_from1802Dir/TNE0936/accept/TNE0936_33727_127513.jpg',\n",
       " '/data/gcs/lungNENomics/work/MathianE/Tiles_512_512_fullHENorm_from1802Dir/TNE0936/accept/TNE0936_21715_83161.jpg',\n",
       " '/data/gcs/lungNENomics/work/MathianE/Tiles_512_512_fullHENorm_from1802Dir/TNE0936/accept/TNE0936_9703_90091.jpg',\n",
       " '/data/gcs/lungNENomics/work/MathianE/Tiles_512_512_fullHENorm_from1802Dir/TNE0936/accept/TNE0936_34651_135367.jpg',\n",
       " '/data/gcs/lungNENomics/work/MathianE/Tiles_512_512_fullHENorm_from1802Dir/TNE0936/accept/TNE0936_27721_123817.jpg',\n",
       " '/data/gcs/lungNENomics/work/MathianE/Tiles_512_512_fullHENorm_from1802Dir/TNE0936/accept/TNE0936_15247_87319.jpg',\n",
       " '/data/gcs/lungNENomics/work/MathianE/Tiles_512_512_fullHENorm_from1802Dir/TNE0936/accept/TNE0936_85009_32341.jpg',\n",
       " '/data/gcs/lungNENomics/work/MathianE/Tiles_512_512_fullHENorm_from1802Dir/TNE0936/accept/TNE0936_28183_131671.jpg',\n",
       " '/data/gcs/lungNENomics/work/MathianE/Tiles_512_512_fullHENorm_from1802Dir/TNE0936/accept/TNE0936_51745_41581.jpg',\n",
       " '/data/gcs/lungNENomics/work/MathianE/Tiles_512_512_fullHENorm_from1802Dir/TNE0936/accept/TNE0936_8317_47125.jpg',\n",
       " '/data/gcs/lungNENomics/work/MathianE/Tiles_512_512_fullHENorm_from1802Dir/TNE0936/accept/TNE0936_62833_23101.jpg',\n",
       " '/data/gcs/lungNENomics/work/MathianE/Tiles_512_512_fullHENorm_from1802Dir/TNE0936/accept/TNE0936_22639_83161.jpg',\n",
       " '/data/gcs/lungNENomics/work/MathianE/Tiles_512_512_fullHENorm_from1802Dir/TNE0936/accept/TNE0936_44353_29569.jpg',\n",
       " '/data/gcs/lungNENomics/work/MathianE/Tiles_512_512_fullHENorm_from1802Dir/TNE0936/accept/TNE0936_35113_122893.jpg',\n",
       " '/data/gcs/lungNENomics/work/MathianE/Tiles_512_512_fullHENorm_from1802Dir/TNE0936/accept/TNE0936_36961_27721.jpg',\n",
       " '/data/gcs/lungNENomics/work/MathianE/Tiles_512_512_fullHENorm_from1802Dir/TNE0936/accept/TNE0936_18481_48049.jpg',\n",
       " '/data/gcs/lungNENomics/work/MathianE/Tiles_512_512_fullHENorm_from1802Dir/TNE0936/accept/TNE0936_26797_130285.jpg',\n",
       " '/data/gcs/lungNENomics/work/MathianE/Tiles_512_512_fullHENorm_from1802Dir/TNE0936/accept/TNE0936_6469_93787.jpg',\n",
       " '/data/gcs/lungNENomics/work/MathianE/Tiles_512_512_fullHENorm_from1802Dir/TNE0936/accept/TNE0936_12013_96097.jpg',\n",
       " '/data/gcs/lungNENomics/work/MathianE/Tiles_512_512_fullHENorm_from1802Dir/TNE0936/accept/TNE0936_9241_91015.jpg',\n",
       " '/data/gcs/lungNENomics/work/MathianE/Tiles_512_512_fullHENorm_from1802Dir/TNE0936/accept/TNE0936_26335_132133.jpg',\n",
       " '/data/gcs/lungNENomics/work/MathianE/Tiles_512_512_fullHENorm_from1802Dir/TNE0936/accept/TNE0936_17095_85471.jpg',\n",
       " '/data/gcs/lungNENomics/work/MathianE/Tiles_512_512_fullHENorm_from1802Dir/TNE0936/accept/TNE0936_7393_86857.jpg',\n",
       " '/data/gcs/lungNENomics/work/MathianE/Tiles_512_512_fullHENorm_from1802Dir/TNE0936/accept/TNE0936_93325_32341.jpg',\n",
       " '/data/gcs/lungNENomics/work/MathianE/Tiles_512_512_fullHENorm_from1802Dir/TNE0936/accept/TNE0936_70225_23101.jpg',\n",
       " '/data/gcs/lungNENomics/work/MathianE/Tiles_512_512_fullHENorm_from1802Dir/TNE0936/accept/TNE0936_16633_82699.jpg',\n",
       " '/data/gcs/lungNENomics/work/MathianE/Tiles_512_512_fullHENorm_from1802Dir/TNE0936/accept/TNE0936_15709_93325.jpg',\n",
       " '/data/gcs/lungNENomics/work/MathianE/Tiles_512_512_fullHENorm_from1802Dir/TNE0936/accept/TNE0936_48973_28645.jpg',\n",
       " '/data/gcs/lungNENomics/work/MathianE/Tiles_512_512_fullHENorm_from1802Dir/TNE0936/accept/TNE0936_68377_18481.jpg',\n",
       " '/data/gcs/lungNENomics/work/MathianE/Tiles_512_512_fullHENorm_from1802Dir/TNE0936/accept/TNE0936_80389_32341.jpg',\n",
       " '/data/gcs/lungNENomics/work/MathianE/Tiles_512_512_fullHENorm_from1802Dir/TNE0936/accept/TNE0936_53593_41581.jpg',\n",
       " '/data/gcs/lungNENomics/work/MathianE/Tiles_512_512_fullHENorm_from1802Dir/TNE0936/accept/TNE0936_85009_33265.jpg',\n",
       " '/data/gcs/lungNENomics/work/MathianE/Tiles_512_512_fullHENorm_from1802Dir/TNE0936/accept/TNE0936_18943_121507.jpg',\n",
       " '/data/gcs/lungNENomics/work/MathianE/Tiles_512_512_fullHENorm_from1802Dir/TNE0936/accept/TNE0936_86857_30493.jpg',\n",
       " '/data/gcs/lungNENomics/work/MathianE/Tiles_512_512_fullHENorm_from1802Dir/TNE0936/accept/TNE0936_85933_33265.jpg',\n",
       " '/data/gcs/lungNENomics/work/MathianE/Tiles_512_512_fullHENorm_from1802Dir/TNE0936/accept/TNE0936_62833_24949.jpg',\n",
       " '/data/gcs/lungNENomics/work/MathianE/Tiles_512_512_fullHENorm_from1802Dir/TNE0936/accept/TNE0936_15709_115963.jpg',\n",
       " '/data/gcs/lungNENomics/work/MathianE/Tiles_512_512_fullHENorm_from1802Dir/TNE0936/accept/TNE0936_15709_42505.jpg',\n",
       " '/data/gcs/lungNENomics/work/MathianE/Tiles_512_512_fullHENorm_from1802Dir/TNE0936/accept/TNE0936_5545_47125.jpg',\n",
       " '/data/gcs/lungNENomics/work/MathianE/Tiles_512_512_fullHENorm_from1802Dir/TNE0936/accept/TNE0936_37885_115963.jpg',\n",
       " '/data/gcs/lungNENomics/work/MathianE/Tiles_512_512_fullHENorm_from1802Dir/TNE0936/accept/TNE0936_36037_116425.jpg',\n",
       " '/data/gcs/lungNENomics/work/MathianE/Tiles_512_512_fullHENorm_from1802Dir/TNE0936/accept/TNE0936_36499_133519.jpg',\n",
       " '/data/gcs/lungNENomics/work/MathianE/Tiles_512_512_fullHENorm_from1802Dir/TNE0936/accept/TNE0936_18943_107185.jpg',\n",
       " '/data/gcs/lungNENomics/work/MathianE/Tiles_512_512_fullHENorm_from1802Dir/TNE0936/accept/TNE0936_73921_25873.jpg',\n",
       " '/data/gcs/lungNENomics/work/MathianE/Tiles_512_512_fullHENorm_from1802Dir/TNE0936/accept/TNE0936_22639_86857.jpg',\n",
       " '/data/gcs/lungNENomics/work/MathianE/Tiles_512_512_fullHENorm_from1802Dir/TNE0936/accept/TNE0936_16171_105337.jpg',\n",
       " '/data/gcs/lungNENomics/work/MathianE/Tiles_512_512_fullHENorm_from1802Dir/TNE0936/accept/TNE0936_12475_88705.jpg',\n",
       " '/data/gcs/lungNENomics/work/MathianE/Tiles_512_512_fullHENorm_from1802Dir/TNE0936/accept/TNE0936_36499_114115.jpg',\n",
       " '/data/gcs/lungNENomics/work/MathianE/Tiles_512_512_fullHENorm_from1802Dir/TNE0936/accept/TNE0936_35113_127975.jpg',\n",
       " '/data/gcs/lungNENomics/work/MathianE/Tiles_512_512_fullHENorm_from1802Dir/TNE0936/accept/TNE0936_30493_119659.jpg',\n",
       " '/data/gcs/lungNENomics/work/MathianE/Tiles_512_512_fullHENorm_from1802Dir/TNE0936/accept/TNE0936_40657_127051.jpg',\n",
       " '/data/gcs/lungNENomics/work/MathianE/Tiles_512_512_fullHENorm_from1802Dir/TNE0936/accept/TNE0936_33727_121045.jpg',\n",
       " '/data/gcs/lungNENomics/work/MathianE/Tiles_512_512_fullHENorm_from1802Dir/TNE0936/accept/TNE0936_52669_47125.jpg',\n",
       " '/data/gcs/lungNENomics/work/MathianE/Tiles_512_512_fullHENorm_from1802Dir/TNE0936/accept/TNE0936_18481_111805.jpg',\n",
       " '/data/gcs/lungNENomics/work/MathianE/Tiles_512_512_fullHENorm_from1802Dir/TNE0936/accept/TNE0936_32341_108571.jpg',\n",
       " '/data/gcs/lungNENomics/work/MathianE/Tiles_512_512_fullHENorm_from1802Dir/TNE0936/accept/TNE0936_31879_130285.jpg',\n",
       " '/data/gcs/lungNENomics/work/MathianE/Tiles_512_512_fullHENorm_from1802Dir/TNE0936/accept/TNE0936_37885_53593.jpg',\n",
       " '/data/gcs/lungNENomics/work/MathianE/Tiles_512_512_fullHENorm_from1802Dir/TNE0936/accept/TNE0936_83161_3697.jpg',\n",
       " '/data/gcs/lungNENomics/work/MathianE/Tiles_512_512_fullHENorm_from1802Dir/TNE0936/accept/TNE0936_71149_6469.jpg',\n",
       " '/data/gcs/lungNENomics/work/MathianE/Tiles_512_512_fullHENorm_from1802Dir/TNE0936/accept/TNE0936_38347_116425.jpg',\n",
       " '/data/gcs/lungNENomics/work/MathianE/Tiles_512_512_fullHENorm_from1802Dir/TNE0936/accept/TNE0936_10165_54517.jpg',\n",
       " '/data/gcs/lungNENomics/work/MathianE/Tiles_512_512_fullHENorm_from1802Dir/TNE0936/accept/TNE0936_85009_30493.jpg',\n",
       " '/data/gcs/lungNENomics/work/MathianE/Tiles_512_512_fullHENorm_from1802Dir/TNE0936/accept/TNE0936_7855_88243.jpg',\n",
       " '/data/gcs/lungNENomics/work/MathianE/Tiles_512_512_fullHENorm_from1802Dir/TNE0936/accept/TNE0936_37423_121045.jpg',\n",
       " '/data/gcs/lungNENomics/work/MathianE/Tiles_512_512_fullHENorm_from1802Dir/TNE0936/accept/TNE0936_27721_43429.jpg',\n",
       " '/data/gcs/lungNENomics/work/MathianE/Tiles_512_512_fullHENorm_from1802Dir/TNE0936/accept/TNE0936_85009_7393.jpg',\n",
       " '/data/gcs/lungNENomics/work/MathianE/Tiles_512_512_fullHENorm_from1802Dir/TNE0936/accept/TNE0936_19867_114577.jpg',\n",
       " '/data/gcs/lungNENomics/work/MathianE/Tiles_512_512_fullHENorm_from1802Dir/TNE0936/accept/TNE0936_32341_97483.jpg',\n",
       " '/data/gcs/lungNENomics/work/MathianE/Tiles_512_512_fullHENorm_from1802Dir/TNE0936/accept/TNE0936_27721_119197.jpg',\n",
       " '/data/gcs/lungNENomics/work/MathianE/Tiles_512_512_fullHENorm_from1802Dir/TNE0936/accept/TNE0936_54517_16633.jpg',\n",
       " '/data/gcs/lungNENomics/work/MathianE/Tiles_512_512_fullHENorm_from1802Dir/TNE0936/accept/TNE0936_36961_130747.jpg',\n",
       " '/data/gcs/lungNENomics/work/MathianE/Tiles_512_512_fullHENorm_from1802Dir/TNE0936/accept/TNE0936_61909_21253.jpg',\n",
       " '/data/gcs/lungNENomics/work/MathianE/Tiles_512_512_fullHENorm_from1802Dir/TNE0936/accept/TNE0936_30031_80851.jpg',\n",
       " '/data/gcs/lungNENomics/work/MathianE/Tiles_512_512_fullHENorm_from1802Dir/TNE0936/accept/TNE0936_17557_92863.jpg',\n",
       " '/data/gcs/lungNENomics/work/MathianE/Tiles_512_512_fullHENorm_from1802Dir/TNE0936/accept/TNE0936_30031_133981.jpg',\n",
       " '/data/gcs/lungNENomics/work/MathianE/Tiles_512_512_fullHENorm_from1802Dir/TNE0936/accept/TNE0936_19405_85471.jpg',\n",
       " '/data/gcs/lungNENomics/work/MathianE/Tiles_512_512_fullHENorm_from1802Dir/TNE0936/accept/TNE0936_2311_74845.jpg',\n",
       " '/data/gcs/lungNENomics/work/MathianE/Tiles_512_512_fullHENorm_from1802Dir/TNE0936/accept/TNE0936_12475_86857.jpg',\n",
       " '/data/gcs/lungNENomics/work/MathianE/Tiles_512_512_fullHENorm_from1802Dir/TNE0936/accept/TNE0936_5545_90553.jpg',\n",
       " '/data/gcs/lungNENomics/work/MathianE/Tiles_512_512_fullHENorm_from1802Dir/TNE0936/accept/TNE0936_83161_26797.jpg',\n",
       " '/data/gcs/lungNENomics/work/MathianE/Tiles_512_512_fullHENorm_from1802Dir/TNE0936/accept/TNE0936_25411_135829.jpg',\n",
       " '/data/gcs/lungNENomics/work/MathianE/Tiles_512_512_fullHENorm_from1802Dir/TNE0936/accept/TNE0936_15247_109957.jpg',\n",
       " '/data/gcs/lungNENomics/work/MathianE/Tiles_512_512_fullHENorm_from1802Dir/TNE0936/accept/TNE0936_28183_120583.jpg',\n",
       " '/data/gcs/lungNENomics/work/MathianE/Tiles_512_512_fullHENorm_from1802Dir/TNE0936/accept/TNE0936_57289_23101.jpg',\n",
       " '/data/gcs/lungNENomics/work/MathianE/Tiles_512_512_fullHENorm_from1802Dir/TNE0936/accept/TNE0936_11551_96097.jpg',\n",
       " '/data/gcs/lungNENomics/work/MathianE/Tiles_512_512_fullHENorm_from1802Dir/TNE0936/accept/TNE0936_18481_36961.jpg',\n",
       " '/data/gcs/lungNENomics/work/MathianE/Tiles_512_512_fullHENorm_from1802Dir/TNE0936/accept/TNE0936_2773_89167.jpg',\n",
       " '/data/gcs/lungNENomics/work/MathianE/Tiles_512_512_fullHENorm_from1802Dir/TNE0936/accept/TNE0936_86857_18481.jpg',\n",
       " '/data/gcs/lungNENomics/work/MathianE/Tiles_512_512_fullHENorm_from1802Dir/TNE0936/accept/TNE0936_35575_103951.jpg',\n",
       " '/data/gcs/lungNENomics/work/MathianE/Tiles_512_512_fullHENorm_from1802Dir/TNE0936/accept/TNE0936_30031_101179.jpg',\n",
       " '/data/gcs/lungNENomics/work/MathianE/Tiles_512_512_fullHENorm_from1802Dir/TNE0936/accept/TNE0936_21253_108109.jpg',\n",
       " '/data/gcs/lungNENomics/work/MathianE/Tiles_512_512_fullHENorm_from1802Dir/TNE0936/accept/TNE0936_23101_75769.jpg',\n",
       " '/data/gcs/lungNENomics/work/MathianE/Tiles_512_512_fullHENorm_from1802Dir/TNE0936/accept/TNE0936_26797_73459.jpg',\n",
       " '/data/gcs/lungNENomics/work/MathianE/Tiles_512_512_fullHENorm_from1802Dir/TNE0936/accept/TNE0936_18481_85471.jpg',\n",
       " '/data/gcs/lungNENomics/work/MathianE/Tiles_512_512_fullHENorm_from1802Dir/TNE0936/accept/TNE0936_6469_93325.jpg',\n",
       " '/data/gcs/lungNENomics/work/MathianE/Tiles_512_512_fullHENorm_from1802Dir/TNE0936/accept/TNE0936_10165_45277.jpg',\n",
       " '/data/gcs/lungNENomics/work/MathianE/Tiles_512_512_fullHENorm_from1802Dir/TNE0936/accept/TNE0936_66529_19405.jpg',\n",
       " '/data/gcs/lungNENomics/work/MathianE/Tiles_512_512_fullHENorm_from1802Dir/TNE0936/accept/TNE0936_33265_136753.jpg',\n",
       " '/data/gcs/lungNENomics/work/MathianE/Tiles_512_512_fullHENorm_from1802Dir/TNE0936/accept/TNE0936_31879_126589.jpg',\n",
       " '/data/gcs/lungNENomics/work/MathianE/Tiles_512_512_fullHENorm_from1802Dir/TNE0936/accept/TNE0936_24949_53593.jpg',\n",
       " '/data/gcs/lungNENomics/work/MathianE/Tiles_512_512_fullHENorm_from1802Dir/TNE0936/accept/TNE0936_15247_110419.jpg',\n",
       " '/data/gcs/lungNENomics/work/MathianE/Tiles_512_512_fullHENorm_from1802Dir/TNE0936/accept/TNE0936_18943_113191.jpg',\n",
       " '/data/gcs/lungNENomics/work/MathianE/Tiles_512_512_fullHENorm_from1802Dir/TNE0936/accept/TNE0936_35575_127051.jpg',\n",
       " '/data/gcs/lungNENomics/work/MathianE/Tiles_512_512_fullHENorm_from1802Dir/TNE0936/accept/TNE0936_86857_31417.jpg',\n",
       " '/data/gcs/lungNENomics/work/MathianE/Tiles_512_512_fullHENorm_from1802Dir/TNE0936/accept/TNE0936_19867_86857.jpg',\n",
       " '/data/gcs/lungNENomics/work/MathianE/Tiles_512_512_fullHENorm_from1802Dir/TNE0936/accept/TNE0936_48973_30493.jpg',\n",
       " '/data/gcs/lungNENomics/work/MathianE/Tiles_512_512_fullHENorm_from1802Dir/TNE0936/accept/TNE0936_16633_79003.jpg',\n",
       " '/data/gcs/lungNENomics/work/MathianE/Tiles_512_512_fullHENorm_from1802Dir/TNE0936/accept/TNE0936_32341_138601.jpg',\n",
       " '/data/gcs/lungNENomics/work/MathianE/Tiles_512_512_fullHENorm_from1802Dir/TNE0936/accept/TNE0936_16633_114577.jpg',\n",
       " '/data/gcs/lungNENomics/work/MathianE/Tiles_512_512_fullHENorm_from1802Dir/TNE0936/accept/TNE0936_22177_104875.jpg',\n",
       " '/data/gcs/lungNENomics/work/MathianE/Tiles_512_512_fullHENorm_from1802Dir/TNE0936/accept/TNE0936_31417_36961.jpg',\n",
       " '/data/gcs/lungNENomics/work/MathianE/Tiles_512_512_fullHENorm_from1802Dir/TNE0936/accept/TNE0936_18019_86395.jpg',\n",
       " '/data/gcs/lungNENomics/work/MathianE/Tiles_512_512_fullHENorm_from1802Dir/TNE0936/accept/TNE0936_31879_125665.jpg',\n",
       " '/data/gcs/lungNENomics/work/MathianE/Tiles_512_512_fullHENorm_from1802Dir/TNE0936/accept/TNE0936_74845_25873.jpg',\n",
       " '/data/gcs/lungNENomics/work/MathianE/Tiles_512_512_fullHENorm_from1802Dir/TNE0936/accept/TNE0936_27721_106723.jpg',\n",
       " '/data/gcs/lungNENomics/work/MathianE/Tiles_512_512_fullHENorm_from1802Dir/TNE0936/accept/TNE0936_53593_47125.jpg',\n",
       " '/data/gcs/lungNENomics/work/MathianE/Tiles_512_512_fullHENorm_from1802Dir/TNE0936/accept/TNE0936_33727_131671.jpg',\n",
       " '/data/gcs/lungNENomics/work/MathianE/Tiles_512_512_fullHENorm_from1802Dir/TNE0936/accept/TNE0936_27721_78541.jpg',\n",
       " '/data/gcs/lungNENomics/work/MathianE/Tiles_512_512_fullHENorm_from1802Dir/TNE0936/accept/TNE0936_33727_126127.jpg',\n",
       " '/data/gcs/lungNENomics/work/MathianE/Tiles_512_512_fullHENorm_from1802Dir/TNE0936/accept/TNE0936_34189_43429.jpg',\n",
       " '/data/gcs/lungNENomics/work/MathianE/Tiles_512_512_fullHENorm_from1802Dir/TNE0936/accept/TNE0936_10627_89629.jpg',\n",
       " '/data/gcs/lungNENomics/work/MathianE/Tiles_512_512_fullHENorm_from1802Dir/TNE0936/accept/TNE0936_13861_88705.jpg',\n",
       " '/data/gcs/lungNENomics/work/MathianE/Tiles_512_512_fullHENorm_from1802Dir/TNE0936/accept/TNE0936_16171_111343.jpg',\n",
       " '/data/gcs/lungNENomics/work/MathianE/Tiles_512_512_fullHENorm_from1802Dir/TNE0936/accept/TNE0936_33727_126589.jpg',\n",
       " '/data/gcs/lungNENomics/work/MathianE/Tiles_512_512_fullHENorm_from1802Dir/TNE0936/accept/TNE0936_86857_36961.jpg',\n",
       " '/data/gcs/lungNENomics/work/MathianE/Tiles_512_512_fullHENorm_from1802Dir/TNE0936/accept/TNE0936_38809_124741.jpg',\n",
       " '/data/gcs/lungNENomics/work/MathianE/Tiles_512_512_fullHENorm_from1802Dir/TNE0936/accept/TNE0936_18019_116887.jpg',\n",
       " '/data/gcs/lungNENomics/work/MathianE/Tiles_512_512_fullHENorm_from1802Dir/TNE0936/accept/TNE0936_13861_79465.jpg',\n",
       " '/data/gcs/lungNENomics/work/MathianE/Tiles_512_512_fullHENorm_from1802Dir/TNE0936/accept/TNE0936_30493_125665.jpg',\n",
       " '/data/gcs/lungNENomics/work/MathianE/Tiles_512_512_fullHENorm_from1802Dir/TNE0936/accept/TNE0936_34189_140911.jpg',\n",
       " '/data/gcs/lungNENomics/work/MathianE/Tiles_512_512_fullHENorm_from1802Dir/TNE0936/accept/TNE0936_16633_90091.jpg',\n",
       " '/data/gcs/lungNENomics/work/MathianE/Tiles_512_512_fullHENorm_from1802Dir/TNE0936/accept/TNE0936_56365_23101.jpg',\n",
       " '/data/gcs/lungNENomics/work/MathianE/Tiles_512_512_fullHENorm_from1802Dir/TNE0936/accept/TNE0936_19405_85009.jpg',\n",
       " '/data/gcs/lungNENomics/work/MathianE/Tiles_512_512_fullHENorm_from1802Dir/TNE0936/accept/TNE0936_14785_86857.jpg',\n",
       " '/data/gcs/lungNENomics/work/MathianE/Tiles_512_512_fullHENorm_from1802Dir/TNE0936/accept/TNE0936_14785_93787.jpg',\n",
       " '/data/gcs/lungNENomics/work/MathianE/Tiles_512_512_fullHENorm_from1802Dir/TNE0936/accept/TNE0936_13861_46201.jpg',\n",
       " '/data/gcs/lungNENomics/work/MathianE/Tiles_512_512_fullHENorm_from1802Dir/TNE0936/accept/TNE0936_28645_93787.jpg',\n",
       " '/data/gcs/lungNENomics/work/MathianE/Tiles_512_512_fullHENorm_from1802Dir/TNE0936/accept/TNE0936_7855_78541.jpg',\n",
       " '/data/gcs/lungNENomics/work/MathianE/Tiles_512_512_fullHENorm_from1802Dir/TNE0936/accept/TNE0936_37423_109957.jpg',\n",
       " '/data/gcs/lungNENomics/work/MathianE/Tiles_512_512_fullHENorm_from1802Dir/TNE0936/accept/TNE0936_18481_42505.jpg',\n",
       " '/data/gcs/lungNENomics/work/MathianE/Tiles_512_512_fullHENorm_from1802Dir/TNE0936/accept/TNE0936_75769_25873.jpg',\n",
       " '/data/gcs/lungNENomics/work/MathianE/Tiles_512_512_fullHENorm_from1802Dir/TNE0936/accept/TNE0936_27721_134443.jpg',\n",
       " '/data/gcs/lungNENomics/work/MathianE/Tiles_512_512_fullHENorm_from1802Dir/TNE0936/accept/TNE0936_9241_54517.jpg',\n",
       " '/data/gcs/lungNENomics/work/MathianE/Tiles_512_512_fullHENorm_from1802Dir/TNE0936/accept/TNE0936_20791_79465.jpg',\n",
       " '/data/gcs/lungNENomics/work/MathianE/Tiles_512_512_fullHENorm_from1802Dir/TNE0936/accept/TNE0936_6469_90553.jpg',\n",
       " '/data/gcs/lungNENomics/work/MathianE/Tiles_512_512_fullHENorm_from1802Dir/TNE0936/accept/TNE0936_67453_19405.jpg',\n",
       " '/data/gcs/lungNENomics/work/MathianE/Tiles_512_512_fullHENorm_from1802Dir/TNE0936/accept/TNE0936_21253_34189.jpg',\n",
       " '/data/gcs/lungNENomics/work/MathianE/Tiles_512_512_fullHENorm_from1802Dir/TNE0936/accept/TNE0936_6007_91015.jpg',\n",
       " '/data/gcs/lungNENomics/work/MathianE/Tiles_512_512_fullHENorm_from1802Dir/TNE0936/accept/TNE0936_21253_119659.jpg',\n",
       " '/data/gcs/lungNENomics/work/MathianE/Tiles_512_512_fullHENorm_from1802Dir/TNE0936/accept/TNE0936_67453_7393.jpg',\n",
       " '/data/gcs/lungNENomics/work/MathianE/Tiles_512_512_fullHENorm_from1802Dir/TNE0936/accept/TNE0936_37423_115039.jpg',\n",
       " '/data/gcs/lungNENomics/work/MathianE/Tiles_512_512_fullHENorm_from1802Dir/TNE0936/accept/TNE0936_4621_93325.jpg',\n",
       " '/data/gcs/lungNENomics/work/MathianE/Tiles_512_512_fullHENorm_from1802Dir/TNE0936/accept/TNE0936_9703_98869.jpg',\n",
       " '/data/gcs/lungNENomics/work/MathianE/Tiles_512_512_fullHENorm_from1802Dir/TNE0936/accept/TNE0936_21715_79465.jpg',\n",
       " '/data/gcs/lungNENomics/work/MathianE/Tiles_512_512_fullHENorm_from1802Dir/TNE0936/accept/TNE0936_53593_24949.jpg',\n",
       " '/data/gcs/lungNENomics/work/MathianE/Tiles_512_512_fullHENorm_from1802Dir/TNE0936/accept/TNE0936_19405_110419.jpg',\n",
       " '/data/gcs/lungNENomics/work/MathianE/Tiles_512_512_fullHENorm_from1802Dir/TNE0936/accept/TNE0936_21253_74383.jpg',\n",
       " '/data/gcs/lungNENomics/work/MathianE/Tiles_512_512_fullHENorm_from1802Dir/TNE0936/accept/TNE0936_22177_81313.jpg',\n",
       " '/data/gcs/lungNENomics/work/MathianE/Tiles_512_512_fullHENorm_from1802Dir/TNE0936/accept/TNE0936_24487_115963.jpg',\n",
       " '/data/gcs/lungNENomics/work/MathianE/Tiles_512_512_fullHENorm_from1802Dir/TNE0936/accept/TNE0936_12013_37885.jpg',\n",
       " '/data/gcs/lungNENomics/work/MathianE/Tiles_512_512_fullHENorm_from1802Dir/TNE0936/accept/TNE0936_29107_88243.jpg',\n",
       " '/data/gcs/lungNENomics/work/MathianE/Tiles_512_512_fullHENorm_from1802Dir/TNE0936/accept/TNE0936_50821_24025.jpg',\n",
       " '/data/gcs/lungNENomics/work/MathianE/Tiles_512_512_fullHENorm_from1802Dir/TNE0936/accept/TNE0936_31417_119659.jpg',\n",
       " '/data/gcs/lungNENomics/work/MathianE/Tiles_512_512_fullHENorm_from1802Dir/TNE0936/accept/TNE0936_14785_108571.jpg',\n",
       " '/data/gcs/lungNENomics/work/MathianE/Tiles_512_512_fullHENorm_from1802Dir/TNE0936/accept/TNE0936_37885_50821.jpg',\n",
       " '/data/gcs/lungNENomics/work/MathianE/Tiles_512_512_fullHENorm_from1802Dir/TNE0936/accept/TNE0936_48049_23101.jpg',\n",
       " '/data/gcs/lungNENomics/work/MathianE/Tiles_512_512_fullHENorm_from1802Dir/TNE0936/accept/TNE0936_35575_131671.jpg',\n",
       " '/data/gcs/lungNENomics/work/MathianE/Tiles_512_512_fullHENorm_from1802Dir/TNE0936/accept/TNE0936_33265_121507.jpg',\n",
       " '/data/gcs/lungNENomics/work/MathianE/Tiles_512_512_fullHENorm_from1802Dir/TNE0936/accept/TNE0936_2311_75769.jpg',\n",
       " '/data/gcs/lungNENomics/work/MathianE/Tiles_512_512_fullHENorm_from1802Dir/TNE0936/accept/TNE0936_36499_119197.jpg',\n",
       " '/data/gcs/lungNENomics/work/MathianE/Tiles_512_512_fullHENorm_from1802Dir/TNE0936/accept/TNE0936_15247_97021.jpg',\n",
       " '/data/gcs/lungNENomics/work/MathianE/Tiles_512_512_fullHENorm_from1802Dir/TNE0936/accept/TNE0936_3235_88243.jpg',\n",
       " '/data/gcs/lungNENomics/work/MathianE/Tiles_512_512_fullHENorm_from1802Dir/TNE0936/accept/TNE0936_17095_103951.jpg',\n",
       " '/data/gcs/lungNENomics/work/MathianE/Tiles_512_512_fullHENorm_from1802Dir/TNE0936/accept/TNE0936_15247_71149.jpg',\n",
       " '/data/gcs/lungNENomics/work/MathianE/Tiles_512_512_fullHENorm_from1802Dir/TNE0936/accept/TNE0936_6469_96559.jpg',\n",
       " '/data/gcs/lungNENomics/work/MathianE/Tiles_512_512_fullHENorm_from1802Dir/TNE0936/accept/TNE0936_15247_94711.jpg',\n",
       " '/data/gcs/lungNENomics/work/MathianE/Tiles_512_512_fullHENorm_from1802Dir/TNE0936/accept/TNE0936_26335_133057.jpg',\n",
       " '/data/gcs/lungNENomics/work/MathianE/Tiles_512_512_fullHENorm_from1802Dir/TNE0936/accept/TNE0936_52669_32341.jpg',\n",
       " '/data/gcs/lungNENomics/work/MathianE/Tiles_512_512_fullHENorm_from1802Dir/TNE0936/accept/TNE0936_23101_107185.jpg',\n",
       " '/data/gcs/lungNENomics/work/MathianE/Tiles_512_512_fullHENorm_from1802Dir/TNE0936/accept/TNE0936_24949_78079.jpg',\n",
       " '/data/gcs/lungNENomics/work/MathianE/Tiles_512_512_fullHENorm_from1802Dir/TNE0936/accept/TNE0936_22177_77617.jpg',\n",
       " '/data/gcs/lungNENomics/work/MathianE/Tiles_512_512_fullHENorm_from1802Dir/TNE0936/accept/TNE0936_28645_131671.jpg',\n",
       " '/data/gcs/lungNENomics/work/MathianE/Tiles_512_512_fullHENorm_from1802Dir/TNE0936/accept/TNE0936_29569_29569.jpg',\n",
       " '/data/gcs/lungNENomics/work/MathianE/Tiles_512_512_fullHENorm_from1802Dir/TNE0936/accept/TNE0936_32803_134905.jpg',\n",
       " '/data/gcs/lungNENomics/work/MathianE/Tiles_512_512_fullHENorm_from1802Dir/TNE0936/accept/TNE0936_22177_85933.jpg',\n",
       " '/data/gcs/lungNENomics/work/MathianE/Tiles_512_512_fullHENorm_from1802Dir/TNE0936/accept/TNE0936_20329_108109.jpg',\n",
       " '/data/gcs/lungNENomics/work/MathianE/Tiles_512_512_fullHENorm_from1802Dir/TNE0936/accept/TNE0936_39733_118735.jpg',\n",
       " '/data/gcs/lungNENomics/work/MathianE/Tiles_512_512_fullHENorm_from1802Dir/TNE0936/accept/TNE0936_34189_36037.jpg',\n",
       " '/data/gcs/lungNENomics/work/MathianE/Tiles_512_512_fullHENorm_from1802Dir/TNE0936/accept/TNE0936_29569_94249.jpg',\n",
       " '/data/gcs/lungNENomics/work/MathianE/Tiles_512_512_fullHENorm_from1802Dir/TNE0936/accept/TNE0936_25873_72535.jpg',\n",
       " '/data/gcs/lungNENomics/work/MathianE/Tiles_512_512_fullHENorm_from1802Dir/TNE0936/accept/TNE0936_27259_73921.jpg',\n",
       " '/data/gcs/lungNENomics/work/MathianE/Tiles_512_512_fullHENorm_from1802Dir/TNE0936/accept/TNE0936_46201_28645.jpg',\n",
       " '/data/gcs/lungNENomics/work/MathianE/Tiles_512_512_fullHENorm_from1802Dir/TNE0936/accept/TNE0936_46201_32341.jpg',\n",
       " '/data/gcs/lungNENomics/work/MathianE/Tiles_512_512_fullHENorm_from1802Dir/TNE0936/accept/TNE0936_30493_89167.jpg',\n",
       " '/data/gcs/lungNENomics/work/MathianE/Tiles_512_512_fullHENorm_from1802Dir/TNE0936/accept/TNE0936_38809_120121.jpg',\n",
       " '/data/gcs/lungNENomics/work/MathianE/Tiles_512_512_fullHENorm_from1802Dir/TNE0936/accept/TNE0936_29107_118735.jpg',\n",
       " '/data/gcs/lungNENomics/work/MathianE/Tiles_512_512_fullHENorm_from1802Dir/TNE0936/accept/TNE0936_24025_31417.jpg',\n",
       " '/data/gcs/lungNENomics/work/MathianE/Tiles_512_512_fullHENorm_from1802Dir/TNE0936/accept/TNE0936_36037_127513.jpg',\n",
       " '/data/gcs/lungNENomics/work/MathianE/Tiles_512_512_fullHENorm_from1802Dir/TNE0936/accept/TNE0936_18943_77155.jpg',\n",
       " '/data/gcs/lungNENomics/work/MathianE/Tiles_512_512_fullHENorm_from1802Dir/TNE0936/accept/TNE0936_16171_79927.jpg',\n",
       " '/data/gcs/lungNENomics/work/MathianE/Tiles_512_512_fullHENorm_from1802Dir/TNE0936/accept/TNE0936_67453_38809.jpg',\n",
       " '/data/gcs/lungNENomics/work/MathianE/Tiles_512_512_fullHENorm_from1802Dir/TNE0936/accept/TNE0936_38347_110419.jpg',\n",
       " '/data/gcs/lungNENomics/work/MathianE/Tiles_512_512_fullHENorm_from1802Dir/TNE0936/accept/TNE0936_31417_40657.jpg',\n",
       " '/data/gcs/lungNENomics/work/MathianE/Tiles_512_512_fullHENorm_from1802Dir/TNE0936/accept/TNE0936_32341_132133.jpg',\n",
       " '/data/gcs/lungNENomics/work/MathianE/Tiles_512_512_fullHENorm_from1802Dir/TNE0936/accept/TNE0936_32341_30493.jpg',\n",
       " '/data/gcs/lungNENomics/work/MathianE/Tiles_512_512_fullHENorm_from1802Dir/TNE0936/accept/TNE0936_18481_106261.jpg',\n",
       " '/data/gcs/lungNENomics/work/MathianE/Tiles_512_512_fullHENorm_from1802Dir/TNE0936/accept/TNE0936_37423_107647.jpg',\n",
       " '/data/gcs/lungNENomics/work/MathianE/Tiles_512_512_fullHENorm_from1802Dir/TNE0936/accept/TNE0936_19867_75307.jpg',\n",
       " '/data/gcs/lungNENomics/work/MathianE/Tiles_512_512_fullHENorm_from1802Dir/TNE0936/accept/TNE0936_28645_75769.jpg',\n",
       " '/data/gcs/lungNENomics/work/MathianE/Tiles_512_512_fullHENorm_from1802Dir/TNE0936/accept/TNE0936_30031_129823.jpg',\n",
       " '/data/gcs/lungNENomics/work/MathianE/Tiles_512_512_fullHENorm_from1802Dir/TNE0936/accept/TNE0936_16171_89629.jpg',\n",
       " '/data/gcs/lungNENomics/work/MathianE/Tiles_512_512_fullHENorm_from1802Dir/TNE0936/accept/TNE0936_16171_87319.jpg',\n",
       " '/data/gcs/lungNENomics/work/MathianE/Tiles_512_512_fullHENorm_from1802Dir/TNE0936/accept/TNE0936_21253_50821.jpg',\n",
       " '/data/gcs/lungNENomics/work/MathianE/Tiles_512_512_fullHENorm_from1802Dir/TNE0936/accept/TNE0936_30493_37885.jpg',\n",
       " '/data/gcs/lungNENomics/work/MathianE/Tiles_512_512_fullHENorm_from1802Dir/TNE0936/accept/TNE0936_39733_121045.jpg',\n",
       " '/data/gcs/lungNENomics/work/MathianE/Tiles_512_512_fullHENorm_from1802Dir/TNE0936/accept/TNE0936_42505_24949.jpg',\n",
       " '/data/gcs/lungNENomics/work/MathianE/Tiles_512_512_fullHENorm_from1802Dir/TNE0936/accept/TNE0936_10165_72535.jpg',\n",
       " '/data/gcs/lungNENomics/work/MathianE/Tiles_512_512_fullHENorm_from1802Dir/TNE0936/accept/TNE0936_28645_135367.jpg',\n",
       " '/data/gcs/lungNENomics/work/MathianE/Tiles_512_512_fullHENorm_from1802Dir/TNE0936/accept/TNE0936_54517_22177.jpg',\n",
       " '/data/gcs/lungNENomics/work/MathianE/Tiles_512_512_fullHENorm_from1802Dir/TNE0936/accept/TNE0936_31417_137215.jpg',\n",
       " '/data/gcs/lungNENomics/work/MathianE/Tiles_512_512_fullHENorm_from1802Dir/TNE0936/accept/TNE0936_18481_112729.jpg',\n",
       " '/data/gcs/lungNENomics/work/MathianE/Tiles_512_512_fullHENorm_from1802Dir/TNE0936/accept/TNE0936_32803_94249.jpg',\n",
       " '/data/gcs/lungNENomics/work/MathianE/Tiles_512_512_fullHENorm_from1802Dir/TNE0936/accept/TNE0936_30955_95635.jpg',\n",
       " '/data/gcs/lungNENomics/work/MathianE/Tiles_512_512_fullHENorm_from1802Dir/TNE0936/accept/TNE0936_26335_107647.jpg',\n",
       " '/data/gcs/lungNENomics/work/MathianE/Tiles_512_512_fullHENorm_from1802Dir/TNE0936/accept/TNE0936_15709_114115.jpg',\n",
       " '/data/gcs/lungNENomics/work/MathianE/Tiles_512_512_fullHENorm_from1802Dir/TNE0936/accept/TNE0936_59137_46201.jpg',\n",
       " '/data/gcs/lungNENomics/work/MathianE/Tiles_512_512_fullHENorm_from1802Dir/TNE0936/accept/TNE0936_16633_98407.jpg',\n",
       " '/data/gcs/lungNENomics/work/MathianE/Tiles_512_512_fullHENorm_from1802Dir/TNE0936/accept/TNE0936_12475_110419.jpg',\n",
       " '/data/gcs/lungNENomics/work/MathianE/Tiles_512_512_fullHENorm_from1802Dir/TNE0936/accept/TNE0936_25873_47125.jpg',\n",
       " '/data/gcs/lungNENomics/work/MathianE/Tiles_512_512_fullHENorm_from1802Dir/TNE0936/accept/TNE0936_30031_86395.jpg',\n",
       " '/data/gcs/lungNENomics/work/MathianE/Tiles_512_512_fullHENorm_from1802Dir/TNE0936/accept/TNE0936_11089_94711.jpg',\n",
       " '/data/gcs/lungNENomics/work/MathianE/Tiles_512_512_fullHENorm_from1802Dir/TNE0936/accept/TNE0936_36961_136753.jpg',\n",
       " '/data/gcs/lungNENomics/work/MathianE/Tiles_512_512_fullHENorm_from1802Dir/TNE0936/accept/TNE0936_12013_79465.jpg',\n",
       " '/data/gcs/lungNENomics/work/MathianE/Tiles_512_512_fullHENorm_from1802Dir/TNE0936/accept/TNE0936_23101_126127.jpg',\n",
       " '/data/gcs/lungNENomics/work/MathianE/Tiles_512_512_fullHENorm_from1802Dir/TNE0936/accept/TNE0936_61909_26797.jpg',\n",
       " '/data/gcs/lungNENomics/work/MathianE/Tiles_512_512_fullHENorm_from1802Dir/TNE0936/accept/TNE0936_12937_81775.jpg',\n",
       " '/data/gcs/lungNENomics/work/MathianE/Tiles_512_512_fullHENorm_from1802Dir/TNE0936/accept/TNE0936_38347_125203.jpg',\n",
       " '/data/gcs/lungNENomics/work/MathianE/Tiles_512_512_fullHENorm_from1802Dir/TNE0936/accept/TNE0936_28645_94711.jpg',\n",
       " '/data/gcs/lungNENomics/work/MathianE/Tiles_512_512_fullHENorm_from1802Dir/TNE0936/accept/TNE0936_36499_136753.jpg',\n",
       " '/data/gcs/lungNENomics/work/MathianE/Tiles_512_512_fullHENorm_from1802Dir/TNE0936/accept/TNE0936_14785_100255.jpg',\n",
       " '/data/gcs/lungNENomics/work/MathianE/Tiles_512_512_fullHENorm_from1802Dir/TNE0936/accept/TNE0936_20329_120583.jpg',\n",
       " '/data/gcs/lungNENomics/work/MathianE/Tiles_512_512_fullHENorm_from1802Dir/TNE0936/accept/TNE0936_34189_28645.jpg',\n",
       " '/data/gcs/lungNENomics/work/MathianE/Tiles_512_512_fullHENorm_from1802Dir/TNE0936/accept/TNE0936_33265_51745.jpg',\n",
       " '/data/gcs/lungNENomics/work/MathianE/Tiles_512_512_fullHENorm_from1802Dir/TNE0936/accept/TNE0936_26797_92401.jpg',\n",
       " '/data/gcs/lungNENomics/work/MathianE/Tiles_512_512_fullHENorm_from1802Dir/TNE0936/accept/TNE0936_38809_117349.jpg',\n",
       " '/data/gcs/lungNENomics/work/MathianE/Tiles_512_512_fullHENorm_from1802Dir/TNE0936/accept/TNE0936_12937_80389.jpg',\n",
       " '/data/gcs/lungNENomics/work/MathianE/Tiles_512_512_fullHENorm_from1802Dir/TNE0936/accept/TNE0936_2773_75307.jpg',\n",
       " '/data/gcs/lungNENomics/work/MathianE/Tiles_512_512_fullHENorm_from1802Dir/TNE0936/accept/TNE0936_24949_52669.jpg',\n",
       " '/data/gcs/lungNENomics/work/MathianE/Tiles_512_512_fullHENorm_from1802Dir/TNE0936/accept/TNE0936_29569_127513.jpg',\n",
       " '/data/gcs/lungNENomics/work/MathianE/Tiles_512_512_fullHENorm_from1802Dir/TNE0936/accept/TNE0936_36037_114577.jpg',\n",
       " '/data/gcs/lungNENomics/work/MathianE/Tiles_512_512_fullHENorm_from1802Dir/TNE0936/accept/TNE0936_18943_112729.jpg',\n",
       " '/data/gcs/lungNENomics/work/MathianE/Tiles_512_512_fullHENorm_from1802Dir/TNE0936/accept/TNE0936_9241_97021.jpg',\n",
       " '/data/gcs/lungNENomics/work/MathianE/Tiles_512_512_fullHENorm_from1802Dir/TNE0936/accept/TNE0936_40657_120121.jpg',\n",
       " '/data/gcs/lungNENomics/work/MathianE/Tiles_512_512_fullHENorm_from1802Dir/TNE0936/accept/TNE0936_28645_49897.jpg',\n",
       " '/data/gcs/lungNENomics/work/MathianE/Tiles_512_512_fullHENorm_from1802Dir/TNE0936/accept/TNE0936_35575_128899.jpg',\n",
       " '/data/gcs/lungNENomics/work/MathianE/Tiles_512_512_fullHENorm_from1802Dir/TNE0936/accept/TNE0936_16171_73459.jpg',\n",
       " '/data/gcs/lungNENomics/work/MathianE/Tiles_512_512_fullHENorm_from1802Dir/TNE0936/accept/TNE0936_27721_96097.jpg',\n",
       " '/data/gcs/lungNENomics/work/MathianE/Tiles_512_512_fullHENorm_from1802Dir/TNE0936/accept/TNE0936_33727_140449.jpg',\n",
       " '/data/gcs/lungNENomics/work/MathianE/Tiles_512_512_fullHENorm_from1802Dir/TNE0936/accept/TNE0936_12937_87319.jpg',\n",
       " '/data/gcs/lungNENomics/work/MathianE/Tiles_512_512_fullHENorm_from1802Dir/TNE0936/accept/TNE0936_40657_53593.jpg',\n",
       " '/data/gcs/lungNENomics/work/MathianE/Tiles_512_512_fullHENorm_from1802Dir/TNE0936/accept/TNE0936_21253_36961.jpg',\n",
       " '/data/gcs/lungNENomics/work/MathianE/Tiles_512_512_fullHENorm_from1802Dir/TNE0936/accept/TNE0936_73921_24025.jpg',\n",
       " '/data/gcs/lungNENomics/work/MathianE/Tiles_512_512_fullHENorm_from1802Dir/TNE0936/accept/TNE0936_7393_91939.jpg',\n",
       " '/data/gcs/lungNENomics/work/MathianE/Tiles_512_512_fullHENorm_from1802Dir/TNE0936/accept/TNE0936_60061_24949.jpg',\n",
       " '/data/gcs/lungNENomics/work/MathianE/Tiles_512_512_fullHENorm_from1802Dir/TNE0936/accept/TNE0936_35113_27721.jpg',\n",
       " '/data/gcs/lungNENomics/work/MathianE/Tiles_512_512_fullHENorm_from1802Dir/TNE0936/accept/TNE0936_20791_103027.jpg',\n",
       " '/data/gcs/lungNENomics/work/MathianE/Tiles_512_512_fullHENorm_from1802Dir/TNE0936/accept/TNE0936_30955_127051.jpg',\n",
       " '/data/gcs/lungNENomics/work/MathianE/Tiles_512_512_fullHENorm_from1802Dir/TNE0936/accept/TNE0936_72073_25873.jpg',\n",
       " '/data/gcs/lungNENomics/work/MathianE/Tiles_512_512_fullHENorm_from1802Dir/TNE0936/accept/TNE0936_21253_105799.jpg',\n",
       " '/data/gcs/lungNENomics/work/MathianE/Tiles_512_512_fullHENorm_from1802Dir/TNE0936/accept/TNE0936_68377_40657.jpg',\n",
       " '/data/gcs/lungNENomics/work/MathianE/Tiles_512_512_fullHENorm_from1802Dir/TNE0936/accept/TNE0936_12013_95635.jpg',\n",
       " '/data/gcs/lungNENomics/work/MathianE/Tiles_512_512_fullHENorm_from1802Dir/TNE0936/accept/TNE0936_21253_37885.jpg',\n",
       " '/data/gcs/lungNENomics/work/MathianE/Tiles_512_512_fullHENorm_from1802Dir/TNE0936/accept/TNE0936_54517_20329.jpg',\n",
       " '/data/gcs/lungNENomics/work/MathianE/Tiles_512_512_fullHENorm_from1802Dir/TNE0936/accept/TNE0936_45277_25873.jpg',\n",
       " '/data/gcs/lungNENomics/work/MathianE/Tiles_512_512_fullHENorm_from1802Dir/TNE0936/accept/TNE0936_8317_101179.jpg',\n",
       " '/data/gcs/lungNENomics/work/MathianE/Tiles_512_512_fullHENorm_from1802Dir/TNE0936/accept/TNE0936_16171_94249.jpg',\n",
       " '/data/gcs/lungNENomics/work/MathianE/Tiles_512_512_fullHENorm_from1802Dir/TNE0936/accept/TNE0936_27721_104875.jpg',\n",
       " '/data/gcs/lungNENomics/work/MathianE/Tiles_512_512_fullHENorm_from1802Dir/TNE0936/accept/TNE0936_47125_22177.jpg',\n",
       " '/data/gcs/lungNENomics/work/MathianE/Tiles_512_512_fullHENorm_from1802Dir/TNE0936/accept/TNE0936_19405_113191.jpg',\n",
       " '/data/gcs/lungNENomics/work/MathianE/Tiles_512_512_fullHENorm_from1802Dir/TNE0936/accept/TNE0936_15709_94711.jpg',\n",
       " '/data/gcs/lungNENomics/work/MathianE/Tiles_512_512_fullHENorm_from1802Dir/TNE0936/accept/TNE0936_31417_132133.jpg',\n",
       " '/data/gcs/lungNENomics/work/MathianE/Tiles_512_512_fullHENorm_from1802Dir/TNE0936/accept/TNE0936_12475_95173.jpg',\n",
       " '/data/gcs/lungNENomics/work/MathianE/Tiles_512_512_fullHENorm_from1802Dir/TNE0936/accept/TNE0936_22639_127513.jpg',\n",
       " '/data/gcs/lungNENomics/work/MathianE/Tiles_512_512_fullHENorm_from1802Dir/TNE0936/accept/TNE0936_22639_85471.jpg',\n",
       " '/data/gcs/lungNENomics/work/MathianE/Tiles_512_512_fullHENorm_from1802Dir/TNE0936/accept/TNE0936_30493_127051.jpg',\n",
       " '/data/gcs/lungNENomics/work/MathianE/Tiles_512_512_fullHENorm_from1802Dir/TNE0936/accept/TNE0936_36961_115039.jpg',\n",
       " '/data/gcs/lungNENomics/work/MathianE/Tiles_512_512_fullHENorm_from1802Dir/TNE0936/accept/TNE0936_65605_28645.jpg',\n",
       " '/data/gcs/lungNENomics/work/MathianE/Tiles_512_512_fullHENorm_from1802Dir/TNE0936/accept/TNE0936_23563_131209.jpg',\n",
       " '/data/gcs/lungNENomics/work/MathianE/Tiles_512_512_fullHENorm_from1802Dir/TNE0936/accept/TNE0936_463_85009.jpg',\n",
       " '/data/gcs/lungNENomics/work/MathianE/Tiles_512_512_fullHENorm_from1802Dir/TNE0936/accept/TNE0936_30493_92863.jpg',\n",
       " '/data/gcs/lungNENomics/work/MathianE/Tiles_512_512_fullHENorm_from1802Dir/TNE0936/accept/TNE0936_2773_78079.jpg',\n",
       " '/data/gcs/lungNENomics/work/MathianE/Tiles_512_512_fullHENorm_from1802Dir/TNE0936/accept/TNE0936_20329_121969.jpg',\n",
       " '/data/gcs/lungNENomics/work/MathianE/Tiles_512_512_fullHENorm_from1802Dir/TNE0936/accept/TNE0936_5545_91477.jpg',\n",
       " '/data/gcs/lungNENomics/work/MathianE/Tiles_512_512_fullHENorm_from1802Dir/TNE0936/accept/TNE0936_22177_104413.jpg',\n",
       " '/data/gcs/lungNENomics/work/MathianE/Tiles_512_512_fullHENorm_from1802Dir/TNE0936/accept/TNE0936_31417_90553.jpg',\n",
       " '/data/gcs/lungNENomics/work/MathianE/Tiles_512_512_fullHENorm_from1802Dir/TNE0936/accept/TNE0936_24025_48973.jpg',\n",
       " '/data/gcs/lungNENomics/work/MathianE/Tiles_512_512_fullHENorm_from1802Dir/TNE0936/accept/TNE0936_50821_30493.jpg',\n",
       " '/data/gcs/lungNENomics/work/MathianE/Tiles_512_512_fullHENorm_from1802Dir/TNE0936/accept/TNE0936_23563_118735.jpg',\n",
       " '/data/gcs/lungNENomics/work/MathianE/Tiles_512_512_fullHENorm_from1802Dir/TNE0936/accept/TNE0936_35113_50821.jpg',\n",
       " '/data/gcs/lungNENomics/work/MathianE/Tiles_512_512_fullHENorm_from1802Dir/TNE0936/accept/TNE0936_35575_124741.jpg',\n",
       " '/data/gcs/lungNENomics/work/MathianE/Tiles_512_512_fullHENorm_from1802Dir/TNE0936/accept/TNE0936_30493_137215.jpg',\n",
       " '/data/gcs/lungNENomics/work/MathianE/Tiles_512_512_fullHENorm_from1802Dir/TNE0936/accept/TNE0936_20791_80851.jpg',\n",
       " '/data/gcs/lungNENomics/work/MathianE/Tiles_512_512_fullHENorm_from1802Dir/TNE0936/accept/TNE0936_18481_80389.jpg',\n",
       " '/data/gcs/lungNENomics/work/MathianE/Tiles_512_512_fullHENorm_from1802Dir/TNE0936/accept/TNE0936_40657_25873.jpg',\n",
       " '/data/gcs/lungNENomics/work/MathianE/Tiles_512_512_fullHENorm_from1802Dir/TNE0936/accept/TNE0936_14785_110419.jpg',\n",
       " '/data/gcs/lungNENomics/work/MathianE/Tiles_512_512_fullHENorm_from1802Dir/TNE0936/accept/TNE0936_29569_85009.jpg',\n",
       " '/data/gcs/lungNENomics/work/MathianE/Tiles_512_512_fullHENorm_from1802Dir/TNE0936/accept/TNE0936_87781_33265.jpg',\n",
       " '/data/gcs/lungNENomics/work/MathianE/Tiles_512_512_fullHENorm_from1802Dir/TNE0936/accept/TNE0936_38809_120583.jpg',\n",
       " '/data/gcs/lungNENomics/work/MathianE/Tiles_512_512_fullHENorm_from1802Dir/TNE0936/accept/TNE0936_15247_75307.jpg',\n",
       " '/data/gcs/lungNENomics/work/MathianE/Tiles_512_512_fullHENorm_from1802Dir/TNE0936/accept/TNE0936_36961_128437.jpg',\n",
       " '/data/gcs/lungNENomics/work/MathianE/Tiles_512_512_fullHENorm_from1802Dir/TNE0936/accept/TNE0936_8779_94249.jpg',\n",
       " '/data/gcs/lungNENomics/work/MathianE/Tiles_512_512_fullHENorm_from1802Dir/TNE0936/accept/TNE0936_12475_88243.jpg',\n",
       " '/data/gcs/lungNENomics/work/MathianE/Tiles_512_512_fullHENorm_from1802Dir/TNE0936/accept/TNE0936_34651_138601.jpg',\n",
       " '/data/gcs/lungNENomics/work/MathianE/Tiles_512_512_fullHENorm_from1802Dir/TNE0936/accept/TNE0936_2773_88243.jpg',\n",
       " '/data/gcs/lungNENomics/work/MathianE/Tiles_512_512_fullHENorm_from1802Dir/TNE0936/accept/TNE0936_30955_118273.jpg',\n",
       " '/data/gcs/lungNENomics/work/MathianE/Tiles_512_512_fullHENorm_from1802Dir/TNE0936/accept/TNE0936_20329_53593.jpg',\n",
       " '/data/gcs/lungNENomics/work/MathianE/Tiles_512_512_fullHENorm_from1802Dir/TNE0936/accept/TNE0936_40195_117811.jpg',\n",
       " '/data/gcs/lungNENomics/work/MathianE/Tiles_512_512_fullHENorm_from1802Dir/TNE0936/accept/TNE0936_31879_125203.jpg',\n",
       " '/data/gcs/lungNENomics/work/MathianE/Tiles_512_512_fullHENorm_from1802Dir/TNE0936/accept/TNE0936_18019_91939.jpg',\n",
       " '/data/gcs/lungNENomics/work/MathianE/Tiles_512_512_fullHENorm_from1802Dir/TNE0936/accept/TNE0936_32341_50821.jpg',\n",
       " '/data/gcs/lungNENomics/work/MathianE/Tiles_512_512_fullHENorm_from1802Dir/TNE0936/accept/TNE0936_22639_80851.jpg',\n",
       " '/data/gcs/lungNENomics/work/MathianE/Tiles_512_512_fullHENorm_from1802Dir/TNE0936/accept/TNE0936_19867_84547.jpg',\n",
       " '/data/gcs/lungNENomics/work/MathianE/Tiles_512_512_fullHENorm_from1802Dir/TNE0936/accept/TNE0936_37423_120583.jpg',\n",
       " '/data/gcs/lungNENomics/work/MathianE/Tiles_512_512_fullHENorm_from1802Dir/TNE0936/accept/TNE0936_6007_103027.jpg',\n",
       " '/data/gcs/lungNENomics/work/MathianE/Tiles_512_512_fullHENorm_from1802Dir/TNE0936/accept/TNE0936_13861_75769.jpg',\n",
       " '/data/gcs/lungNENomics/work/MathianE/Tiles_512_512_fullHENorm_from1802Dir/TNE0936/accept/TNE0936_12475_94249.jpg',\n",
       " '/data/gcs/lungNENomics/work/MathianE/Tiles_512_512_fullHENorm_from1802Dir/TNE0936/accept/TNE0936_36037_121045.jpg',\n",
       " '/data/gcs/lungNENomics/work/MathianE/Tiles_512_512_fullHENorm_from1802Dir/TNE0936/accept/TNE0936_34189_49897.jpg',\n",
       " '/data/gcs/lungNENomics/work/MathianE/Tiles_512_512_fullHENorm_from1802Dir/TNE0936/accept/TNE0936_53593_32341.jpg',\n",
       " '/data/gcs/lungNENomics/work/MathianE/Tiles_512_512_fullHENorm_from1802Dir/TNE0936/accept/TNE0936_24949_72535.jpg',\n",
       " '/data/gcs/lungNENomics/work/MathianE/Tiles_512_512_fullHENorm_from1802Dir/TNE0936/accept/TNE0936_13399_99793.jpg',\n",
       " '/data/gcs/lungNENomics/work/MathianE/Tiles_512_512_fullHENorm_from1802Dir/TNE0936/accept/TNE0936_31417_49897.jpg',\n",
       " '/data/gcs/lungNENomics/work/MathianE/Tiles_512_512_fullHENorm_from1802Dir/TNE0936/accept/TNE0936_20791_122431.jpg',\n",
       " '/data/gcs/lungNENomics/work/MathianE/Tiles_512_512_fullHENorm_from1802Dir/TNE0936/accept/TNE0936_11551_87781.jpg',\n",
       " '/data/gcs/lungNENomics/work/MathianE/Tiles_512_512_fullHENorm_from1802Dir/TNE0936/accept/TNE0936_20329_82699.jpg',\n",
       " '/data/gcs/lungNENomics/work/MathianE/Tiles_512_512_fullHENorm_from1802Dir/TNE0936/accept/TNE0936_25873_33265.jpg',\n",
       " '/data/gcs/lungNENomics/work/MathianE/Tiles_512_512_fullHENorm_from1802Dir/TNE0936/accept/TNE0936_29569_121507.jpg',\n",
       " '/data/gcs/lungNENomics/work/MathianE/Tiles_512_512_fullHENorm_from1802Dir/TNE0936/accept/TNE0936_11551_95173.jpg',\n",
       " '/data/gcs/lungNENomics/work/MathianE/Tiles_512_512_fullHENorm_from1802Dir/TNE0936/accept/TNE0936_30955_121969.jpg',\n",
       " '/data/gcs/lungNENomics/work/MathianE/Tiles_512_512_fullHENorm_from1802Dir/TNE0936/accept/TNE0936_17557_43429.jpg',\n",
       " '/data/gcs/lungNENomics/work/MathianE/Tiles_512_512_fullHENorm_from1802Dir/TNE0936/accept/TNE0936_37423_135367.jpg',\n",
       " '/data/gcs/lungNENomics/work/MathianE/Tiles_512_512_fullHENorm_from1802Dir/TNE0936/accept/TNE0936_89629_18481.jpg',\n",
       " '/data/gcs/lungNENomics/work/MathianE/Tiles_512_512_fullHENorm_from1802Dir/TNE0936/accept/TNE0936_22177_99331.jpg',\n",
       " '/data/gcs/lungNENomics/work/MathianE/Tiles_512_512_fullHENorm_from1802Dir/TNE0936/accept/TNE0936_8317_87781.jpg',\n",
       " '/data/gcs/lungNENomics/work/MathianE/Tiles_512_512_fullHENorm_from1802Dir/TNE0936/accept/TNE0936_36037_134443.jpg',\n",
       " '/data/gcs/lungNENomics/work/MathianE/Tiles_512_512_fullHENorm_from1802Dir/TNE0936/accept/TNE0936_22177_82699.jpg',\n",
       " '/data/gcs/lungNENomics/work/MathianE/Tiles_512_512_fullHENorm_from1802Dir/TNE0936/accept/TNE0936_29569_96097.jpg',\n",
       " '/data/gcs/lungNENomics/work/MathianE/Tiles_512_512_fullHENorm_from1802Dir/TNE0936/accept/TNE0936_46201_50821.jpg',\n",
       " '/data/gcs/lungNENomics/work/MathianE/Tiles_512_512_fullHENorm_from1802Dir/TNE0936/accept/TNE0936_25411_85009.jpg',\n",
       " '/data/gcs/lungNENomics/work/MathianE/Tiles_512_512_fullHENorm_from1802Dir/TNE0936/accept/TNE0936_463_76231.jpg',\n",
       " '/data/gcs/lungNENomics/work/MathianE/Tiles_512_512_fullHENorm_from1802Dir/TNE0936/accept/TNE0936_25411_128437.jpg',\n",
       " '/data/gcs/lungNENomics/work/MathianE/Tiles_512_512_fullHENorm_from1802Dir/TNE0936/accept/TNE0936_36961_133981.jpg',\n",
       " '/data/gcs/lungNENomics/work/MathianE/Tiles_512_512_fullHENorm_from1802Dir/TNE0936/accept/TNE0936_48973_31417.jpg',\n",
       " '/data/gcs/lungNENomics/work/MathianE/Tiles_512_512_fullHENorm_from1802Dir/TNE0936/accept/TNE0936_14323_98869.jpg',\n",
       " '/data/gcs/lungNENomics/work/MathianE/Tiles_512_512_fullHENorm_from1802Dir/TNE0936/accept/TNE0936_17557_118735.jpg',\n",
       " '/data/gcs/lungNENomics/work/MathianE/Tiles_512_512_fullHENorm_from1802Dir/TNE0936/accept/TNE0936_52669_31417.jpg',\n",
       " '/data/gcs/lungNENomics/work/MathianE/Tiles_512_512_fullHENorm_from1802Dir/TNE0936/accept/TNE0936_22177_110419.jpg',\n",
       " '/data/gcs/lungNENomics/work/MathianE/Tiles_512_512_fullHENorm_from1802Dir/TNE0936/accept/TNE0936_73921_19405.jpg',\n",
       " '/data/gcs/lungNENomics/work/MathianE/Tiles_512_512_fullHENorm_from1802Dir/TNE0936/accept/TNE0936_34189_95635.jpg',\n",
       " '/data/gcs/lungNENomics/work/MathianE/Tiles_512_512_fullHENorm_from1802Dir/TNE0936/accept/TNE0936_11089_96097.jpg',\n",
       " '/data/gcs/lungNENomics/work/MathianE/Tiles_512_512_fullHENorm_from1802Dir/TNE0936/accept/TNE0936_25873_74383.jpg',\n",
       " '/data/gcs/lungNENomics/work/MathianE/Tiles_512_512_fullHENorm_from1802Dir/TNE0936/accept/TNE0936_22639_121969.jpg',\n",
       " '/data/gcs/lungNENomics/work/MathianE/Tiles_512_512_fullHENorm_from1802Dir/TNE0936/accept/TNE0936_38809_28645.jpg',\n",
       " '/data/gcs/lungNENomics/work/MathianE/Tiles_512_512_fullHENorm_from1802Dir/TNE0936/accept/TNE0936_32341_98869.jpg',\n",
       " '/data/gcs/lungNENomics/work/MathianE/Tiles_512_512_fullHENorm_from1802Dir/TNE0936/accept/TNE0936_30493_117349.jpg',\n",
       " '/data/gcs/lungNENomics/work/MathianE/Tiles_512_512_fullHENorm_from1802Dir/TNE0936/accept/TNE0936_38347_118735.jpg',\n",
       " '/data/gcs/lungNENomics/work/MathianE/Tiles_512_512_fullHENorm_from1802Dir/TNE0936/accept/TNE0936_30493_133981.jpg',\n",
       " '/data/gcs/lungNENomics/work/MathianE/Tiles_512_512_fullHENorm_from1802Dir/TNE0936/accept/TNE0936_22639_97945.jpg',\n",
       " '/data/gcs/lungNENomics/work/MathianE/Tiles_512_512_fullHENorm_from1802Dir/TNE0936/accept/TNE0936_20791_114577.jpg',\n",
       " '/data/gcs/lungNENomics/work/MathianE/Tiles_512_512_fullHENorm_from1802Dir/TNE0936/accept/TNE0936_35113_47125.jpg',\n",
       " '/data/gcs/lungNENomics/work/MathianE/Tiles_512_512_fullHENorm_from1802Dir/TNE0936/accept/TNE0936_18481_101179.jpg',\n",
       " '/data/gcs/lungNENomics/work/MathianE/Tiles_512_512_fullHENorm_from1802Dir/TNE0936/accept/TNE0936_11551_98869.jpg',\n",
       " '/data/gcs/lungNENomics/work/MathianE/Tiles_512_512_fullHENorm_from1802Dir/TNE0936/accept/TNE0936_1387_80389.jpg',\n",
       " '/data/gcs/lungNENomics/work/MathianE/Tiles_512_512_fullHENorm_from1802Dir/TNE0936/accept/TNE0936_34189_42505.jpg',\n",
       " '/data/gcs/lungNENomics/work/MathianE/Tiles_512_512_fullHENorm_from1802Dir/TNE0936/accept/TNE0936_12013_93325.jpg',\n",
       " '/data/gcs/lungNENomics/work/MathianE/Tiles_512_512_fullHENorm_from1802Dir/TNE0936/accept/TNE0936_1849_92401.jpg',\n",
       " '/data/gcs/lungNENomics/work/MathianE/Tiles_512_512_fullHENorm_from1802Dir/TNE0936/accept/TNE0936_9241_99793.jpg',\n",
       " '/data/gcs/lungNENomics/work/MathianE/Tiles_512_512_fullHENorm_from1802Dir/TNE0936/accept/TNE0936_13399_90553.jpg',\n",
       " '/data/gcs/lungNENomics/work/MathianE/Tiles_512_512_fullHENorm_from1802Dir/TNE0936/accept/TNE0936_27721_36037.jpg',\n",
       " '/data/gcs/lungNENomics/work/MathianE/Tiles_512_512_fullHENorm_from1802Dir/TNE0936/accept/TNE0936_26335_117349.jpg',\n",
       " '/data/gcs/lungNENomics/work/MathianE/Tiles_512_512_fullHENorm_from1802Dir/TNE0936/accept/TNE0936_41119_121507.jpg',\n",
       " '/data/gcs/lungNENomics/work/MathianE/Tiles_512_512_fullHENorm_from1802Dir/TNE0936/accept/TNE0936_85009_27721.jpg',\n",
       " '/data/gcs/lungNENomics/work/MathianE/Tiles_512_512_fullHENorm_from1802Dir/TNE0936/accept/TNE0936_15709_47125.jpg',\n",
       " '/data/gcs/lungNENomics/work/MathianE/Tiles_512_512_fullHENorm_from1802Dir/TNE0936/accept/TNE0936_18943_110419.jpg',\n",
       " '/data/gcs/lungNENomics/work/MathianE/Tiles_512_512_fullHENorm_from1802Dir/TNE0936/accept/TNE0936_16633_107647.jpg',\n",
       " '/data/gcs/lungNENomics/work/MathianE/Tiles_512_512_fullHENorm_from1802Dir/TNE0936/accept/TNE0936_60061_25873.jpg',\n",
       " '/data/gcs/lungNENomics/work/MathianE/Tiles_512_512_fullHENorm_from1802Dir/TNE0936/accept/TNE0936_64681_24025.jpg',\n",
       " '/data/gcs/lungNENomics/work/MathianE/Tiles_512_512_fullHENorm_from1802Dir/TNE0936/accept/TNE0936_36037_51745.jpg',\n",
       " '/data/gcs/lungNENomics/work/MathianE/Tiles_512_512_fullHENorm_from1802Dir/TNE0936/accept/TNE0936_24949_121045.jpg',\n",
       " '/data/gcs/lungNENomics/work/MathianE/Tiles_512_512_fullHENorm_from1802Dir/TNE0936/accept/TNE0936_31879_116887.jpg',\n",
       " '/data/gcs/lungNENomics/work/MathianE/Tiles_512_512_fullHENorm_from1802Dir/TNE0936/accept/TNE0936_28645_127051.jpg',\n",
       " '/data/gcs/lungNENomics/work/MathianE/Tiles_512_512_fullHENorm_from1802Dir/TNE0936/accept/TNE0936_20791_115039.jpg',\n",
       " '/data/gcs/lungNENomics/work/MathianE/Tiles_512_512_fullHENorm_from1802Dir/TNE0936/accept/TNE0936_41581_124279.jpg',\n",
       " '/data/gcs/lungNENomics/work/MathianE/Tiles_512_512_fullHENorm_from1802Dir/TNE0936/accept/TNE0936_30493_32341.jpg',\n",
       " '/data/gcs/lungNENomics/work/MathianE/Tiles_512_512_fullHENorm_from1802Dir/TNE0936/accept/TNE0936_17557_85471.jpg',\n",
       " '/data/gcs/lungNENomics/work/MathianE/Tiles_512_512_fullHENorm_from1802Dir/TNE0936/accept/TNE0936_13861_53593.jpg',\n",
       " '/data/gcs/lungNENomics/work/MathianE/Tiles_512_512_fullHENorm_from1802Dir/TNE0936/accept/TNE0936_60985_15709.jpg',\n",
       " '/data/gcs/lungNENomics/work/MathianE/Tiles_512_512_fullHENorm_from1802Dir/TNE0936/accept/TNE0936_89629_20329.jpg',\n",
       " '/data/gcs/lungNENomics/work/MathianE/Tiles_512_512_fullHENorm_from1802Dir/TNE0936/accept/TNE0936_74845_24949.jpg',\n",
       " '/data/gcs/lungNENomics/work/MathianE/Tiles_512_512_fullHENorm_from1802Dir/TNE0936/accept/TNE0936_7855_94711.jpg',\n",
       " '/data/gcs/lungNENomics/work/MathianE/Tiles_512_512_fullHENorm_from1802Dir/TNE0936/accept/TNE0936_29569_28645.jpg',\n",
       " '/data/gcs/lungNENomics/work/MathianE/Tiles_512_512_fullHENorm_from1802Dir/TNE0936/accept/TNE0936_85009_36961.jpg',\n",
       " '/data/gcs/lungNENomics/work/MathianE/Tiles_512_512_fullHENorm_from1802Dir/TNE0936/accept/TNE0936_18019_108109.jpg',\n",
       " '/data/gcs/lungNENomics/work/MathianE/Tiles_512_512_fullHENorm_from1802Dir/TNE0936/accept/TNE0936_16633_48973.jpg',\n",
       " '/data/gcs/lungNENomics/work/MathianE/Tiles_512_512_fullHENorm_from1802Dir/TNE0936/accept/TNE0936_39733_119659.jpg',\n",
       " '/data/gcs/lungNENomics/work/MathianE/Tiles_512_512_fullHENorm_from1802Dir/TNE0936/accept/TNE0936_47125_37885.jpg',\n",
       " '/data/gcs/lungNENomics/work/MathianE/Tiles_512_512_fullHENorm_from1802Dir/TNE0936/accept/TNE0936_23563_127513.jpg',\n",
       " '/data/gcs/lungNENomics/work/MathianE/Tiles_512_512_fullHENorm_from1802Dir/TNE0936/accept/TNE0936_11551_74845.jpg',\n",
       " '/data/gcs/lungNENomics/work/MathianE/Tiles_512_512_fullHENorm_from1802Dir/TNE0936/accept/TNE0936_45277_38809.jpg',\n",
       " '/data/gcs/lungNENomics/work/MathianE/Tiles_512_512_fullHENorm_from1802Dir/TNE0936/accept/TNE0936_87781_26797.jpg',\n",
       " '/data/gcs/lungNENomics/work/MathianE/Tiles_512_512_fullHENorm_from1802Dir/TNE0936/accept/TNE0936_35575_126127.jpg',\n",
       " '/data/gcs/lungNENomics/work/MathianE/Tiles_512_512_fullHENorm_from1802Dir/TNE0936/accept/TNE0936_38809_127513.jpg',\n",
       " '/data/gcs/lungNENomics/work/MathianE/Tiles_512_512_fullHENorm_from1802Dir/TNE0936/accept/TNE0936_30493_91939.jpg',\n",
       " '/data/gcs/lungNENomics/work/MathianE/Tiles_512_512_fullHENorm_from1802Dir/TNE0936/accept/TNE0936_21715_118735.jpg',\n",
       " '/data/gcs/lungNENomics/work/MathianE/Tiles_512_512_fullHENorm_from1802Dir/TNE0936/accept/TNE0936_25873_77617.jpg',\n",
       " '/data/gcs/lungNENomics/work/MathianE/Tiles_512_512_fullHENorm_from1802Dir/TNE0936/accept/TNE0936_33727_121969.jpg',\n",
       " '/data/gcs/lungNENomics/work/MathianE/Tiles_512_512_fullHENorm_from1802Dir/TNE0936/accept/TNE0936_6469_48049.jpg',\n",
       " '/data/gcs/lungNENomics/work/MathianE/Tiles_512_512_fullHENorm_from1802Dir/TNE0936/accept/TNE0936_27721_120583.jpg',\n",
       " '/data/gcs/lungNENomics/work/MathianE/Tiles_512_512_fullHENorm_from1802Dir/TNE0936/accept/TNE0936_6931_92863.jpg',\n",
       " '/data/gcs/lungNENomics/work/MathianE/Tiles_512_512_fullHENorm_from1802Dir/TNE0936/accept/TNE0936_20329_113191.jpg',\n",
       " '/data/gcs/lungNENomics/work/MathianE/Tiles_512_512_fullHENorm_from1802Dir/TNE0936/accept/TNE0936_27721_53593.jpg',\n",
       " '/data/gcs/lungNENomics/work/MathianE/Tiles_512_512_fullHENorm_from1802Dir/TNE0936/accept/TNE0936_34651_127051.jpg',\n",
       " '/data/gcs/lungNENomics/work/MathianE/Tiles_512_512_fullHENorm_from1802Dir/TNE0936/accept/TNE0936_35575_119659.jpg',\n",
       " '/data/gcs/lungNENomics/work/MathianE/Tiles_512_512_fullHENorm_from1802Dir/TNE0936/accept/TNE0936_6469_51745.jpg',\n",
       " '/data/gcs/lungNENomics/work/MathianE/Tiles_512_512_fullHENorm_from1802Dir/TNE0936/accept/TNE0936_21715_76693.jpg',\n",
       " '/data/gcs/lungNENomics/work/MathianE/Tiles_512_512_fullHENorm_from1802Dir/TNE0936/accept/TNE0936_28645_44353.jpg',\n",
       " '/data/gcs/lungNENomics/work/MathianE/Tiles_512_512_fullHENorm_from1802Dir/TNE0936/accept/TNE0936_36037_26797.jpg',\n",
       " '/data/gcs/lungNENomics/work/MathianE/Tiles_512_512_fullHENorm_from1802Dir/TNE0936/accept/TNE0936_18481_46201.jpg',\n",
       " '/data/gcs/lungNENomics/work/MathianE/Tiles_512_512_fullHENorm_from1802Dir/TNE0936/accept/TNE0936_34189_129361.jpg',\n",
       " '/data/gcs/lungNENomics/work/MathianE/Tiles_512_512_fullHENorm_from1802Dir/TNE0936/accept/TNE0936_12937_46201.jpg',\n",
       " '/data/gcs/lungNENomics/work/MathianE/Tiles_512_512_fullHENorm_from1802Dir/TNE0936/accept/TNE0936_27259_122431.jpg',\n",
       " '/data/gcs/lungNENomics/work/MathianE/Tiles_512_512_fullHENorm_from1802Dir/TNE0936/accept/TNE0936_39271_128899.jpg',\n",
       " '/data/gcs/lungNENomics/work/MathianE/Tiles_512_512_fullHENorm_from1802Dir/TNE0936/accept/TNE0936_43429_20329.jpg',\n",
       " '/data/gcs/lungNENomics/work/MathianE/Tiles_512_512_fullHENorm_from1802Dir/TNE0936/accept/TNE0936_10165_96097.jpg',\n",
       " '/data/gcs/lungNENomics/work/MathianE/Tiles_512_512_fullHENorm_from1802Dir/TNE0936/accept/TNE0936_23101_52669.jpg',\n",
       " '/data/gcs/lungNENomics/work/MathianE/Tiles_512_512_fullHENorm_from1802Dir/TNE0936/accept/TNE0936_38347_124741.jpg',\n",
       " '/data/gcs/lungNENomics/work/MathianE/Tiles_512_512_fullHENorm_from1802Dir/TNE0936/accept/TNE0936_15247_107647.jpg',\n",
       " '/data/gcs/lungNENomics/work/MathianE/Tiles_512_512_fullHENorm_from1802Dir/TNE0936/accept/TNE0936_15247_70225.jpg',\n",
       " '/data/gcs/lungNENomics/work/MathianE/Tiles_512_512_fullHENorm_from1802Dir/TNE0936/accept/TNE0936_29107_93787.jpg',\n",
       " '/data/gcs/lungNENomics/work/MathianE/Tiles_512_512_fullHENorm_from1802Dir/TNE0936/accept/TNE0936_26797_108571.jpg',\n",
       " '/data/gcs/lungNENomics/work/MathianE/Tiles_512_512_fullHENorm_from1802Dir/TNE0936/accept/TNE0936_16171_109033.jpg',\n",
       " '/data/gcs/lungNENomics/work/MathianE/Tiles_512_512_fullHENorm_from1802Dir/TNE0936/accept/TNE0936_6007_91477.jpg',\n",
       " '/data/gcs/lungNENomics/work/MathianE/Tiles_512_512_fullHENorm_from1802Dir/TNE0936/accept/TNE0936_33265_41581.jpg',\n",
       " '/data/gcs/lungNENomics/work/MathianE/Tiles_512_512_fullHENorm_from1802Dir/TNE0936/accept/TNE0936_27259_123355.jpg',\n",
       " '/data/gcs/lungNENomics/work/MathianE/Tiles_512_512_fullHENorm_from1802Dir/TNE0936/accept/TNE0936_46201_24949.jpg',\n",
       " '/data/gcs/lungNENomics/work/MathianE/Tiles_512_512_fullHENorm_from1802Dir/TNE0936/accept/TNE0936_16633_79927.jpg',\n",
       " '/data/gcs/lungNENomics/work/MathianE/Tiles_512_512_fullHENorm_from1802Dir/TNE0936/accept/TNE0936_37885_110881.jpg',\n",
       " '/data/gcs/lungNENomics/work/MathianE/Tiles_512_512_fullHENorm_from1802Dir/TNE0936/accept/TNE0936_22177_102565.jpg',\n",
       " '/data/gcs/lungNENomics/work/MathianE/Tiles_512_512_fullHENorm_from1802Dir/TNE0936/accept/TNE0936_23563_113653.jpg',\n",
       " '/data/gcs/lungNENomics/work/MathianE/Tiles_512_512_fullHENorm_from1802Dir/TNE0936/accept/TNE0936_25411_96097.jpg',\n",
       " '/data/gcs/lungNENomics/work/MathianE/Tiles_512_512_fullHENorm_from1802Dir/TNE0936/accept/TNE0936_33727_129361.jpg',\n",
       " '/data/gcs/lungNENomics/work/MathianE/Tiles_512_512_fullHENorm_from1802Dir/TNE0936/accept/TNE0936_19867_82699.jpg',\n",
       " '/data/gcs/lungNENomics/work/MathianE/Tiles_512_512_fullHENorm_from1802Dir/TNE0936/accept/TNE0936_30031_85471.jpg',\n",
       " '/data/gcs/lungNENomics/work/MathianE/Tiles_512_512_fullHENorm_from1802Dir/TNE0936/accept/TNE0936_81313_4621.jpg',\n",
       " '/data/gcs/lungNENomics/work/MathianE/Tiles_512_512_fullHENorm_from1802Dir/TNE0936/accept/TNE0936_37885_117349.jpg',\n",
       " '/data/gcs/lungNENomics/work/MathianE/Tiles_512_512_fullHENorm_from1802Dir/TNE0936/accept/TNE0936_15709_99793.jpg',\n",
       " '/data/gcs/lungNENomics/work/MathianE/Tiles_512_512_fullHENorm_from1802Dir/TNE0936/accept/TNE0936_51745_18481.jpg',\n",
       " '/data/gcs/lungNENomics/work/MathianE/Tiles_512_512_fullHENorm_from1802Dir/TNE0936/accept/TNE0936_17095_94249.jpg',\n",
       " '/data/gcs/lungNENomics/work/MathianE/Tiles_512_512_fullHENorm_from1802Dir/TNE0936/accept/TNE0936_50821_18481.jpg',\n",
       " '/data/gcs/lungNENomics/work/MathianE/Tiles_512_512_fullHENorm_from1802Dir/TNE0936/accept/TNE0936_4159_94711.jpg',\n",
       " '/data/gcs/lungNENomics/work/MathianE/Tiles_512_512_fullHENorm_from1802Dir/TNE0936/accept/TNE0936_76693_30493.jpg',\n",
       " '/data/gcs/lungNENomics/work/MathianE/Tiles_512_512_fullHENorm_from1802Dir/TNE0936/accept/TNE0936_32341_129361.jpg',\n",
       " '/data/gcs/lungNENomics/work/MathianE/Tiles_512_512_fullHENorm_from1802Dir/TNE0936/accept/TNE0936_24487_121969.jpg',\n",
       " '/data/gcs/lungNENomics/work/MathianE/Tiles_512_512_fullHENorm_from1802Dir/TNE0936/accept/TNE0936_36499_113191.jpg',\n",
       " '/data/gcs/lungNENomics/work/MathianE/Tiles_512_512_fullHENorm_from1802Dir/TNE0936/accept/TNE0936_26797_109033.jpg',\n",
       " '/data/gcs/lungNENomics/work/MathianE/Tiles_512_512_fullHENorm_from1802Dir/TNE0936/accept/TNE0936_11089_99793.jpg',\n",
       " '/data/gcs/lungNENomics/work/MathianE/Tiles_512_512_fullHENorm_from1802Dir/TNE0936/accept/TNE0936_86857_34189.jpg',\n",
       " '/data/gcs/lungNENomics/work/MathianE/Tiles_512_512_fullHENorm_from1802Dir/TNE0936/accept/TNE0936_2773_96097.jpg',\n",
       " '/data/gcs/lungNENomics/work/MathianE/Tiles_512_512_fullHENorm_from1802Dir/TNE0936/accept/TNE0936_23563_85933.jpg',\n",
       " '/data/gcs/lungNENomics/work/MathianE/Tiles_512_512_fullHENorm_from1802Dir/TNE0936/accept/TNE0936_40195_129823.jpg',\n",
       " '/data/gcs/lungNENomics/work/MathianE/Tiles_512_512_fullHENorm_from1802Dir/TNE0936/accept/TNE0936_30031_88243.jpg',\n",
       " '/data/gcs/lungNENomics/work/MathianE/Tiles_512_512_fullHENorm_from1802Dir/TNE0936/accept/TNE0936_29569_81313.jpg',\n",
       " '/data/gcs/lungNENomics/work/MathianE/Tiles_512_512_fullHENorm_from1802Dir/TNE0936/accept/TNE0936_17095_80389.jpg',\n",
       " '/data/gcs/lungNENomics/work/MathianE/Tiles_512_512_fullHENorm_from1802Dir/TNE0936/accept/TNE0936_63757_16633.jpg',\n",
       " '/data/gcs/lungNENomics/work/MathianE/Tiles_512_512_fullHENorm_from1802Dir/TNE0936/accept/TNE0936_15247_72997.jpg',\n",
       " '/data/gcs/lungNENomics/work/MathianE/Tiles_512_512_fullHENorm_from1802Dir/TNE0936/accept/TNE0936_29569_89167.jpg',\n",
       " '/data/gcs/lungNENomics/work/MathianE/Tiles_512_512_fullHENorm_from1802Dir/TNE0936/accept/TNE0936_6931_101641.jpg',\n",
       " '/data/gcs/lungNENomics/work/MathianE/Tiles_512_512_fullHENorm_from1802Dir/TNE0936/accept/TNE0936_22639_120583.jpg',\n",
       " '/data/gcs/lungNENomics/work/MathianE/Tiles_512_512_fullHENorm_from1802Dir/TNE0936/accept/TNE0936_87781_19405.jpg',\n",
       " '/data/gcs/lungNENomics/work/MathianE/Tiles_512_512_fullHENorm_from1802Dir/TNE0936/accept/TNE0936_34189_48973.jpg',\n",
       " '/data/gcs/lungNENomics/work/MathianE/Tiles_512_512_fullHENorm_from1802Dir/TNE0936/accept/TNE0936_31417_126589.jpg',\n",
       " '/data/gcs/lungNENomics/work/MathianE/Tiles_512_512_fullHENorm_from1802Dir/TNE0936/accept/TNE0936_11089_73921.jpg',\n",
       " '/data/gcs/lungNENomics/work/MathianE/Tiles_512_512_fullHENorm_from1802Dir/TNE0936/accept/TNE0936_66529_23101.jpg',\n",
       " '/data/gcs/lungNENomics/work/MathianE/Tiles_512_512_fullHENorm_from1802Dir/TNE0936/accept/TNE0936_47125_31417.jpg',\n",
       " '/data/gcs/lungNENomics/work/MathianE/Tiles_512_512_fullHENorm_from1802Dir/TNE0936/accept/TNE0936_22177_96097.jpg',\n",
       " '/data/gcs/lungNENomics/work/MathianE/Tiles_512_512_fullHENorm_from1802Dir/TNE0936/accept/TNE0936_26797_78079.jpg',\n",
       " '/data/gcs/lungNENomics/work/MathianE/Tiles_512_512_fullHENorm_from1802Dir/TNE0936/accept/TNE0936_44353_38809.jpg',\n",
       " '/data/gcs/lungNENomics/work/MathianE/Tiles_512_512_fullHENorm_from1802Dir/TNE0936/accept/TNE0936_12937_91477.jpg',\n",
       " '/data/gcs/lungNENomics/work/MathianE/Tiles_512_512_fullHENorm_from1802Dir/TNE0936/accept/TNE0936_29569_125203.jpg',\n",
       " '/data/gcs/lungNENomics/work/MathianE/Tiles_512_512_fullHENorm_from1802Dir/TNE0936/accept/TNE0936_17557_91477.jpg',\n",
       " '/data/gcs/lungNENomics/work/MathianE/Tiles_512_512_fullHENorm_from1802Dir/TNE0936/accept/TNE0936_14323_96097.jpg',\n",
       " '/data/gcs/lungNENomics/work/MathianE/Tiles_512_512_fullHENorm_from1802Dir/TNE0936/accept/TNE0936_64681_33265.jpg',\n",
       " '/data/gcs/lungNENomics/work/MathianE/Tiles_512_512_fullHENorm_from1802Dir/TNE0936/accept/TNE0936_57289_37885.jpg',\n",
       " '/data/gcs/lungNENomics/work/MathianE/Tiles_512_512_fullHENorm_from1802Dir/TNE0936/accept/TNE0936_16633_39733.jpg',\n",
       " '/data/gcs/lungNENomics/work/MathianE/Tiles_512_512_fullHENorm_from1802Dir/TNE0936/accept/TNE0936_14323_95173.jpg',\n",
       " '/data/gcs/lungNENomics/work/MathianE/Tiles_512_512_fullHENorm_from1802Dir/TNE0936/accept/TNE0936_82237_37885.jpg',\n",
       " '/data/gcs/lungNENomics/work/MathianE/Tiles_512_512_fullHENorm_from1802Dir/TNE0936/accept/TNE0936_30493_118273.jpg',\n",
       " '/data/gcs/lungNENomics/work/MathianE/Tiles_512_512_fullHENorm_from1802Dir/TNE0936/accept/TNE0936_20329_112729.jpg',\n",
       " '/data/gcs/lungNENomics/work/MathianE/Tiles_512_512_fullHENorm_from1802Dir/TNE0936/accept/TNE0936_7393_73921.jpg',\n",
       " '/data/gcs/lungNENomics/work/MathianE/Tiles_512_512_fullHENorm_from1802Dir/TNE0936/accept/TNE0936_19867_105799.jpg',\n",
       " '/data/gcs/lungNENomics/work/MathianE/Tiles_512_512_fullHENorm_from1802Dir/TNE0936/accept/TNE0936_16633_116887.jpg',\n",
       " '/data/gcs/lungNENomics/work/MathianE/Tiles_512_512_fullHENorm_from1802Dir/TNE0936/accept/TNE0936_34651_124279.jpg',\n",
       " '/data/gcs/lungNENomics/work/MathianE/Tiles_512_512_fullHENorm_from1802Dir/TNE0936/accept/TNE0936_30493_50821.jpg',\n",
       " '/data/gcs/lungNENomics/work/MathianE/Tiles_512_512_fullHENorm_from1802Dir/TNE0936/accept/TNE0936_58213_46201.jpg',\n",
       " '/data/gcs/lungNENomics/work/MathianE/Tiles_512_512_fullHENorm_from1802Dir/TNE0936/accept/TNE0936_4159_76231.jpg',\n",
       " '/data/gcs/lungNENomics/work/MathianE/Tiles_512_512_fullHENorm_from1802Dir/TNE0936/accept/TNE0936_41581_125203.jpg',\n",
       " '/data/gcs/lungNENomics/work/MathianE/Tiles_512_512_fullHENorm_from1802Dir/TNE0936/accept/TNE0936_20791_114115.jpg',\n",
       " '/data/gcs/lungNENomics/work/MathianE/Tiles_512_512_fullHENorm_from1802Dir/TNE0936/accept/TNE0936_21253_118735.jpg',\n",
       " '/data/gcs/lungNENomics/work/MathianE/Tiles_512_512_fullHENorm_from1802Dir/TNE0936/accept/TNE0936_15709_92863.jpg',\n",
       " '/data/gcs/lungNENomics/work/MathianE/Tiles_512_512_fullHENorm_from1802Dir/TNE0936/accept/TNE0936_84085_4621.jpg',\n",
       " '/data/gcs/lungNENomics/work/MathianE/Tiles_512_512_fullHENorm_from1802Dir/TNE0936/accept/TNE0936_13399_97021.jpg',\n",
       " '/data/gcs/lungNENomics/work/MathianE/Tiles_512_512_fullHENorm_from1802Dir/TNE0936/accept/TNE0936_12937_99331.jpg',\n",
       " '/data/gcs/lungNENomics/work/MathianE/Tiles_512_512_fullHENorm_from1802Dir/TNE0936/accept/TNE0936_4159_92401.jpg',\n",
       " '/data/gcs/lungNENomics/work/MathianE/Tiles_512_512_fullHENorm_from1802Dir/TNE0936/accept/TNE0936_32803_121969.jpg',\n",
       " '/data/gcs/lungNENomics/work/MathianE/Tiles_512_512_fullHENorm_from1802Dir/TNE0936/accept/TNE0936_39271_125665.jpg',\n",
       " '/data/gcs/lungNENomics/work/MathianE/Tiles_512_512_fullHENorm_from1802Dir/TNE0936/accept/TNE0936_11551_98407.jpg',\n",
       " '/data/gcs/lungNENomics/work/MathianE/Tiles_512_512_fullHENorm_from1802Dir/TNE0936/accept/TNE0936_30955_116887.jpg',\n",
       " '/data/gcs/lungNENomics/work/MathianE/Tiles_512_512_fullHENorm_from1802Dir/TNE0936/accept/TNE0936_24949_41581.jpg',\n",
       " '/data/gcs/lungNENomics/work/MathianE/Tiles_512_512_fullHENorm_from1802Dir/TNE0936/accept/TNE0936_20791_121969.jpg',\n",
       " '/data/gcs/lungNENomics/work/MathianE/Tiles_512_512_fullHENorm_from1802Dir/TNE0936/accept/TNE0936_30955_129361.jpg',\n",
       " '/data/gcs/lungNENomics/work/MathianE/Tiles_512_512_fullHENorm_from1802Dir/TNE0936/accept/TNE0936_17557_104875.jpg',\n",
       " '/data/gcs/lungNENomics/work/MathianE/Tiles_512_512_fullHENorm_from1802Dir/TNE0936/accept/TNE0936_28645_76231.jpg',\n",
       " '/data/gcs/lungNENomics/work/MathianE/Tiles_512_512_fullHENorm_from1802Dir/TNE0936/accept/TNE0936_34189_114577.jpg',\n",
       " '/data/gcs/lungNENomics/work/MathianE/Tiles_512_512_fullHENorm_from1802Dir/TNE0936/accept/TNE0936_22177_48049.jpg',\n",
       " '/data/gcs/lungNENomics/work/MathianE/Tiles_512_512_fullHENorm_from1802Dir/TNE0936/accept/TNE0936_26335_77617.jpg',\n",
       " '/data/gcs/lungNENomics/work/MathianE/Tiles_512_512_fullHENorm_from1802Dir/TNE0936/accept/TNE0936_62833_22177.jpg',\n",
       " '/data/gcs/lungNENomics/work/MathianE/Tiles_512_512_fullHENorm_from1802Dir/TNE0936/accept/TNE0936_25411_123355.jpg',\n",
       " '/data/gcs/lungNENomics/work/MathianE/Tiles_512_512_fullHENorm_from1802Dir/TNE0936/accept/TNE0936_51745_27721.jpg',\n",
       " '/data/gcs/lungNENomics/work/MathianE/Tiles_512_512_fullHENorm_from1802Dir/TNE0936/accept/TNE0936_30493_122431.jpg',\n",
       " '/data/gcs/lungNENomics/work/MathianE/Tiles_512_512_fullHENorm_from1802Dir/TNE0936/accept/TNE0936_60061_24025.jpg',\n",
       " '/data/gcs/lungNENomics/work/MathianE/Tiles_512_512_fullHENorm_from1802Dir/TNE0936/accept/TNE0936_36961_129361.jpg',\n",
       " '/data/gcs/lungNENomics/work/MathianE/Tiles_512_512_fullHENorm_from1802Dir/TNE0936/accept/TNE0936_12013_109033.jpg',\n",
       " '/data/gcs/lungNENomics/work/MathianE/Tiles_512_512_fullHENorm_from1802Dir/TNE0936/accept/TNE0936_30031_93325.jpg',\n",
       " '/data/gcs/lungNENomics/work/MathianE/Tiles_512_512_fullHENorm_from1802Dir/TNE0936/accept/TNE0936_56365_21253.jpg',\n",
       " '/data/gcs/lungNENomics/work/MathianE/Tiles_512_512_fullHENorm_from1802Dir/TNE0936/accept/TNE0936_25411_77617.jpg',\n",
       " '/data/gcs/lungNENomics/work/MathianE/Tiles_512_512_fullHENorm_from1802Dir/TNE0936/accept/TNE0936_18481_88705.jpg',\n",
       " '/data/gcs/lungNENomics/work/MathianE/Tiles_512_512_fullHENorm_from1802Dir/TNE0936/accept/TNE0936_17095_108571.jpg',\n",
       " '/data/gcs/lungNENomics/work/MathianE/Tiles_512_512_fullHENorm_from1802Dir/TNE0936/accept/TNE0936_37423_128899.jpg',\n",
       " '/data/gcs/lungNENomics/work/MathianE/Tiles_512_512_fullHENorm_from1802Dir/TNE0936/accept/TNE0936_9703_97483.jpg',\n",
       " '/data/gcs/lungNENomics/work/MathianE/Tiles_512_512_fullHENorm_from1802Dir/TNE0936/accept/TNE0936_28645_80851.jpg',\n",
       " '/data/gcs/lungNENomics/work/MathianE/Tiles_512_512_fullHENorm_from1802Dir/TNE0936/accept/TNE0936_37423_137677.jpg',\n",
       " '/data/gcs/lungNENomics/work/MathianE/Tiles_512_512_fullHENorm_from1802Dir/TNE0936/accept/TNE0936_9703_93325.jpg',\n",
       " '/data/gcs/lungNENomics/work/MathianE/Tiles_512_512_fullHENorm_from1802Dir/TNE0936/accept/TNE0936_27721_120121.jpg',\n",
       " '/data/gcs/lungNENomics/work/MathianE/Tiles_512_512_fullHENorm_from1802Dir/TNE0936/accept/TNE0936_11089_73459.jpg',\n",
       " '/data/gcs/lungNENomics/work/MathianE/Tiles_512_512_fullHENorm_from1802Dir/TNE0936/accept/TNE0936_9703_75307.jpg',\n",
       " '/data/gcs/lungNENomics/work/MathianE/Tiles_512_512_fullHENorm_from1802Dir/TNE0936/accept/TNE0936_19867_117811.jpg',\n",
       " '/data/gcs/lungNENomics/work/MathianE/Tiles_512_512_fullHENorm_from1802Dir/TNE0936/accept/TNE0936_30493_120583.jpg',\n",
       " '/data/gcs/lungNENomics/work/MathianE/Tiles_512_512_fullHENorm_from1802Dir/TNE0936/accept/TNE0936_36961_43429.jpg',\n",
       " '/data/gcs/lungNENomics/work/MathianE/Tiles_512_512_fullHENorm_from1802Dir/TNE0936/accept/TNE0936_64681_16633.jpg',\n",
       " '/data/gcs/lungNENomics/work/MathianE/Tiles_512_512_fullHENorm_from1802Dir/TNE0936/accept/TNE0936_21715_107647.jpg',\n",
       " '/data/gcs/lungNENomics/work/MathianE/Tiles_512_512_fullHENorm_from1802Dir/TNE0936/accept/TNE0936_36961_134905.jpg',\n",
       " '/data/gcs/lungNENomics/work/MathianE/Tiles_512_512_fullHENorm_from1802Dir/TNE0936/accept/TNE0936_32341_122893.jpg',\n",
       " '/data/gcs/lungNENomics/work/MathianE/Tiles_512_512_fullHENorm_from1802Dir/TNE0936/accept/TNE0936_31417_134443.jpg',\n",
       " '/data/gcs/lungNENomics/work/MathianE/Tiles_512_512_fullHENorm_from1802Dir/TNE0936/accept/TNE0936_37423_118273.jpg',\n",
       " '/data/gcs/lungNENomics/work/MathianE/Tiles_512_512_fullHENorm_from1802Dir/TNE0936/accept/TNE0936_36499_131671.jpg',\n",
       " '/data/gcs/lungNENomics/work/MathianE/Tiles_512_512_fullHENorm_from1802Dir/TNE0936/accept/TNE0936_52669_17557.jpg',\n",
       " '/data/gcs/lungNENomics/work/MathianE/Tiles_512_512_fullHENorm_from1802Dir/TNE0936/accept/TNE0936_24487_84085.jpg',\n",
       " '/data/gcs/lungNENomics/work/MathianE/Tiles_512_512_fullHENorm_from1802Dir/TNE0936/accept/TNE0936_36499_107647.jpg',\n",
       " '/data/gcs/lungNENomics/work/MathianE/Tiles_512_512_fullHENorm_from1802Dir/TNE0936/accept/TNE0936_29569_129361.jpg',\n",
       " '/data/gcs/lungNENomics/work/MathianE/Tiles_512_512_fullHENorm_from1802Dir/TNE0936/accept/TNE0936_29107_121045.jpg',\n",
       " '/data/gcs/lungNENomics/work/MathianE/Tiles_512_512_fullHENorm_from1802Dir/TNE0936/accept/TNE0936_71149_13861.jpg',\n",
       " '/data/gcs/lungNENomics/work/MathianE/Tiles_512_512_fullHENorm_from1802Dir/TNE0936/accept/TNE0936_33727_94249.jpg',\n",
       " '/data/gcs/lungNENomics/work/MathianE/Tiles_512_512_fullHENorm_from1802Dir/TNE0936/accept/TNE0936_54517_21253.jpg',\n",
       " '/data/gcs/lungNENomics/work/MathianE/Tiles_512_512_fullHENorm_from1802Dir/TNE0936/accept/TNE0936_77617_6469.jpg',\n",
       " '/data/gcs/lungNENomics/work/MathianE/Tiles_512_512_fullHENorm_from1802Dir/TNE0936/accept/TNE0936_49897_34189.jpg',\n",
       " '/data/gcs/lungNENomics/work/MathianE/Tiles_512_512_fullHENorm_from1802Dir/TNE0936/accept/TNE0936_19867_82237.jpg',\n",
       " '/data/gcs/lungNENomics/work/MathianE/Tiles_512_512_fullHENorm_from1802Dir/TNE0936/accept/TNE0936_15709_43429.jpg',\n",
       " '/data/gcs/lungNENomics/work/MathianE/Tiles_512_512_fullHENorm_from1802Dir/TNE0936/accept/TNE0936_1387_76693.jpg',\n",
       " '/data/gcs/lungNENomics/work/MathianE/Tiles_512_512_fullHENorm_from1802Dir/TNE0936/accept/TNE0936_22639_123817.jpg',\n",
       " '/data/gcs/lungNENomics/work/MathianE/Tiles_512_512_fullHENorm_from1802Dir/TNE0936/accept/TNE0936_20791_73921.jpg',\n",
       " '/data/gcs/lungNENomics/work/MathianE/Tiles_512_512_fullHENorm_from1802Dir/TNE0936/accept/TNE0936_13399_103027.jpg',\n",
       " '/data/gcs/lungNENomics/work/MathianE/Tiles_512_512_fullHENorm_from1802Dir/TNE0936/accept/TNE0936_34651_127975.jpg',\n",
       " '/data/gcs/lungNENomics/work/MathianE/Tiles_512_512_fullHENorm_from1802Dir/TNE0936/accept/TNE0936_19867_76231.jpg',\n",
       " '/data/gcs/lungNENomics/work/MathianE/Tiles_512_512_fullHENorm_from1802Dir/TNE0936/accept/TNE0936_27721_109033.jpg',\n",
       " '/data/gcs/lungNENomics/work/MathianE/Tiles_512_512_fullHENorm_from1802Dir/TNE0936/accept/TNE0936_60985_14785.jpg',\n",
       " '/data/gcs/lungNENomics/work/MathianE/Tiles_512_512_fullHENorm_from1802Dir/TNE0936/accept/TNE0936_38809_53593.jpg',\n",
       " '/data/gcs/lungNENomics/work/MathianE/Tiles_512_512_fullHENorm_from1802Dir/TNE0936/accept/TNE0936_36037_123817.jpg',\n",
       " '/data/gcs/lungNENomics/work/MathianE/Tiles_512_512_fullHENorm_from1802Dir/TNE0936/accept/TNE0936_1387_91015.jpg',\n",
       " '/data/gcs/lungNENomics/work/MathianE/Tiles_512_512_fullHENorm_from1802Dir/TNE0936/accept/TNE0936_18481_118735.jpg',\n",
       " '/data/gcs/lungNENomics/work/MathianE/Tiles_512_512_fullHENorm_from1802Dir/TNE0936/accept/TNE0936_30493_82237.jpg',\n",
       " '/data/gcs/lungNENomics/work/MathianE/Tiles_512_512_fullHENorm_from1802Dir/TNE0936/accept/TNE0936_35575_120583.jpg',\n",
       " '/data/gcs/lungNENomics/work/MathianE/Tiles_512_512_fullHENorm_from1802Dir/TNE0936/accept/TNE0936_18943_111343.jpg',\n",
       " '/data/gcs/lungNENomics/work/MathianE/Tiles_512_512_fullHENorm_from1802Dir/TNE0936/accept/TNE0936_17557_45277.jpg',\n",
       " '/data/gcs/lungNENomics/work/MathianE/Tiles_512_512_fullHENorm_from1802Dir/TNE0936/accept/TNE0936_25873_120121.jpg',\n",
       " '/data/gcs/lungNENomics/work/MathianE/Tiles_512_512_fullHENorm_from1802Dir/TNE0936/accept/TNE0936_9703_94711.jpg',\n",
       " '/data/gcs/lungNENomics/work/MathianE/Tiles_512_512_fullHENorm_from1802Dir/TNE0936/accept/TNE0936_32803_120583.jpg',\n",
       " '/data/gcs/lungNENomics/work/MathianE/Tiles_512_512_fullHENorm_from1802Dir/TNE0936/accept/TNE0936_22177_42505.jpg',\n",
       " '/data/gcs/lungNENomics/work/MathianE/Tiles_512_512_fullHENorm_from1802Dir/TNE0936/accept/TNE0936_29569_53593.jpg',\n",
       " '/data/gcs/lungNENomics/work/MathianE/Tiles_512_512_fullHENorm_from1802Dir/TNE0936/accept/TNE0936_8317_89167.jpg',\n",
       " '/data/gcs/lungNENomics/work/MathianE/Tiles_512_512_fullHENorm_from1802Dir/TNE0936/accept/TNE0936_69301_15709.jpg',\n",
       " '/data/gcs/lungNENomics/work/MathianE/Tiles_512_512_fullHENorm_from1802Dir/TNE0936/accept/TNE0936_30031_126127.jpg',\n",
       " '/data/gcs/lungNENomics/work/MathianE/Tiles_512_512_fullHENorm_from1802Dir/TNE0936/accept/TNE0936_20329_101179.jpg',\n",
       " '/data/gcs/lungNENomics/work/MathianE/Tiles_512_512_fullHENorm_from1802Dir/TNE0936/accept/TNE0936_12013_53593.jpg',\n",
       " '/data/gcs/lungNENomics/work/MathianE/Tiles_512_512_fullHENorm_from1802Dir/TNE0936/accept/TNE0936_18943_115963.jpg',\n",
       " '/data/gcs/lungNENomics/work/MathianE/Tiles_512_512_fullHENorm_from1802Dir/TNE0936/accept/TNE0936_51745_12937.jpg',\n",
       " '/data/gcs/lungNENomics/work/MathianE/Tiles_512_512_fullHENorm_from1802Dir/TNE0936/accept/TNE0936_18481_115963.jpg',\n",
       " '/data/gcs/lungNENomics/work/MathianE/Tiles_512_512_fullHENorm_from1802Dir/TNE0936/accept/TNE0936_7855_94249.jpg',\n",
       " '/data/gcs/lungNENomics/work/MathianE/Tiles_512_512_fullHENorm_from1802Dir/TNE0936/accept/TNE0936_18019_119197.jpg',\n",
       " '/data/gcs/lungNENomics/work/MathianE/Tiles_512_512_fullHENorm_from1802Dir/TNE0936/accept/TNE0936_18481_43429.jpg',\n",
       " '/data/gcs/lungNENomics/work/MathianE/Tiles_512_512_fullHENorm_from1802Dir/TNE0936/accept/TNE0936_13399_106723.jpg',\n",
       " '/data/gcs/lungNENomics/work/MathianE/Tiles_512_512_fullHENorm_from1802Dir/TNE0936/accept/TNE0936_28645_81313.jpg',\n",
       " '/data/gcs/lungNENomics/work/MathianE/Tiles_512_512_fullHENorm_from1802Dir/TNE0936/accept/TNE0936_9241_51745.jpg',\n",
       " '/data/gcs/lungNENomics/work/MathianE/Tiles_512_512_fullHENorm_from1802Dir/TNE0936/accept/TNE0936_40657_122893.jpg',\n",
       " '/data/gcs/lungNENomics/work/MathianE/Tiles_512_512_fullHENorm_from1802Dir/TNE0936/accept/TNE0936_14323_90553.jpg',\n",
       " '/data/gcs/lungNENomics/work/MathianE/Tiles_512_512_fullHENorm_from1802Dir/TNE0936/accept/TNE0936_24949_128437.jpg',\n",
       " '/data/gcs/lungNENomics/work/MathianE/Tiles_512_512_fullHENorm_from1802Dir/TNE0936/accept/TNE0936_34189_32341.jpg',\n",
       " '/data/gcs/lungNENomics/work/MathianE/Tiles_512_512_fullHENorm_from1802Dir/TNE0936/accept/TNE0936_37885_46201.jpg',\n",
       " '/data/gcs/lungNENomics/work/MathianE/Tiles_512_512_fullHENorm_from1802Dir/TNE0936/accept/TNE0936_18481_75769.jpg',\n",
       " '/data/gcs/lungNENomics/work/MathianE/Tiles_512_512_fullHENorm_from1802Dir/TNE0936/accept/TNE0936_34189_121045.jpg',\n",
       " '/data/gcs/lungNENomics/work/MathianE/Tiles_512_512_fullHENorm_from1802Dir/TNE0936/accept/TNE0936_14785_55441.jpg',\n",
       " '/data/gcs/lungNENomics/work/MathianE/Tiles_512_512_fullHENorm_from1802Dir/TNE0936/accept/TNE0936_31879_128437.jpg',\n",
       " '/data/gcs/lungNENomics/work/MathianE/Tiles_512_512_fullHENorm_from1802Dir/TNE0936/accept/TNE0936_39271_127513.jpg',\n",
       " '/data/gcs/lungNENomics/work/MathianE/Tiles_512_512_fullHENorm_from1802Dir/TNE0936/accept/TNE0936_16633_85009.jpg',\n",
       " '/data/gcs/lungNENomics/work/MathianE/Tiles_512_512_fullHENorm_from1802Dir/TNE0936/accept/TNE0936_19867_80389.jpg',\n",
       " '/data/gcs/lungNENomics/work/MathianE/Tiles_512_512_fullHENorm_from1802Dir/TNE0936/accept/TNE0936_63757_24949.jpg',\n",
       " '/data/gcs/lungNENomics/work/MathianE/Tiles_512_512_fullHENorm_from1802Dir/TNE0936/accept/TNE0936_60061_13861.jpg',\n",
       " '/data/gcs/lungNENomics/work/MathianE/Tiles_512_512_fullHENorm_from1802Dir/TNE0936/accept/TNE0936_17557_86857.jpg',\n",
       " '/data/gcs/lungNENomics/work/MathianE/Tiles_512_512_fullHENorm_from1802Dir/TNE0936/accept/TNE0936_12937_89629.jpg',\n",
       " '/data/gcs/lungNENomics/work/MathianE/Tiles_512_512_fullHENorm_from1802Dir/TNE0936/accept/TNE0936_26335_134443.jpg',\n",
       " '/data/gcs/lungNENomics/work/MathianE/Tiles_512_512_fullHENorm_from1802Dir/TNE0936/accept/TNE0936_32803_133057.jpg',\n",
       " '/data/gcs/lungNENomics/work/MathianE/Tiles_512_512_fullHENorm_from1802Dir/TNE0936/accept/TNE0936_16171_92401.jpg',\n",
       " '/data/gcs/lungNENomics/work/MathianE/Tiles_512_512_fullHENorm_from1802Dir/TNE0936/accept/TNE0936_16171_97945.jpg',\n",
       " '/data/gcs/lungNENomics/work/MathianE/Tiles_512_512_fullHENorm_from1802Dir/TNE0936/accept/TNE0936_30493_83161.jpg',\n",
       " '/data/gcs/lungNENomics/work/MathianE/Tiles_512_512_fullHENorm_from1802Dir/TNE0936/accept/TNE0936_1387_90553.jpg',\n",
       " '/data/gcs/lungNENomics/work/MathianE/Tiles_512_512_fullHENorm_from1802Dir/TNE0936/accept/TNE0936_6931_79003.jpg',\n",
       " '/data/gcs/lungNENomics/work/MathianE/Tiles_512_512_fullHENorm_from1802Dir/TNE0936/accept/TNE0936_33727_115039.jpg',\n",
       " '/data/gcs/lungNENomics/work/MathianE/Tiles_512_512_fullHENorm_from1802Dir/TNE0936/accept/TNE0936_29569_117349.jpg',\n",
       " '/data/gcs/lungNENomics/work/MathianE/Tiles_512_512_fullHENorm_from1802Dir/TNE0936/accept/TNE0936_31879_128899.jpg',\n",
       " '/data/gcs/lungNENomics/work/MathianE/Tiles_512_512_fullHENorm_from1802Dir/TNE0936/accept/TNE0936_75769_30493.jpg',\n",
       " '/data/gcs/lungNENomics/work/MathianE/Tiles_512_512_fullHENorm_from1802Dir/TNE0936/accept/TNE0936_16171_101179.jpg',\n",
       " '/data/gcs/lungNENomics/work/MathianE/Tiles_512_512_fullHENorm_from1802Dir/TNE0936/accept/TNE0936_29107_133981.jpg',\n",
       " '/data/gcs/lungNENomics/work/MathianE/Tiles_512_512_fullHENorm_from1802Dir/TNE0936/accept/TNE0936_34189_33265.jpg',\n",
       " '/data/gcs/lungNENomics/work/MathianE/Tiles_512_512_fullHENorm_from1802Dir/TNE0936/accept/TNE0936_33727_139525.jpg',\n",
       " '/data/gcs/lungNENomics/work/MathianE/Tiles_512_512_fullHENorm_from1802Dir/TNE0936/accept/TNE0936_30031_119659.jpg',\n",
       " '/data/gcs/lungNENomics/work/MathianE/Tiles_512_512_fullHENorm_from1802Dir/TNE0936/accept/TNE0936_19867_92401.jpg',\n",
       " '/data/gcs/lungNENomics/work/MathianE/Tiles_512_512_fullHENorm_from1802Dir/TNE0936/accept/TNE0936_16633_55441.jpg',\n",
       " '/data/gcs/lungNENomics/work/MathianE/Tiles_512_512_fullHENorm_from1802Dir/TNE0936/accept/TNE0936_63757_14785.jpg',\n",
       " '/data/gcs/lungNENomics/work/MathianE/Tiles_512_512_fullHENorm_from1802Dir/TNE0936/accept/TNE0936_5545_101641.jpg',\n",
       " '/data/gcs/lungNENomics/work/MathianE/Tiles_512_512_fullHENorm_from1802Dir/TNE0936/accept/TNE0936_30955_87781.jpg',\n",
       " '/data/gcs/lungNENomics/work/MathianE/Tiles_512_512_fullHENorm_from1802Dir/TNE0936/accept/TNE0936_16633_85933.jpg',\n",
       " '/data/gcs/lungNENomics/work/MathianE/Tiles_512_512_fullHENorm_from1802Dir/TNE0936/accept/TNE0936_11089_46201.jpg',\n",
       " '/data/gcs/lungNENomics/work/MathianE/Tiles_512_512_fullHENorm_from1802Dir/TNE0936/accept/TNE0936_39733_124741.jpg',\n",
       " '/data/gcs/lungNENomics/work/MathianE/Tiles_512_512_fullHENorm_from1802Dir/TNE0936/accept/TNE0936_10165_94711.jpg',\n",
       " '/data/gcs/lungNENomics/work/MathianE/Tiles_512_512_fullHENorm_from1802Dir/TNE0936/accept/TNE0936_25873_118273.jpg',\n",
       " '/data/gcs/lungNENomics/work/MathianE/Tiles_512_512_fullHENorm_from1802Dir/TNE0936/accept/TNE0936_17095_96559.jpg',\n",
       " '/data/gcs/lungNENomics/work/MathianE/Tiles_512_512_fullHENorm_from1802Dir/TNE0936/accept/TNE0936_14323_109033.jpg',\n",
       " '/data/gcs/lungNENomics/work/MathianE/Tiles_512_512_fullHENorm_from1802Dir/TNE0936/accept/TNE0936_14785_90553.jpg',\n",
       " '/data/gcs/lungNENomics/work/MathianE/Tiles_512_512_fullHENorm_from1802Dir/TNE0936/accept/TNE0936_20791_83161.jpg',\n",
       " '/data/gcs/lungNENomics/work/MathianE/Tiles_512_512_fullHENorm_from1802Dir/TNE0936/accept/TNE0936_33727_119197.jpg',\n",
       " '/data/gcs/lungNENomics/work/MathianE/Tiles_512_512_fullHENorm_from1802Dir/TNE0936/accept/TNE0936_11089_94249.jpg',\n",
       " '/data/gcs/lungNENomics/work/MathianE/Tiles_512_512_fullHENorm_from1802Dir/TNE0936/accept/TNE0936_36961_44353.jpg',\n",
       " '/data/gcs/lungNENomics/work/MathianE/Tiles_512_512_fullHENorm_from1802Dir/TNE0936/accept/TNE0936_36961_121507.jpg',\n",
       " '/data/gcs/lungNENomics/work/MathianE/Tiles_512_512_fullHENorm_from1802Dir/TNE0936/accept/TNE0936_27721_102103.jpg',\n",
       " '/data/gcs/lungNENomics/work/MathianE/Tiles_512_512_fullHENorm_from1802Dir/TNE0936/accept/TNE0936_18481_40657.jpg',\n",
       " '/data/gcs/lungNENomics/work/MathianE/Tiles_512_512_fullHENorm_from1802Dir/TNE0936/accept/TNE0936_18943_109033.jpg',\n",
       " '/data/gcs/lungNENomics/work/MathianE/Tiles_512_512_fullHENorm_from1802Dir/TNE0936/accept/TNE0936_28645_129361.jpg',\n",
       " '/data/gcs/lungNENomics/work/MathianE/Tiles_512_512_fullHENorm_from1802Dir/TNE0936/accept/TNE0936_31417_127975.jpg',\n",
       " '/data/gcs/lungNENomics/work/MathianE/Tiles_512_512_fullHENorm_from1802Dir/TNE0936/accept/TNE0936_22177_79927.jpg',\n",
       " '/data/gcs/lungNENomics/work/MathianE/Tiles_512_512_fullHENorm_from1802Dir/TNE0936/accept/TNE0936_37423_116425.jpg',\n",
       " '/data/gcs/lungNENomics/work/MathianE/Tiles_512_512_fullHENorm_from1802Dir/TNE0936/accept/TNE0936_15709_95173.jpg',\n",
       " '/data/gcs/lungNENomics/work/MathianE/Tiles_512_512_fullHENorm_from1802Dir/TNE0936/accept/TNE0936_20329_109033.jpg',\n",
       " '/data/gcs/lungNENomics/work/MathianE/Tiles_512_512_fullHENorm_from1802Dir/TNE0936/accept/TNE0936_55441_20329.jpg',\n",
       " '/data/gcs/lungNENomics/work/MathianE/Tiles_512_512_fullHENorm_from1802Dir/TNE0936/accept/TNE0936_32803_116425.jpg',\n",
       " '/data/gcs/lungNENomics/work/MathianE/Tiles_512_512_fullHENorm_from1802Dir/TNE0936/accept/TNE0936_1849_84085.jpg',\n",
       " '/data/gcs/lungNENomics/work/MathianE/Tiles_512_512_fullHENorm_from1802Dir/TNE0936/accept/TNE0936_17557_112729.jpg',\n",
       " '/data/gcs/lungNENomics/work/MathianE/Tiles_512_512_fullHENorm_from1802Dir/TNE0936/accept/TNE0936_37423_109495.jpg',\n",
       " '/data/gcs/lungNENomics/work/MathianE/Tiles_512_512_fullHENorm_from1802Dir/TNE0936/accept/TNE0936_28645_104413.jpg',\n",
       " '/data/gcs/lungNENomics/work/MathianE/Tiles_512_512_fullHENorm_from1802Dir/TNE0936/accept/TNE0936_50821_47125.jpg',\n",
       " '/data/gcs/lungNENomics/work/MathianE/Tiles_512_512_fullHENorm_from1802Dir/TNE0936/accept/TNE0936_9703_88705.jpg',\n",
       " '/data/gcs/lungNENomics/work/MathianE/Tiles_512_512_fullHENorm_from1802Dir/TNE0936/accept/TNE0936_23563_76231.jpg',\n",
       " '/data/gcs/lungNENomics/work/MathianE/Tiles_512_512_fullHENorm_from1802Dir/TNE0936/accept/TNE0936_14785_104413.jpg',\n",
       " '/data/gcs/lungNENomics/work/MathianE/Tiles_512_512_fullHENorm_from1802Dir/TNE0936/accept/TNE0936_7855_90091.jpg',\n",
       " '/data/gcs/lungNENomics/work/MathianE/Tiles_512_512_fullHENorm_from1802Dir/TNE0936/accept/TNE0936_23101_119197.jpg',\n",
       " '/data/gcs/lungNENomics/work/MathianE/Tiles_512_512_fullHENorm_from1802Dir/TNE0936/accept/TNE0936_31417_119197.jpg',\n",
       " '/data/gcs/lungNENomics/work/MathianE/Tiles_512_512_fullHENorm_from1802Dir/TNE0936/accept/TNE0936_18943_92401.jpg',\n",
       " '/data/gcs/lungNENomics/work/MathianE/Tiles_512_512_fullHENorm_from1802Dir/TNE0936/accept/TNE0936_28645_43429.jpg',\n",
       " '/data/gcs/lungNENomics/work/MathianE/Tiles_512_512_fullHENorm_from1802Dir/TNE0936/accept/TNE0936_26797_75769.jpg',\n",
       " '/data/gcs/lungNENomics/work/MathianE/Tiles_512_512_fullHENorm_from1802Dir/TNE0936/accept/TNE0936_10627_97945.jpg',\n",
       " '/data/gcs/lungNENomics/work/MathianE/Tiles_512_512_fullHENorm_from1802Dir/TNE0936/accept/TNE0936_17095_90091.jpg',\n",
       " '/data/gcs/lungNENomics/work/MathianE/Tiles_512_512_fullHENorm_from1802Dir/TNE0936/accept/TNE0936_4621_48049.jpg',\n",
       " '/data/gcs/lungNENomics/work/MathianE/Tiles_512_512_fullHENorm_from1802Dir/TNE0936/accept/TNE0936_7855_89167.jpg',\n",
       " '/data/gcs/lungNENomics/work/MathianE/Tiles_512_512_fullHENorm_from1802Dir/TNE0936/accept/TNE0936_71149_24025.jpg',\n",
       " '/data/gcs/lungNENomics/work/MathianE/Tiles_512_512_fullHENorm_from1802Dir/TNE0936/accept/TNE0936_17095_87319.jpg',\n",
       " '/data/gcs/lungNENomics/work/MathianE/Tiles_512_512_fullHENorm_from1802Dir/TNE0936/accept/TNE0936_20329_105337.jpg',\n",
       " '/data/gcs/lungNENomics/work/MathianE/Tiles_512_512_fullHENorm_from1802Dir/TNE0936/accept/TNE0936_38809_121507.jpg',\n",
       " '/data/gcs/lungNENomics/work/MathianE/Tiles_512_512_fullHENorm_from1802Dir/TNE0936/accept/TNE0936_33265_133981.jpg',\n",
       " '/data/gcs/lungNENomics/work/MathianE/Tiles_512_512_fullHENorm_from1802Dir/TNE0936/accept/TNE0936_19405_106723.jpg',\n",
       " '/data/gcs/lungNENomics/work/MathianE/Tiles_512_512_fullHENorm_from1802Dir/TNE0936/accept/TNE0936_18943_110881.jpg',\n",
       " '/data/gcs/lungNENomics/work/MathianE/Tiles_512_512_fullHENorm_from1802Dir/TNE0936/accept/TNE0936_24025_131209.jpg',\n",
       " '/data/gcs/lungNENomics/work/MathianE/Tiles_512_512_fullHENorm_from1802Dir/TNE0936/accept/TNE0936_4621_92863.jpg',\n",
       " '/data/gcs/lungNENomics/work/MathianE/Tiles_512_512_fullHENorm_from1802Dir/TNE0936/accept/TNE0936_22177_85009.jpg',\n",
       " '/data/gcs/lungNENomics/work/MathianE/Tiles_512_512_fullHENorm_from1802Dir/TNE0936/accept/TNE0936_35113_123817.jpg',\n",
       " '/data/gcs/lungNENomics/work/MathianE/Tiles_512_512_fullHENorm_from1802Dir/TNE0936/accept/TNE0936_21715_82699.jpg',\n",
       " '/data/gcs/lungNENomics/work/MathianE/Tiles_512_512_fullHENorm_from1802Dir/TNE0936/accept/TNE0936_27721_112267.jpg',\n",
       " '/data/gcs/lungNENomics/work/MathianE/Tiles_512_512_fullHENorm_from1802Dir/TNE0936/accept/TNE0936_64681_24949.jpg',\n",
       " '/data/gcs/lungNENomics/work/MathianE/Tiles_512_512_fullHENorm_from1802Dir/TNE0936/accept/TNE0936_30955_88705.jpg',\n",
       " '/data/gcs/lungNENomics/work/MathianE/Tiles_512_512_fullHENorm_from1802Dir/TNE0936/accept/TNE0936_27259_77155.jpg',\n",
       " '/data/gcs/lungNENomics/work/MathianE/Tiles_512_512_fullHENorm_from1802Dir/TNE0936/accept/TNE0936_42505_28645.jpg',\n",
       " '/data/gcs/lungNENomics/work/MathianE/Tiles_512_512_fullHENorm_from1802Dir/TNE0936/accept/TNE0936_40195_115501.jpg',\n",
       " '/data/gcs/lungNENomics/work/MathianE/Tiles_512_512_fullHENorm_from1802Dir/TNE0936/accept/TNE0936_12475_85471.jpg',\n",
       " '/data/gcs/lungNENomics/work/MathianE/Tiles_512_512_fullHENorm_from1802Dir/TNE0936/accept/TNE0936_30493_27721.jpg',\n",
       " '/data/gcs/lungNENomics/work/MathianE/Tiles_512_512_fullHENorm_from1802Dir/TNE0936/accept/TNE0936_37885_111805.jpg',\n",
       " '/data/gcs/lungNENomics/work/MathianE/Tiles_512_512_fullHENorm_from1802Dir/TNE0936/accept/TNE0936_29569_92401.jpg',\n",
       " '/data/gcs/lungNENomics/work/MathianE/Tiles_512_512_fullHENorm_from1802Dir/TNE0936/accept/TNE0936_3235_87781.jpg',\n",
       " '/data/gcs/lungNENomics/work/MathianE/Tiles_512_512_fullHENorm_from1802Dir/TNE0936/accept/TNE0936_36499_126127.jpg',\n",
       " '/data/gcs/lungNENomics/work/MathianE/Tiles_512_512_fullHENorm_from1802Dir/TNE0936/accept/TNE0936_17095_82699.jpg',\n",
       " '/data/gcs/lungNENomics/work/MathianE/Tiles_512_512_fullHENorm_from1802Dir/TNE0936/accept/TNE0936_24025_44353.jpg',\n",
       " '/data/gcs/lungNENomics/work/MathianE/Tiles_512_512_fullHENorm_from1802Dir/TNE0936/accept/TNE0936_85933_31417.jpg',\n",
       " '/data/gcs/lungNENomics/work/MathianE/Tiles_512_512_fullHENorm_from1802Dir/TNE0936/accept/TNE0936_17095_105337.jpg',\n",
       " '/data/gcs/lungNENomics/work/MathianE/Tiles_512_512_fullHENorm_from1802Dir/TNE0936/accept/TNE0936_84085_31417.jpg',\n",
       " '/data/gcs/lungNENomics/work/MathianE/Tiles_512_512_fullHENorm_from1802Dir/TNE0936/accept/TNE0936_39271_121507.jpg',\n",
       " '/data/gcs/lungNENomics/work/MathianE/Tiles_512_512_fullHENorm_from1802Dir/TNE0936/accept/TNE0936_6007_90091.jpg',\n",
       " '/data/gcs/lungNENomics/work/MathianE/Tiles_512_512_fullHENorm_from1802Dir/TNE0936/accept/TNE0936_2311_76231.jpg',\n",
       " '/data/gcs/lungNENomics/work/MathianE/Tiles_512_512_fullHENorm_from1802Dir/TNE0936/accept/TNE0936_32341_135367.jpg',\n",
       " '/data/gcs/lungNENomics/work/MathianE/Tiles_512_512_fullHENorm_from1802Dir/TNE0936/accept/TNE0936_20329_119659.jpg',\n",
       " '/data/gcs/lungNENomics/work/MathianE/Tiles_512_512_fullHENorm_from1802Dir/TNE0936/accept/TNE0936_25873_133981.jpg',\n",
       " '/data/gcs/lungNENomics/work/MathianE/Tiles_512_512_fullHENorm_from1802Dir/TNE0936/accept/TNE0936_41119_124741.jpg',\n",
       " '/data/gcs/lungNENomics/work/MathianE/Tiles_512_512_fullHENorm_from1802Dir/TNE0936/accept/TNE0936_6931_88243.jpg',\n",
       " '/data/gcs/lungNENomics/work/MathianE/Tiles_512_512_fullHENorm_from1802Dir/TNE0936/accept/TNE0936_32341_128899.jpg',\n",
       " '/data/gcs/lungNENomics/work/MathianE/Tiles_512_512_fullHENorm_from1802Dir/TNE0936/accept/TNE0936_34651_118735.jpg',\n",
       " '/data/gcs/lungNENomics/work/MathianE/Tiles_512_512_fullHENorm_from1802Dir/TNE0936/accept/TNE0936_38347_113191.jpg',\n",
       " '/data/gcs/lungNENomics/work/MathianE/Tiles_512_512_fullHENorm_from1802Dir/TNE0936/accept/TNE0936_32341_125665.jpg',\n",
       " '/data/gcs/lungNENomics/work/MathianE/Tiles_512_512_fullHENorm_from1802Dir/TNE0936/accept/TNE0936_42505_21253.jpg',\n",
       " '/data/gcs/lungNENomics/work/MathianE/Tiles_512_512_fullHENorm_from1802Dir/TNE0936/accept/TNE0936_20791_97483.jpg',\n",
       " '/data/gcs/lungNENomics/work/MathianE/Tiles_512_512_fullHENorm_from1802Dir/TNE0936/accept/TNE0936_88705_36037.jpg',\n",
       " '/data/gcs/lungNENomics/work/MathianE/Tiles_512_512_fullHENorm_from1802Dir/TNE0936/accept/TNE0936_36961_124741.jpg',\n",
       " '/data/gcs/lungNENomics/work/MathianE/Tiles_512_512_fullHENorm_from1802Dir/TNE0936/accept/TNE0936_32803_95635.jpg',\n",
       " '/data/gcs/lungNENomics/work/MathianE/Tiles_512_512_fullHENorm_from1802Dir/TNE0936/accept/TNE0936_87781_28645.jpg',\n",
       " '/data/gcs/lungNENomics/work/MathianE/Tiles_512_512_fullHENorm_from1802Dir/TNE0936/accept/TNE0936_49897_48049.jpg',\n",
       " '/data/gcs/lungNENomics/work/MathianE/Tiles_512_512_fullHENorm_from1802Dir/TNE0936/accept/TNE0936_30493_36961.jpg',\n",
       " '/data/gcs/lungNENomics/work/MathianE/Tiles_512_512_fullHENorm_from1802Dir/TNE0936/accept/TNE0936_22639_120121.jpg',\n",
       " '/data/gcs/lungNENomics/work/MathianE/Tiles_512_512_fullHENorm_from1802Dir/TNE0936/accept/TNE0936_14785_106723.jpg',\n",
       " '/data/gcs/lungNENomics/work/MathianE/Tiles_512_512_fullHENorm_from1802Dir/TNE0936/accept/TNE0936_22177_98407.jpg',\n",
       " '/data/gcs/lungNENomics/work/MathianE/Tiles_512_512_fullHENorm_from1802Dir/TNE0936/accept/TNE0936_69301_40657.jpg',\n",
       " '/data/gcs/lungNENomics/work/MathianE/Tiles_512_512_fullHENorm_from1802Dir/TNE0936/accept/TNE0936_27259_133519.jpg',\n",
       " '/data/gcs/lungNENomics/work/MathianE/Tiles_512_512_fullHENorm_from1802Dir/TNE0936/accept/TNE0936_38347_128437.jpg',\n",
       " '/data/gcs/lungNENomics/work/MathianE/Tiles_512_512_fullHENorm_from1802Dir/TNE0936/accept/TNE0936_12013_105799.jpg',\n",
       " '/data/gcs/lungNENomics/work/MathianE/Tiles_512_512_fullHENorm_from1802Dir/TNE0936/accept/TNE0936_30493_130285.jpg',\n",
       " '/data/gcs/lungNENomics/work/MathianE/Tiles_512_512_fullHENorm_from1802Dir/TNE0936/accept/TNE0936_20329_86395.jpg',\n",
       " '/data/gcs/lungNENomics/work/MathianE/Tiles_512_512_fullHENorm_from1802Dir/TNE0936/accept/TNE0936_22177_87319.jpg',\n",
       " '/data/gcs/lungNENomics/work/MathianE/Tiles_512_512_fullHENorm_from1802Dir/TNE0936/accept/TNE0936_11089_107185.jpg',\n",
       " '/data/gcs/lungNENomics/work/MathianE/Tiles_512_512_fullHENorm_from1802Dir/TNE0936/accept/TNE0936_34189_135829.jpg',\n",
       " '/data/gcs/lungNENomics/work/MathianE/Tiles_512_512_fullHENorm_from1802Dir/TNE0936/accept/TNE0936_49897_31417.jpg',\n",
       " '/data/gcs/lungNENomics/work/MathianE/Tiles_512_512_fullHENorm_from1802Dir/TNE0936/accept/TNE0936_87781_20329.jpg',\n",
       " '/data/gcs/lungNENomics/work/MathianE/Tiles_512_512_fullHENorm_from1802Dir/TNE0936/accept/TNE0936_19867_79465.jpg',\n",
       " '/data/gcs/lungNENomics/work/MathianE/Tiles_512_512_fullHENorm_from1802Dir/TNE0936/accept/TNE0936_6007_102103.jpg',\n",
       " '/data/gcs/lungNENomics/work/MathianE/Tiles_512_512_fullHENorm_from1802Dir/TNE0936/accept/TNE0936_13399_98869.jpg',\n",
       " '/data/gcs/lungNENomics/work/MathianE/Tiles_512_512_fullHENorm_from1802Dir/TNE0936/accept/TNE0936_35575_117349.jpg',\n",
       " '/data/gcs/lungNENomics/work/MathianE/Tiles_512_512_fullHENorm_from1802Dir/TNE0936/accept/TNE0936_52669_18481.jpg',\n",
       " '/data/gcs/lungNENomics/work/MathianE/Tiles_512_512_fullHENorm_from1802Dir/TNE0936/accept/TNE0936_32803_124741.jpg',\n",
       " '/data/gcs/lungNENomics/work/MathianE/Tiles_512_512_fullHENorm_from1802Dir/TNE0936/accept/TNE0936_14785_87781.jpg',\n",
       " '/data/gcs/lungNENomics/work/MathianE/Tiles_512_512_fullHENorm_from1802Dir/TNE0936/accept/TNE0936_62833_25873.jpg',\n",
       " '/data/gcs/lungNENomics/work/MathianE/Tiles_512_512_fullHENorm_from1802Dir/TNE0936/accept/TNE0936_10627_92401.jpg',\n",
       " '/data/gcs/lungNENomics/work/MathianE/Tiles_512_512_fullHENorm_from1802Dir/TNE0936/accept/TNE0936_16171_93325.jpg',\n",
       " '/data/gcs/lungNENomics/work/MathianE/Tiles_512_512_fullHENorm_from1802Dir/TNE0936/accept/TNE0936_18019_92863.jpg',\n",
       " '/data/gcs/lungNENomics/work/MathianE/Tiles_512_512_fullHENorm_from1802Dir/TNE0936/accept/TNE0936_91477_35113.jpg',\n",
       " '/data/gcs/lungNENomics/work/MathianE/Tiles_512_512_fullHENorm_from1802Dir/TNE0936/accept/TNE0936_15709_86857.jpg',\n",
       " '/data/gcs/lungNENomics/work/MathianE/Tiles_512_512_fullHENorm_from1802Dir/TNE0936/accept/TNE0936_38809_127975.jpg',\n",
       " '/data/gcs/lungNENomics/work/MathianE/Tiles_512_512_fullHENorm_from1802Dir/TNE0936/accept/TNE0936_39733_123355.jpg',\n",
       " '/data/gcs/lungNENomics/work/MathianE/Tiles_512_512_fullHENorm_from1802Dir/TNE0936/accept/TNE0936_29569_124279.jpg',\n",
       " '/data/gcs/lungNENomics/work/MathianE/Tiles_512_512_fullHENorm_from1802Dir/TNE0936/accept/TNE0936_36037_32341.jpg',\n",
       " '/data/gcs/lungNENomics/work/MathianE/Tiles_512_512_fullHENorm_from1802Dir/TNE0936/accept/TNE0936_17557_84547.jpg',\n",
       " '/data/gcs/lungNENomics/work/MathianE/Tiles_512_512_fullHENorm_from1802Dir/TNE0936/accept/TNE0936_38347_127051.jpg',\n",
       " ...]"
      ]
     },
     "execution_count": 63,
     "metadata": {},
     "output_type": "execute_result"
    }
   ],
   "source": [
    "lib['Tiles'][len(lib['Slides']) - 3]"
   ]
  },
  {
   "cell_type": "code",
   "execution_count": null,
   "id": "8b98383b",
   "metadata": {},
   "outputs": [],
   "source": []
  }
 ],
 "metadata": {
  "kernelspec": {
   "display_name": "Python [conda env:ImgProcess]",
   "language": "python",
   "name": "conda-env-ImgProcess-py"
  },
  "language_info": {
   "codemirror_mode": {
    "name": "ipython",
    "version": 3
   },
   "file_extension": ".py",
   "mimetype": "text/x-python",
   "name": "python",
   "nbconvert_exporter": "python",
   "pygments_lexer": "ipython3",
   "version": "3.6.10"
  }
 },
 "nbformat": 4,
 "nbformat_minor": 5
}
